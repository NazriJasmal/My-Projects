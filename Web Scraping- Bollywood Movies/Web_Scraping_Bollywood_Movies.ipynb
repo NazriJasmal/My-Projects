{
  "nbformat": 4,
  "nbformat_minor": 0,
  "metadata": {
    "colab": {
      "provenance": []
    },
    "kernelspec": {
      "name": "python3",
      "display_name": "Python 3"
    },
    "language_info": {
      "name": "python"
    }
  },
  "cells": [
    {
      "cell_type": "markdown",
      "source": [
        "\n",
        "## Task: Web Scraping\n",
        "\n",
        "Your task is to scrape all Hindi movies data, including name, year, director, rating, genre, top 5 cast, and image poster, and update this information in an Excel sheet. Scraping the data is at your discretion; you can scrape from any website.\n",
        "\n",
        "Note:\n",
        "\n",
        "* In the image column, you need to scrape the URL for the particular movie image.\n",
        "* You have to submit your Excel sheet along with the Python script with clear documentation.\n",
        "\n",
        "\n",
        "\n"
      ],
      "metadata": {
        "id": "xbzi2UwGnLrg"
      }
    },
    {
      "cell_type": "markdown",
      "source": [
        "## Import Modules"
      ],
      "metadata": {
        "id": "8NIMdncBYBf2"
      }
    },
    {
      "cell_type": "code",
      "execution_count": 1,
      "metadata": {
        "id": "I2_W6ga0qUA_"
      },
      "outputs": [],
      "source": [
        "import pandas as pd\n",
        "import requests\n",
        "from bs4 import BeautifulSoup\n"
      ]
    },
    {
      "cell_type": "markdown",
      "source": [
        "## Request page source from URL"
      ],
      "metadata": {
        "id": "Iq-ueBVMX5bO"
      }
    },
    {
      "cell_type": "code",
      "source": [
        "# URL of the IMDb page\n",
        "url = 'https://www.imdb.com/list/ls004221468/'\n",
        "response = requests.get(url)\n",
        "response"
      ],
      "metadata": {
        "colab": {
          "base_uri": "https://localhost:8080/"
        },
        "id": "7ZorTCXtY_vt",
        "outputId": "2e226677-d858-4ae5-896e-1191f1b4883b"
      },
      "execution_count": 2,
      "outputs": [
        {
          "output_type": "execute_result",
          "data": {
            "text/plain": [
              "<Response [403]>"
            ]
          },
          "metadata": {},
          "execution_count": 2
        }
      ]
    },
    {
      "cell_type": "code",
      "source": [
        "# URL of the IMDb page\n",
        "url = 'https://www.imdb.com/list/ls004221468/'\n",
        "headers = {'User-Agent': 'Mozilla/5.0 (Windows NT 10.0; Win64; x64) AppleWebKit/537.36 (KHTML, like Gecko) Chrome/91.0.4472.124 Safari/537.36'}\n",
        "response = requests.get(url, headers=headers)\n",
        "response"
      ],
      "metadata": {
        "id": "z5EkaNSb3Rf8",
        "colab": {
          "base_uri": "https://localhost:8080/"
        },
        "outputId": "35ba031b-088f-4d8b-d5db-37eb55e497ba"
      },
      "execution_count": 3,
      "outputs": [
        {
          "output_type": "execute_result",
          "data": {
            "text/plain": [
              "<Response [200]>"
            ]
          },
          "metadata": {},
          "execution_count": 3
        }
      ]
    },
    {
      "cell_type": "code",
      "source": [
        "# Check if the request was successful\n",
        "if response.status_code == 200:\n",
        "    print(\"Request was successful.\")\n",
        "else:\n",
        "    print(f\"Request failed with status code: {response.status_code}\")"
      ],
      "metadata": {
        "colab": {
          "base_uri": "https://localhost:8080/"
        },
        "id": "e3AsMPLM1LuB",
        "outputId": "0c7256e3-938f-4665-f232-6969c74b102c"
      },
      "execution_count": 4,
      "outputs": [
        {
          "output_type": "stream",
          "name": "stdout",
          "text": [
            "Request was successful.\n"
          ]
        }
      ]
    },
    {
      "cell_type": "code",
      "source": [
        "## display the page content\n",
        "# response.content"
      ],
      "metadata": {
        "id": "zZx_LKcgZERi"
      },
      "execution_count": 5,
      "outputs": []
    },
    {
      "cell_type": "code",
      "source": [
        "soup = BeautifulSoup(response.content, 'html.parser')\n",
        "#print(soup.prettify())"
      ],
      "metadata": {
        "id": "KFuvREskZNRf"
      },
      "execution_count": 6,
      "outputs": []
    },
    {
      "cell_type": "code",
      "source": [
        "# Function to get movie details from IMDb page\n",
        "def get_movie_details(movie_link, headers):\n",
        "    # Function to get movie details from IMDb page\n",
        "    response = requests.get(movie_link, headers=headers)\n",
        "    soup = BeautifulSoup(response.content, 'html.parser')\n",
        "    cast_tags= soup.find_all('a', class_='sc-bfec09a1-1 gCQkeh')\n",
        "    # Extract the top 5 cast names\n",
        "    top_5_cast = [tag.text for tag in cast_tags[:5]]\n",
        "    genre_tags=soup.find_all('a', class_=\"ipc-chip ipc-chip--on-baseAlt\")\n",
        "    genre=[tag.find('span', class_='ipc-chip__text').text for tag in genre_tags]\n",
        "    #print(top_5_cast)\n",
        "    #print(genre)\n",
        "    return genre, ', '.join(top_5_cast)"
      ],
      "metadata": {
        "id": "ggL0ZEUvyHIJ"
      },
      "execution_count": 7,
      "outputs": []
    },
    {
      "cell_type": "code",
      "source": [
        "# Lists to store the movie data\n",
        "movies = []\n",
        "\n",
        "# Find all movie containers\n",
        "movie_containers = soup.find_all('div', class_='ipc-metadata-list-summary-item__c')\n",
        "\n",
        "#print(movie_containers)\n",
        "\n",
        "# Loop through each movie container to extract data\n",
        "for container in movie_containers:\n",
        "  # Movie name and year\n",
        "  Name = container.find('h3', class_='ipc-title__text').text.strip('()')\n",
        "  # Remove leading numbers and periods from movie name\n",
        "  Movie_Name = ' '.join(Name.split(' ')[1:])\n",
        "  #print(Movie_Name)\n",
        "  Year = container.find('span', class_='sc-b189961a-8 kLaxqf dli-title-metadata-item').text.strip('()')\n",
        "  #print(Year)\n",
        "  director_tags = container.find_all('span', class_='sc-74bf520e-5 ePoirh')\n",
        "  director_tags1=[tag.find('a', class_='ipc-link ipc-link--base dli-director-item') for tag in director_tags]\n",
        "  Director = [director.text for director in director_tags1 if director is not None]\n",
        "\n",
        "  #print(Director)\n",
        "  Rating = container.find('span', class_='ipc-rating-star--rating').text.strip('()')\n",
        "  #print(Rating)\n",
        "  #Cast = container.find('span', class_='sc-74bf520e-5 ePoirh').find('a')\n",
        "  #print(Cast)\n",
        "  # Image URL\n",
        "  image_tag = container.find('img')\n",
        "  image_url = image_tag['src'] if image_tag else 'N/A'\n",
        "  #print(image_url)\n",
        "\n",
        "  link=container.find('a')['href']\n",
        "  #print(link)\n",
        "  # Extract the link to the movie's individual page\n",
        "  movie_link = 'https://www.imdb.com' + link\n",
        "  #print(movie_link)\n",
        "\n",
        "  # Get genre and top 5 cast from the movie's individual page\n",
        "  genre, top_5_cast = get_movie_details(movie_link, headers)\n",
        "\n",
        "  # Join the Director and genre lists into comma-separated strings\n",
        "  Director_str = ', '.join(Director)\n",
        "  genre_str = ', '.join(genre)\n",
        "\n",
        "  # Append movie data to the list\n",
        "  movies.append([Movie_Name, Year, Director_str, genre_str, top_5_cast,  Rating, image_url])\n",
        "\n",
        "  # Sleep to avoid overwhelming the server\n",
        "  #time.sleep(1)\n",
        "\n",
        "# Create a DataFrame from the movie list\n",
        "df = pd.DataFrame(movies, columns=['Movie', 'Year', 'Director', 'Genre', 'Top 5 Cast', 'Rating', 'Image_URL']) #\n",
        "\n",
        "# Save the DataFrame to an Excel file\n",
        "df.to_excel('imdb_hindi_movies.xlsx', index=False)\n",
        "\n",
        "\n",
        "print(\"Data has been successfully scraped and saved to imdb_hindi_movies.xlsx\")\n",
        "\n",
        "\n"
      ],
      "metadata": {
        "id": "n7LGnU55pMxM"
      },
      "execution_count": null,
      "outputs": []
    }
  ]
}