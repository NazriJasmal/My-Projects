{
  "cells": [
    {
      "cell_type": "code",
      "source": [
        "import sklearn\n",
        "print(sklearn.__version__)"
      ],
      "metadata": {
        "colab": {
          "base_uri": "https://localhost:8080/"
        },
        "id": "HIRll3NuACF5",
        "outputId": "24cc6529-5225-40b6-bda9-b2f52b10fb63"
      },
      "id": "HIRll3NuACF5",
      "execution_count": 1,
      "outputs": [
        {
          "output_type": "stream",
          "name": "stdout",
          "text": [
            "1.3.2\n"
          ]
        }
      ]
    },
    {
      "cell_type": "code",
      "source": [
        "#!pip install --upgrade scikit-learn\n",
        "#print(sklearn.__version__)"
      ],
      "metadata": {
        "id": "NzK2Mmr4AEmB"
      },
      "id": "NzK2Mmr4AEmB",
      "execution_count": 2,
      "outputs": []
    },
    {
      "cell_type": "code",
      "execution_count": 3,
      "metadata": {
        "id": "7bee9b73"
      },
      "outputs": [],
      "source": [
        "import numpy as np\n",
        "import pandas as pd\n",
        "import seaborn as sns\n",
        "import matplotlib.pyplot as plt\n",
        "from sklearn.utils import resample\n",
        "from bokeh.palettes import magma\n",
        "from bokeh.plotting import figure,show\n",
        "import gdown\n",
        "import warnings\n",
        "import warnings\n",
        "warnings.simplefilter(action='ignore', category=FutureWarning)\n",
        "warnings.simplefilter(action='ignore', category=UserWarning)"
      ],
      "id": "7bee9b73"
    },
    {
      "cell_type": "markdown",
      "metadata": {
        "id": "2822305c"
      },
      "source": [
        "# Importing Data"
      ],
      "id": "2822305c"
    },
    {
      "cell_type": "code",
      "execution_count": 4,
      "metadata": {
        "colab": {
          "base_uri": "https://localhost:8080/"
        },
        "id": "bL4QKtTdfJBP",
        "outputId": "5f111292-81f3-40bd-8998-d354ebcec7c3"
      },
      "outputs": [
        {
          "output_type": "execute_result",
          "data": {
            "text/plain": [
              "['/content/Crop Prediction/Dataset/Crop_recommendation.csv']"
            ]
          },
          "metadata": {},
          "execution_count": 4
        }
      ],
      "source": [
        "#importing the dataset from drive\n",
        "gdown.download_folder('https://drive.google.com/drive/folders/1Y_kcSpGFC8c6TlB0uKr41ftY9nZBUeKT?', quiet=True)"
      ],
      "id": "bL4QKtTdfJBP"
    },
    {
      "cell_type": "code",
      "execution_count": 5,
      "metadata": {
        "id": "Glp5QLNDfL0s"
      },
      "outputs": [],
      "source": [
        "#importing the dataset\n",
        "crop = pd.read_csv('/content/Crop Prediction/Dataset/Crop_recommendation.csv')"
      ],
      "id": "Glp5QLNDfL0s"
    },
    {
      "cell_type": "code",
      "execution_count": 6,
      "metadata": {
        "colab": {
          "base_uri": "https://localhost:8080/",
          "height": 206
        },
        "id": "5b6f8884",
        "outputId": "e66645f6-a045-4646-bdd6-42cd66e61569"
      },
      "outputs": [
        {
          "output_type": "execute_result",
          "data": {
            "text/plain": [
              "    N   P   K  temperature   humidity        ph    rainfall label\n",
              "0  90  42  43    20.879744  82.002744  6.502985  202.935536  rice\n",
              "1  85  58  41    21.770462  80.319644  7.038096  226.655537  rice\n",
              "2  60  55  44    23.004459  82.320763  7.840207  263.964248  rice\n",
              "3  74  35  40    26.491096  80.158363  6.980401  242.864034  rice\n",
              "4  78  42  42    20.130175  81.604873  7.628473  262.717340  rice"
            ],
            "text/html": [
              "\n",
              "  <div id=\"df-1682eeb0-9b0c-4181-9140-91d6836de62a\" class=\"colab-df-container\">\n",
              "    <div>\n",
              "<style scoped>\n",
              "    .dataframe tbody tr th:only-of-type {\n",
              "        vertical-align: middle;\n",
              "    }\n",
              "\n",
              "    .dataframe tbody tr th {\n",
              "        vertical-align: top;\n",
              "    }\n",
              "\n",
              "    .dataframe thead th {\n",
              "        text-align: right;\n",
              "    }\n",
              "</style>\n",
              "<table border=\"1\" class=\"dataframe\">\n",
              "  <thead>\n",
              "    <tr style=\"text-align: right;\">\n",
              "      <th></th>\n",
              "      <th>N</th>\n",
              "      <th>P</th>\n",
              "      <th>K</th>\n",
              "      <th>temperature</th>\n",
              "      <th>humidity</th>\n",
              "      <th>ph</th>\n",
              "      <th>rainfall</th>\n",
              "      <th>label</th>\n",
              "    </tr>\n",
              "  </thead>\n",
              "  <tbody>\n",
              "    <tr>\n",
              "      <th>0</th>\n",
              "      <td>90</td>\n",
              "      <td>42</td>\n",
              "      <td>43</td>\n",
              "      <td>20.879744</td>\n",
              "      <td>82.002744</td>\n",
              "      <td>6.502985</td>\n",
              "      <td>202.935536</td>\n",
              "      <td>rice</td>\n",
              "    </tr>\n",
              "    <tr>\n",
              "      <th>1</th>\n",
              "      <td>85</td>\n",
              "      <td>58</td>\n",
              "      <td>41</td>\n",
              "      <td>21.770462</td>\n",
              "      <td>80.319644</td>\n",
              "      <td>7.038096</td>\n",
              "      <td>226.655537</td>\n",
              "      <td>rice</td>\n",
              "    </tr>\n",
              "    <tr>\n",
              "      <th>2</th>\n",
              "      <td>60</td>\n",
              "      <td>55</td>\n",
              "      <td>44</td>\n",
              "      <td>23.004459</td>\n",
              "      <td>82.320763</td>\n",
              "      <td>7.840207</td>\n",
              "      <td>263.964248</td>\n",
              "      <td>rice</td>\n",
              "    </tr>\n",
              "    <tr>\n",
              "      <th>3</th>\n",
              "      <td>74</td>\n",
              "      <td>35</td>\n",
              "      <td>40</td>\n",
              "      <td>26.491096</td>\n",
              "      <td>80.158363</td>\n",
              "      <td>6.980401</td>\n",
              "      <td>242.864034</td>\n",
              "      <td>rice</td>\n",
              "    </tr>\n",
              "    <tr>\n",
              "      <th>4</th>\n",
              "      <td>78</td>\n",
              "      <td>42</td>\n",
              "      <td>42</td>\n",
              "      <td>20.130175</td>\n",
              "      <td>81.604873</td>\n",
              "      <td>7.628473</td>\n",
              "      <td>262.717340</td>\n",
              "      <td>rice</td>\n",
              "    </tr>\n",
              "  </tbody>\n",
              "</table>\n",
              "</div>\n",
              "    <div class=\"colab-df-buttons\">\n",
              "\n",
              "  <div class=\"colab-df-container\">\n",
              "    <button class=\"colab-df-convert\" onclick=\"convertToInteractive('df-1682eeb0-9b0c-4181-9140-91d6836de62a')\"\n",
              "            title=\"Convert this dataframe to an interactive table.\"\n",
              "            style=\"display:none;\">\n",
              "\n",
              "  <svg xmlns=\"http://www.w3.org/2000/svg\" height=\"24px\" viewBox=\"0 -960 960 960\">\n",
              "    <path d=\"M120-120v-720h720v720H120Zm60-500h600v-160H180v160Zm220 220h160v-160H400v160Zm0 220h160v-160H400v160ZM180-400h160v-160H180v160Zm440 0h160v-160H620v160ZM180-180h160v-160H180v160Zm440 0h160v-160H620v160Z\"/>\n",
              "  </svg>\n",
              "    </button>\n",
              "\n",
              "  <style>\n",
              "    .colab-df-container {\n",
              "      display:flex;\n",
              "      gap: 12px;\n",
              "    }\n",
              "\n",
              "    .colab-df-convert {\n",
              "      background-color: #E8F0FE;\n",
              "      border: none;\n",
              "      border-radius: 50%;\n",
              "      cursor: pointer;\n",
              "      display: none;\n",
              "      fill: #1967D2;\n",
              "      height: 32px;\n",
              "      padding: 0 0 0 0;\n",
              "      width: 32px;\n",
              "    }\n",
              "\n",
              "    .colab-df-convert:hover {\n",
              "      background-color: #E2EBFA;\n",
              "      box-shadow: 0px 1px 2px rgba(60, 64, 67, 0.3), 0px 1px 3px 1px rgba(60, 64, 67, 0.15);\n",
              "      fill: #174EA6;\n",
              "    }\n",
              "\n",
              "    .colab-df-buttons div {\n",
              "      margin-bottom: 4px;\n",
              "    }\n",
              "\n",
              "    [theme=dark] .colab-df-convert {\n",
              "      background-color: #3B4455;\n",
              "      fill: #D2E3FC;\n",
              "    }\n",
              "\n",
              "    [theme=dark] .colab-df-convert:hover {\n",
              "      background-color: #434B5C;\n",
              "      box-shadow: 0px 1px 3px 1px rgba(0, 0, 0, 0.15);\n",
              "      filter: drop-shadow(0px 1px 2px rgba(0, 0, 0, 0.3));\n",
              "      fill: #FFFFFF;\n",
              "    }\n",
              "  </style>\n",
              "\n",
              "    <script>\n",
              "      const buttonEl =\n",
              "        document.querySelector('#df-1682eeb0-9b0c-4181-9140-91d6836de62a button.colab-df-convert');\n",
              "      buttonEl.style.display =\n",
              "        google.colab.kernel.accessAllowed ? 'block' : 'none';\n",
              "\n",
              "      async function convertToInteractive(key) {\n",
              "        const element = document.querySelector('#df-1682eeb0-9b0c-4181-9140-91d6836de62a');\n",
              "        const dataTable =\n",
              "          await google.colab.kernel.invokeFunction('convertToInteractive',\n",
              "                                                    [key], {});\n",
              "        if (!dataTable) return;\n",
              "\n",
              "        const docLinkHtml = 'Like what you see? Visit the ' +\n",
              "          '<a target=\"_blank\" href=https://colab.research.google.com/notebooks/data_table.ipynb>data table notebook</a>'\n",
              "          + ' to learn more about interactive tables.';\n",
              "        element.innerHTML = '';\n",
              "        dataTable['output_type'] = 'display_data';\n",
              "        await google.colab.output.renderOutput(dataTable, element);\n",
              "        const docLink = document.createElement('div');\n",
              "        docLink.innerHTML = docLinkHtml;\n",
              "        element.appendChild(docLink);\n",
              "      }\n",
              "    </script>\n",
              "  </div>\n",
              "\n",
              "\n",
              "<div id=\"df-e394cb44-c29e-4844-8e8e-b2142f0457eb\">\n",
              "  <button class=\"colab-df-quickchart\" onclick=\"quickchart('df-e394cb44-c29e-4844-8e8e-b2142f0457eb')\"\n",
              "            title=\"Suggest charts\"\n",
              "            style=\"display:none;\">\n",
              "\n",
              "<svg xmlns=\"http://www.w3.org/2000/svg\" height=\"24px\"viewBox=\"0 0 24 24\"\n",
              "     width=\"24px\">\n",
              "    <g>\n",
              "        <path d=\"M19 3H5c-1.1 0-2 .9-2 2v14c0 1.1.9 2 2 2h14c1.1 0 2-.9 2-2V5c0-1.1-.9-2-2-2zM9 17H7v-7h2v7zm4 0h-2V7h2v10zm4 0h-2v-4h2v4z\"/>\n",
              "    </g>\n",
              "</svg>\n",
              "  </button>\n",
              "\n",
              "<style>\n",
              "  .colab-df-quickchart {\n",
              "      --bg-color: #E8F0FE;\n",
              "      --fill-color: #1967D2;\n",
              "      --hover-bg-color: #E2EBFA;\n",
              "      --hover-fill-color: #174EA6;\n",
              "      --disabled-fill-color: #AAA;\n",
              "      --disabled-bg-color: #DDD;\n",
              "  }\n",
              "\n",
              "  [theme=dark] .colab-df-quickchart {\n",
              "      --bg-color: #3B4455;\n",
              "      --fill-color: #D2E3FC;\n",
              "      --hover-bg-color: #434B5C;\n",
              "      --hover-fill-color: #FFFFFF;\n",
              "      --disabled-bg-color: #3B4455;\n",
              "      --disabled-fill-color: #666;\n",
              "  }\n",
              "\n",
              "  .colab-df-quickchart {\n",
              "    background-color: var(--bg-color);\n",
              "    border: none;\n",
              "    border-radius: 50%;\n",
              "    cursor: pointer;\n",
              "    display: none;\n",
              "    fill: var(--fill-color);\n",
              "    height: 32px;\n",
              "    padding: 0;\n",
              "    width: 32px;\n",
              "  }\n",
              "\n",
              "  .colab-df-quickchart:hover {\n",
              "    background-color: var(--hover-bg-color);\n",
              "    box-shadow: 0 1px 2px rgba(60, 64, 67, 0.3), 0 1px 3px 1px rgba(60, 64, 67, 0.15);\n",
              "    fill: var(--button-hover-fill-color);\n",
              "  }\n",
              "\n",
              "  .colab-df-quickchart-complete:disabled,\n",
              "  .colab-df-quickchart-complete:disabled:hover {\n",
              "    background-color: var(--disabled-bg-color);\n",
              "    fill: var(--disabled-fill-color);\n",
              "    box-shadow: none;\n",
              "  }\n",
              "\n",
              "  .colab-df-spinner {\n",
              "    border: 2px solid var(--fill-color);\n",
              "    border-color: transparent;\n",
              "    border-bottom-color: var(--fill-color);\n",
              "    animation:\n",
              "      spin 1s steps(1) infinite;\n",
              "  }\n",
              "\n",
              "  @keyframes spin {\n",
              "    0% {\n",
              "      border-color: transparent;\n",
              "      border-bottom-color: var(--fill-color);\n",
              "      border-left-color: var(--fill-color);\n",
              "    }\n",
              "    20% {\n",
              "      border-color: transparent;\n",
              "      border-left-color: var(--fill-color);\n",
              "      border-top-color: var(--fill-color);\n",
              "    }\n",
              "    30% {\n",
              "      border-color: transparent;\n",
              "      border-left-color: var(--fill-color);\n",
              "      border-top-color: var(--fill-color);\n",
              "      border-right-color: var(--fill-color);\n",
              "    }\n",
              "    40% {\n",
              "      border-color: transparent;\n",
              "      border-right-color: var(--fill-color);\n",
              "      border-top-color: var(--fill-color);\n",
              "    }\n",
              "    60% {\n",
              "      border-color: transparent;\n",
              "      border-right-color: var(--fill-color);\n",
              "    }\n",
              "    80% {\n",
              "      border-color: transparent;\n",
              "      border-right-color: var(--fill-color);\n",
              "      border-bottom-color: var(--fill-color);\n",
              "    }\n",
              "    90% {\n",
              "      border-color: transparent;\n",
              "      border-bottom-color: var(--fill-color);\n",
              "    }\n",
              "  }\n",
              "</style>\n",
              "\n",
              "  <script>\n",
              "    async function quickchart(key) {\n",
              "      const quickchartButtonEl =\n",
              "        document.querySelector('#' + key + ' button');\n",
              "      quickchartButtonEl.disabled = true;  // To prevent multiple clicks.\n",
              "      quickchartButtonEl.classList.add('colab-df-spinner');\n",
              "      try {\n",
              "        const charts = await google.colab.kernel.invokeFunction(\n",
              "            'suggestCharts', [key], {});\n",
              "      } catch (error) {\n",
              "        console.error('Error during call to suggestCharts:', error);\n",
              "      }\n",
              "      quickchartButtonEl.classList.remove('colab-df-spinner');\n",
              "      quickchartButtonEl.classList.add('colab-df-quickchart-complete');\n",
              "    }\n",
              "    (() => {\n",
              "      let quickchartButtonEl =\n",
              "        document.querySelector('#df-e394cb44-c29e-4844-8e8e-b2142f0457eb button');\n",
              "      quickchartButtonEl.style.display =\n",
              "        google.colab.kernel.accessAllowed ? 'block' : 'none';\n",
              "    })();\n",
              "  </script>\n",
              "</div>\n",
              "    </div>\n",
              "  </div>\n"
            ]
          },
          "metadata": {},
          "execution_count": 6
        }
      ],
      "source": [
        "crop.head()"
      ],
      "id": "5b6f8884"
    },
    {
      "cell_type": "code",
      "execution_count": 7,
      "metadata": {
        "colab": {
          "base_uri": "https://localhost:8080/",
          "height": 206
        },
        "id": "4RNhLTNLyiH_",
        "outputId": "5f681db1-4ea9-4461-cd10-0325d705bc89"
      },
      "outputs": [
        {
          "output_type": "execute_result",
          "data": {
            "text/plain": [
              "        N   P   K  temperature   humidity        ph    rainfall   label\n",
              "2195  107  34  32    26.774637  66.413269  6.780064  177.774507  coffee\n",
              "2196   99  15  27    27.417112  56.636362  6.086922  127.924610  coffee\n",
              "2197  118  33  30    24.131797  67.225123  6.362608  173.322839  coffee\n",
              "2198  117  32  34    26.272418  52.127394  6.758793  127.175293  coffee\n",
              "2199  104  18  30    23.603016  60.396475  6.779833  140.937041  coffee"
            ],
            "text/html": [
              "\n",
              "  <div id=\"df-750c3ec4-fd1b-4447-b2af-04344da51f19\" class=\"colab-df-container\">\n",
              "    <div>\n",
              "<style scoped>\n",
              "    .dataframe tbody tr th:only-of-type {\n",
              "        vertical-align: middle;\n",
              "    }\n",
              "\n",
              "    .dataframe tbody tr th {\n",
              "        vertical-align: top;\n",
              "    }\n",
              "\n",
              "    .dataframe thead th {\n",
              "        text-align: right;\n",
              "    }\n",
              "</style>\n",
              "<table border=\"1\" class=\"dataframe\">\n",
              "  <thead>\n",
              "    <tr style=\"text-align: right;\">\n",
              "      <th></th>\n",
              "      <th>N</th>\n",
              "      <th>P</th>\n",
              "      <th>K</th>\n",
              "      <th>temperature</th>\n",
              "      <th>humidity</th>\n",
              "      <th>ph</th>\n",
              "      <th>rainfall</th>\n",
              "      <th>label</th>\n",
              "    </tr>\n",
              "  </thead>\n",
              "  <tbody>\n",
              "    <tr>\n",
              "      <th>2195</th>\n",
              "      <td>107</td>\n",
              "      <td>34</td>\n",
              "      <td>32</td>\n",
              "      <td>26.774637</td>\n",
              "      <td>66.413269</td>\n",
              "      <td>6.780064</td>\n",
              "      <td>177.774507</td>\n",
              "      <td>coffee</td>\n",
              "    </tr>\n",
              "    <tr>\n",
              "      <th>2196</th>\n",
              "      <td>99</td>\n",
              "      <td>15</td>\n",
              "      <td>27</td>\n",
              "      <td>27.417112</td>\n",
              "      <td>56.636362</td>\n",
              "      <td>6.086922</td>\n",
              "      <td>127.924610</td>\n",
              "      <td>coffee</td>\n",
              "    </tr>\n",
              "    <tr>\n",
              "      <th>2197</th>\n",
              "      <td>118</td>\n",
              "      <td>33</td>\n",
              "      <td>30</td>\n",
              "      <td>24.131797</td>\n",
              "      <td>67.225123</td>\n",
              "      <td>6.362608</td>\n",
              "      <td>173.322839</td>\n",
              "      <td>coffee</td>\n",
              "    </tr>\n",
              "    <tr>\n",
              "      <th>2198</th>\n",
              "      <td>117</td>\n",
              "      <td>32</td>\n",
              "      <td>34</td>\n",
              "      <td>26.272418</td>\n",
              "      <td>52.127394</td>\n",
              "      <td>6.758793</td>\n",
              "      <td>127.175293</td>\n",
              "      <td>coffee</td>\n",
              "    </tr>\n",
              "    <tr>\n",
              "      <th>2199</th>\n",
              "      <td>104</td>\n",
              "      <td>18</td>\n",
              "      <td>30</td>\n",
              "      <td>23.603016</td>\n",
              "      <td>60.396475</td>\n",
              "      <td>6.779833</td>\n",
              "      <td>140.937041</td>\n",
              "      <td>coffee</td>\n",
              "    </tr>\n",
              "  </tbody>\n",
              "</table>\n",
              "</div>\n",
              "    <div class=\"colab-df-buttons\">\n",
              "\n",
              "  <div class=\"colab-df-container\">\n",
              "    <button class=\"colab-df-convert\" onclick=\"convertToInteractive('df-750c3ec4-fd1b-4447-b2af-04344da51f19')\"\n",
              "            title=\"Convert this dataframe to an interactive table.\"\n",
              "            style=\"display:none;\">\n",
              "\n",
              "  <svg xmlns=\"http://www.w3.org/2000/svg\" height=\"24px\" viewBox=\"0 -960 960 960\">\n",
              "    <path d=\"M120-120v-720h720v720H120Zm60-500h600v-160H180v160Zm220 220h160v-160H400v160Zm0 220h160v-160H400v160ZM180-400h160v-160H180v160Zm440 0h160v-160H620v160ZM180-180h160v-160H180v160Zm440 0h160v-160H620v160Z\"/>\n",
              "  </svg>\n",
              "    </button>\n",
              "\n",
              "  <style>\n",
              "    .colab-df-container {\n",
              "      display:flex;\n",
              "      gap: 12px;\n",
              "    }\n",
              "\n",
              "    .colab-df-convert {\n",
              "      background-color: #E8F0FE;\n",
              "      border: none;\n",
              "      border-radius: 50%;\n",
              "      cursor: pointer;\n",
              "      display: none;\n",
              "      fill: #1967D2;\n",
              "      height: 32px;\n",
              "      padding: 0 0 0 0;\n",
              "      width: 32px;\n",
              "    }\n",
              "\n",
              "    .colab-df-convert:hover {\n",
              "      background-color: #E2EBFA;\n",
              "      box-shadow: 0px 1px 2px rgba(60, 64, 67, 0.3), 0px 1px 3px 1px rgba(60, 64, 67, 0.15);\n",
              "      fill: #174EA6;\n",
              "    }\n",
              "\n",
              "    .colab-df-buttons div {\n",
              "      margin-bottom: 4px;\n",
              "    }\n",
              "\n",
              "    [theme=dark] .colab-df-convert {\n",
              "      background-color: #3B4455;\n",
              "      fill: #D2E3FC;\n",
              "    }\n",
              "\n",
              "    [theme=dark] .colab-df-convert:hover {\n",
              "      background-color: #434B5C;\n",
              "      box-shadow: 0px 1px 3px 1px rgba(0, 0, 0, 0.15);\n",
              "      filter: drop-shadow(0px 1px 2px rgba(0, 0, 0, 0.3));\n",
              "      fill: #FFFFFF;\n",
              "    }\n",
              "  </style>\n",
              "\n",
              "    <script>\n",
              "      const buttonEl =\n",
              "        document.querySelector('#df-750c3ec4-fd1b-4447-b2af-04344da51f19 button.colab-df-convert');\n",
              "      buttonEl.style.display =\n",
              "        google.colab.kernel.accessAllowed ? 'block' : 'none';\n",
              "\n",
              "      async function convertToInteractive(key) {\n",
              "        const element = document.querySelector('#df-750c3ec4-fd1b-4447-b2af-04344da51f19');\n",
              "        const dataTable =\n",
              "          await google.colab.kernel.invokeFunction('convertToInteractive',\n",
              "                                                    [key], {});\n",
              "        if (!dataTable) return;\n",
              "\n",
              "        const docLinkHtml = 'Like what you see? Visit the ' +\n",
              "          '<a target=\"_blank\" href=https://colab.research.google.com/notebooks/data_table.ipynb>data table notebook</a>'\n",
              "          + ' to learn more about interactive tables.';\n",
              "        element.innerHTML = '';\n",
              "        dataTable['output_type'] = 'display_data';\n",
              "        await google.colab.output.renderOutput(dataTable, element);\n",
              "        const docLink = document.createElement('div');\n",
              "        docLink.innerHTML = docLinkHtml;\n",
              "        element.appendChild(docLink);\n",
              "      }\n",
              "    </script>\n",
              "  </div>\n",
              "\n",
              "\n",
              "<div id=\"df-fe239aca-700a-4944-9d9c-ccfe712e0f0f\">\n",
              "  <button class=\"colab-df-quickchart\" onclick=\"quickchart('df-fe239aca-700a-4944-9d9c-ccfe712e0f0f')\"\n",
              "            title=\"Suggest charts\"\n",
              "            style=\"display:none;\">\n",
              "\n",
              "<svg xmlns=\"http://www.w3.org/2000/svg\" height=\"24px\"viewBox=\"0 0 24 24\"\n",
              "     width=\"24px\">\n",
              "    <g>\n",
              "        <path d=\"M19 3H5c-1.1 0-2 .9-2 2v14c0 1.1.9 2 2 2h14c1.1 0 2-.9 2-2V5c0-1.1-.9-2-2-2zM9 17H7v-7h2v7zm4 0h-2V7h2v10zm4 0h-2v-4h2v4z\"/>\n",
              "    </g>\n",
              "</svg>\n",
              "  </button>\n",
              "\n",
              "<style>\n",
              "  .colab-df-quickchart {\n",
              "      --bg-color: #E8F0FE;\n",
              "      --fill-color: #1967D2;\n",
              "      --hover-bg-color: #E2EBFA;\n",
              "      --hover-fill-color: #174EA6;\n",
              "      --disabled-fill-color: #AAA;\n",
              "      --disabled-bg-color: #DDD;\n",
              "  }\n",
              "\n",
              "  [theme=dark] .colab-df-quickchart {\n",
              "      --bg-color: #3B4455;\n",
              "      --fill-color: #D2E3FC;\n",
              "      --hover-bg-color: #434B5C;\n",
              "      --hover-fill-color: #FFFFFF;\n",
              "      --disabled-bg-color: #3B4455;\n",
              "      --disabled-fill-color: #666;\n",
              "  }\n",
              "\n",
              "  .colab-df-quickchart {\n",
              "    background-color: var(--bg-color);\n",
              "    border: none;\n",
              "    border-radius: 50%;\n",
              "    cursor: pointer;\n",
              "    display: none;\n",
              "    fill: var(--fill-color);\n",
              "    height: 32px;\n",
              "    padding: 0;\n",
              "    width: 32px;\n",
              "  }\n",
              "\n",
              "  .colab-df-quickchart:hover {\n",
              "    background-color: var(--hover-bg-color);\n",
              "    box-shadow: 0 1px 2px rgba(60, 64, 67, 0.3), 0 1px 3px 1px rgba(60, 64, 67, 0.15);\n",
              "    fill: var(--button-hover-fill-color);\n",
              "  }\n",
              "\n",
              "  .colab-df-quickchart-complete:disabled,\n",
              "  .colab-df-quickchart-complete:disabled:hover {\n",
              "    background-color: var(--disabled-bg-color);\n",
              "    fill: var(--disabled-fill-color);\n",
              "    box-shadow: none;\n",
              "  }\n",
              "\n",
              "  .colab-df-spinner {\n",
              "    border: 2px solid var(--fill-color);\n",
              "    border-color: transparent;\n",
              "    border-bottom-color: var(--fill-color);\n",
              "    animation:\n",
              "      spin 1s steps(1) infinite;\n",
              "  }\n",
              "\n",
              "  @keyframes spin {\n",
              "    0% {\n",
              "      border-color: transparent;\n",
              "      border-bottom-color: var(--fill-color);\n",
              "      border-left-color: var(--fill-color);\n",
              "    }\n",
              "    20% {\n",
              "      border-color: transparent;\n",
              "      border-left-color: var(--fill-color);\n",
              "      border-top-color: var(--fill-color);\n",
              "    }\n",
              "    30% {\n",
              "      border-color: transparent;\n",
              "      border-left-color: var(--fill-color);\n",
              "      border-top-color: var(--fill-color);\n",
              "      border-right-color: var(--fill-color);\n",
              "    }\n",
              "    40% {\n",
              "      border-color: transparent;\n",
              "      border-right-color: var(--fill-color);\n",
              "      border-top-color: var(--fill-color);\n",
              "    }\n",
              "    60% {\n",
              "      border-color: transparent;\n",
              "      border-right-color: var(--fill-color);\n",
              "    }\n",
              "    80% {\n",
              "      border-color: transparent;\n",
              "      border-right-color: var(--fill-color);\n",
              "      border-bottom-color: var(--fill-color);\n",
              "    }\n",
              "    90% {\n",
              "      border-color: transparent;\n",
              "      border-bottom-color: var(--fill-color);\n",
              "    }\n",
              "  }\n",
              "</style>\n",
              "\n",
              "  <script>\n",
              "    async function quickchart(key) {\n",
              "      const quickchartButtonEl =\n",
              "        document.querySelector('#' + key + ' button');\n",
              "      quickchartButtonEl.disabled = true;  // To prevent multiple clicks.\n",
              "      quickchartButtonEl.classList.add('colab-df-spinner');\n",
              "      try {\n",
              "        const charts = await google.colab.kernel.invokeFunction(\n",
              "            'suggestCharts', [key], {});\n",
              "      } catch (error) {\n",
              "        console.error('Error during call to suggestCharts:', error);\n",
              "      }\n",
              "      quickchartButtonEl.classList.remove('colab-df-spinner');\n",
              "      quickchartButtonEl.classList.add('colab-df-quickchart-complete');\n",
              "    }\n",
              "    (() => {\n",
              "      let quickchartButtonEl =\n",
              "        document.querySelector('#df-fe239aca-700a-4944-9d9c-ccfe712e0f0f button');\n",
              "      quickchartButtonEl.style.display =\n",
              "        google.colab.kernel.accessAllowed ? 'block' : 'none';\n",
              "    })();\n",
              "  </script>\n",
              "</div>\n",
              "    </div>\n",
              "  </div>\n"
            ]
          },
          "metadata": {},
          "execution_count": 7
        }
      ],
      "source": [
        "crop.tail()"
      ],
      "id": "4RNhLTNLyiH_"
    },
    {
      "cell_type": "markdown",
      "metadata": {
        "id": "e9ddfb22"
      },
      "source": [
        "###**Exploratory Data Analysis**"
      ],
      "id": "e9ddfb22"
    },
    {
      "cell_type": "code",
      "execution_count": 8,
      "metadata": {
        "colab": {
          "base_uri": "https://localhost:8080/"
        },
        "id": "CaccgMD76rF_",
        "outputId": "8b68ab2b-30c9-4b6a-9968-50aa6afdb263"
      },
      "outputs": [
        {
          "output_type": "execute_result",
          "data": {
            "text/plain": [
              "17600"
            ]
          },
          "metadata": {},
          "execution_count": 8
        }
      ],
      "source": [
        "crop.size"
      ],
      "id": "CaccgMD76rF_"
    },
    {
      "cell_type": "code",
      "execution_count": 9,
      "metadata": {
        "colab": {
          "base_uri": "https://localhost:8080/"
        },
        "id": "3ca70c00",
        "outputId": "cfa43e58-3a59-4bff-e3f0-0bc439c15905"
      },
      "outputs": [
        {
          "output_type": "execute_result",
          "data": {
            "text/plain": [
              "(2200, 8)"
            ]
          },
          "metadata": {},
          "execution_count": 9
        }
      ],
      "source": [
        "crop.shape"
      ],
      "id": "3ca70c00"
    },
    {
      "cell_type": "code",
      "execution_count": 10,
      "metadata": {
        "colab": {
          "base_uri": "https://localhost:8080/"
        },
        "id": "8R93WZC29jaS",
        "outputId": "fd6ac433-0f98-4905-8c84-855f9be3cf0b"
      },
      "outputs": [
        {
          "output_type": "execute_result",
          "data": {
            "text/plain": [
              "Index(['N', 'P', 'K', 'temperature', 'humidity', 'ph', 'rainfall', 'label'], dtype='object')"
            ]
          },
          "metadata": {},
          "execution_count": 10
        }
      ],
      "source": [
        "crop.columns"
      ],
      "id": "8R93WZC29jaS"
    },
    {
      "cell_type": "code",
      "execution_count": 11,
      "metadata": {
        "colab": {
          "base_uri": "https://localhost:8080/"
        },
        "id": "e2ae9b60",
        "outputId": "6aba3a00-72a8-4f0d-e7b5-8ff23a53303e"
      },
      "outputs": [
        {
          "output_type": "stream",
          "name": "stdout",
          "text": [
            "<class 'pandas.core.frame.DataFrame'>\n",
            "RangeIndex: 2200 entries, 0 to 2199\n",
            "Data columns (total 8 columns):\n",
            " #   Column       Non-Null Count  Dtype  \n",
            "---  ------       --------------  -----  \n",
            " 0   N            2200 non-null   int64  \n",
            " 1   P            2200 non-null   int64  \n",
            " 2   K            2200 non-null   int64  \n",
            " 3   temperature  2200 non-null   float64\n",
            " 4   humidity     2200 non-null   float64\n",
            " 5   ph           2200 non-null   float64\n",
            " 6   rainfall     2200 non-null   float64\n",
            " 7   label        2200 non-null   object \n",
            "dtypes: float64(4), int64(3), object(1)\n",
            "memory usage: 137.6+ KB\n"
          ]
        }
      ],
      "source": [
        "crop.info() #the description of the dataset"
      ],
      "id": "e2ae9b60"
    },
    {
      "cell_type": "code",
      "execution_count": 12,
      "metadata": {
        "colab": {
          "base_uri": "https://localhost:8080/"
        },
        "id": "9efad4c4",
        "outputId": "1a25c58e-5ab3-473d-e0a2-3639010a5028"
      },
      "outputs": [
        {
          "output_type": "execute_result",
          "data": {
            "text/plain": [
              "N              0\n",
              "P              0\n",
              "K              0\n",
              "temperature    0\n",
              "humidity       0\n",
              "ph             0\n",
              "rainfall       0\n",
              "label          0\n",
              "dtype: int64"
            ]
          },
          "metadata": {},
          "execution_count": 12
        }
      ],
      "source": [
        "crop.isnull().sum()"
      ],
      "id": "9efad4c4"
    },
    {
      "cell_type": "code",
      "execution_count": 13,
      "metadata": {
        "colab": {
          "base_uri": "https://localhost:8080/"
        },
        "id": "JRLBwHuTy4kL",
        "outputId": "b5b3a3b2-2472-4123-e6ed-c1a7df8b8707"
      },
      "outputs": [
        {
          "output_type": "stream",
          "name": "stdout",
          "text": [
            "        N   P   K  temperature   humidity        ph    rainfall   label\n",
            "0      90  42  43    20.879744  82.002744  6.502985  202.935536    rice\n",
            "1      85  58  41    21.770462  80.319644  7.038096  226.655537    rice\n",
            "2      60  55  44    23.004459  82.320763  7.840207  263.964248    rice\n",
            "3      74  35  40    26.491096  80.158363  6.980401  242.864034    rice\n",
            "4      78  42  42    20.130175  81.604873  7.628473  262.717340    rice\n",
            "...   ...  ..  ..          ...        ...       ...         ...     ...\n",
            "2195  107  34  32    26.774637  66.413269  6.780064  177.774507  coffee\n",
            "2196   99  15  27    27.417112  56.636362  6.086922  127.924610  coffee\n",
            "2197  118  33  30    24.131797  67.225123  6.362608  173.322839  coffee\n",
            "2198  117  32  34    26.272418  52.127394  6.758793  127.175293  coffee\n",
            "2199  104  18  30    23.603016  60.396475  6.779833  140.937041  coffee\n",
            "\n",
            "[2200 rows x 8 columns]\n"
          ]
        }
      ],
      "source": [
        "crop = crop.fillna(0) #Replace the missing values with 0\n",
        "print(crop)"
      ],
      "id": "JRLBwHuTy4kL"
    },
    {
      "cell_type": "code",
      "execution_count": 14,
      "metadata": {
        "colab": {
          "base_uri": "https://localhost:8080/"
        },
        "id": "1f7bf8c5",
        "outputId": "d0611b9b-486b-4b0f-8532-75db2331a3f5"
      },
      "outputs": [
        {
          "output_type": "execute_result",
          "data": {
            "text/plain": [
              "0"
            ]
          },
          "metadata": {},
          "execution_count": 14
        }
      ],
      "source": [
        "crop.duplicated().sum()"
      ],
      "id": "1f7bf8c5"
    },
    {
      "cell_type": "code",
      "execution_count": 15,
      "metadata": {
        "colab": {
          "base_uri": "https://localhost:8080/",
          "height": 300
        },
        "id": "3d5b7413",
        "outputId": "55e525c6-7935-44c2-86f8-fe648abd8246",
        "scrolled": false
      },
      "outputs": [
        {
          "output_type": "execute_result",
          "data": {
            "text/plain": [
              "                 N            P            K  temperature     humidity  \\\n",
              "count  2200.000000  2200.000000  2200.000000  2200.000000  2200.000000   \n",
              "mean     50.551818    53.362727    48.149091    25.616244    71.481779   \n",
              "std      36.917334    32.985883    50.647931     5.063749    22.263812   \n",
              "min       0.000000     5.000000     5.000000     8.825675    14.258040   \n",
              "25%      21.000000    28.000000    20.000000    22.769375    60.261953   \n",
              "50%      37.000000    51.000000    32.000000    25.598693    80.473146   \n",
              "75%      84.250000    68.000000    49.000000    28.561654    89.948771   \n",
              "max     140.000000   145.000000   205.000000    43.675493    99.981876   \n",
              "\n",
              "                ph     rainfall  \n",
              "count  2200.000000  2200.000000  \n",
              "mean      6.469480   103.463655  \n",
              "std       0.773938    54.958389  \n",
              "min       3.504752    20.211267  \n",
              "25%       5.971693    64.551686  \n",
              "50%       6.425045    94.867624  \n",
              "75%       6.923643   124.267508  \n",
              "max       9.935091   298.560117  "
            ],
            "text/html": [
              "\n",
              "  <div id=\"df-7f3328e6-4dbc-45b8-a74f-ed687bcb7d16\" class=\"colab-df-container\">\n",
              "    <div>\n",
              "<style scoped>\n",
              "    .dataframe tbody tr th:only-of-type {\n",
              "        vertical-align: middle;\n",
              "    }\n",
              "\n",
              "    .dataframe tbody tr th {\n",
              "        vertical-align: top;\n",
              "    }\n",
              "\n",
              "    .dataframe thead th {\n",
              "        text-align: right;\n",
              "    }\n",
              "</style>\n",
              "<table border=\"1\" class=\"dataframe\">\n",
              "  <thead>\n",
              "    <tr style=\"text-align: right;\">\n",
              "      <th></th>\n",
              "      <th>N</th>\n",
              "      <th>P</th>\n",
              "      <th>K</th>\n",
              "      <th>temperature</th>\n",
              "      <th>humidity</th>\n",
              "      <th>ph</th>\n",
              "      <th>rainfall</th>\n",
              "    </tr>\n",
              "  </thead>\n",
              "  <tbody>\n",
              "    <tr>\n",
              "      <th>count</th>\n",
              "      <td>2200.000000</td>\n",
              "      <td>2200.000000</td>\n",
              "      <td>2200.000000</td>\n",
              "      <td>2200.000000</td>\n",
              "      <td>2200.000000</td>\n",
              "      <td>2200.000000</td>\n",
              "      <td>2200.000000</td>\n",
              "    </tr>\n",
              "    <tr>\n",
              "      <th>mean</th>\n",
              "      <td>50.551818</td>\n",
              "      <td>53.362727</td>\n",
              "      <td>48.149091</td>\n",
              "      <td>25.616244</td>\n",
              "      <td>71.481779</td>\n",
              "      <td>6.469480</td>\n",
              "      <td>103.463655</td>\n",
              "    </tr>\n",
              "    <tr>\n",
              "      <th>std</th>\n",
              "      <td>36.917334</td>\n",
              "      <td>32.985883</td>\n",
              "      <td>50.647931</td>\n",
              "      <td>5.063749</td>\n",
              "      <td>22.263812</td>\n",
              "      <td>0.773938</td>\n",
              "      <td>54.958389</td>\n",
              "    </tr>\n",
              "    <tr>\n",
              "      <th>min</th>\n",
              "      <td>0.000000</td>\n",
              "      <td>5.000000</td>\n",
              "      <td>5.000000</td>\n",
              "      <td>8.825675</td>\n",
              "      <td>14.258040</td>\n",
              "      <td>3.504752</td>\n",
              "      <td>20.211267</td>\n",
              "    </tr>\n",
              "    <tr>\n",
              "      <th>25%</th>\n",
              "      <td>21.000000</td>\n",
              "      <td>28.000000</td>\n",
              "      <td>20.000000</td>\n",
              "      <td>22.769375</td>\n",
              "      <td>60.261953</td>\n",
              "      <td>5.971693</td>\n",
              "      <td>64.551686</td>\n",
              "    </tr>\n",
              "    <tr>\n",
              "      <th>50%</th>\n",
              "      <td>37.000000</td>\n",
              "      <td>51.000000</td>\n",
              "      <td>32.000000</td>\n",
              "      <td>25.598693</td>\n",
              "      <td>80.473146</td>\n",
              "      <td>6.425045</td>\n",
              "      <td>94.867624</td>\n",
              "    </tr>\n",
              "    <tr>\n",
              "      <th>75%</th>\n",
              "      <td>84.250000</td>\n",
              "      <td>68.000000</td>\n",
              "      <td>49.000000</td>\n",
              "      <td>28.561654</td>\n",
              "      <td>89.948771</td>\n",
              "      <td>6.923643</td>\n",
              "      <td>124.267508</td>\n",
              "    </tr>\n",
              "    <tr>\n",
              "      <th>max</th>\n",
              "      <td>140.000000</td>\n",
              "      <td>145.000000</td>\n",
              "      <td>205.000000</td>\n",
              "      <td>43.675493</td>\n",
              "      <td>99.981876</td>\n",
              "      <td>9.935091</td>\n",
              "      <td>298.560117</td>\n",
              "    </tr>\n",
              "  </tbody>\n",
              "</table>\n",
              "</div>\n",
              "    <div class=\"colab-df-buttons\">\n",
              "\n",
              "  <div class=\"colab-df-container\">\n",
              "    <button class=\"colab-df-convert\" onclick=\"convertToInteractive('df-7f3328e6-4dbc-45b8-a74f-ed687bcb7d16')\"\n",
              "            title=\"Convert this dataframe to an interactive table.\"\n",
              "            style=\"display:none;\">\n",
              "\n",
              "  <svg xmlns=\"http://www.w3.org/2000/svg\" height=\"24px\" viewBox=\"0 -960 960 960\">\n",
              "    <path d=\"M120-120v-720h720v720H120Zm60-500h600v-160H180v160Zm220 220h160v-160H400v160Zm0 220h160v-160H400v160ZM180-400h160v-160H180v160Zm440 0h160v-160H620v160ZM180-180h160v-160H180v160Zm440 0h160v-160H620v160Z\"/>\n",
              "  </svg>\n",
              "    </button>\n",
              "\n",
              "  <style>\n",
              "    .colab-df-container {\n",
              "      display:flex;\n",
              "      gap: 12px;\n",
              "    }\n",
              "\n",
              "    .colab-df-convert {\n",
              "      background-color: #E8F0FE;\n",
              "      border: none;\n",
              "      border-radius: 50%;\n",
              "      cursor: pointer;\n",
              "      display: none;\n",
              "      fill: #1967D2;\n",
              "      height: 32px;\n",
              "      padding: 0 0 0 0;\n",
              "      width: 32px;\n",
              "    }\n",
              "\n",
              "    .colab-df-convert:hover {\n",
              "      background-color: #E2EBFA;\n",
              "      box-shadow: 0px 1px 2px rgba(60, 64, 67, 0.3), 0px 1px 3px 1px rgba(60, 64, 67, 0.15);\n",
              "      fill: #174EA6;\n",
              "    }\n",
              "\n",
              "    .colab-df-buttons div {\n",
              "      margin-bottom: 4px;\n",
              "    }\n",
              "\n",
              "    [theme=dark] .colab-df-convert {\n",
              "      background-color: #3B4455;\n",
              "      fill: #D2E3FC;\n",
              "    }\n",
              "\n",
              "    [theme=dark] .colab-df-convert:hover {\n",
              "      background-color: #434B5C;\n",
              "      box-shadow: 0px 1px 3px 1px rgba(0, 0, 0, 0.15);\n",
              "      filter: drop-shadow(0px 1px 2px rgba(0, 0, 0, 0.3));\n",
              "      fill: #FFFFFF;\n",
              "    }\n",
              "  </style>\n",
              "\n",
              "    <script>\n",
              "      const buttonEl =\n",
              "        document.querySelector('#df-7f3328e6-4dbc-45b8-a74f-ed687bcb7d16 button.colab-df-convert');\n",
              "      buttonEl.style.display =\n",
              "        google.colab.kernel.accessAllowed ? 'block' : 'none';\n",
              "\n",
              "      async function convertToInteractive(key) {\n",
              "        const element = document.querySelector('#df-7f3328e6-4dbc-45b8-a74f-ed687bcb7d16');\n",
              "        const dataTable =\n",
              "          await google.colab.kernel.invokeFunction('convertToInteractive',\n",
              "                                                    [key], {});\n",
              "        if (!dataTable) return;\n",
              "\n",
              "        const docLinkHtml = 'Like what you see? Visit the ' +\n",
              "          '<a target=\"_blank\" href=https://colab.research.google.com/notebooks/data_table.ipynb>data table notebook</a>'\n",
              "          + ' to learn more about interactive tables.';\n",
              "        element.innerHTML = '';\n",
              "        dataTable['output_type'] = 'display_data';\n",
              "        await google.colab.output.renderOutput(dataTable, element);\n",
              "        const docLink = document.createElement('div');\n",
              "        docLink.innerHTML = docLinkHtml;\n",
              "        element.appendChild(docLink);\n",
              "      }\n",
              "    </script>\n",
              "  </div>\n",
              "\n",
              "\n",
              "<div id=\"df-ebf8ecb5-2e70-495b-a1f9-d74db6734c4c\">\n",
              "  <button class=\"colab-df-quickchart\" onclick=\"quickchart('df-ebf8ecb5-2e70-495b-a1f9-d74db6734c4c')\"\n",
              "            title=\"Suggest charts\"\n",
              "            style=\"display:none;\">\n",
              "\n",
              "<svg xmlns=\"http://www.w3.org/2000/svg\" height=\"24px\"viewBox=\"0 0 24 24\"\n",
              "     width=\"24px\">\n",
              "    <g>\n",
              "        <path d=\"M19 3H5c-1.1 0-2 .9-2 2v14c0 1.1.9 2 2 2h14c1.1 0 2-.9 2-2V5c0-1.1-.9-2-2-2zM9 17H7v-7h2v7zm4 0h-2V7h2v10zm4 0h-2v-4h2v4z\"/>\n",
              "    </g>\n",
              "</svg>\n",
              "  </button>\n",
              "\n",
              "<style>\n",
              "  .colab-df-quickchart {\n",
              "      --bg-color: #E8F0FE;\n",
              "      --fill-color: #1967D2;\n",
              "      --hover-bg-color: #E2EBFA;\n",
              "      --hover-fill-color: #174EA6;\n",
              "      --disabled-fill-color: #AAA;\n",
              "      --disabled-bg-color: #DDD;\n",
              "  }\n",
              "\n",
              "  [theme=dark] .colab-df-quickchart {\n",
              "      --bg-color: #3B4455;\n",
              "      --fill-color: #D2E3FC;\n",
              "      --hover-bg-color: #434B5C;\n",
              "      --hover-fill-color: #FFFFFF;\n",
              "      --disabled-bg-color: #3B4455;\n",
              "      --disabled-fill-color: #666;\n",
              "  }\n",
              "\n",
              "  .colab-df-quickchart {\n",
              "    background-color: var(--bg-color);\n",
              "    border: none;\n",
              "    border-radius: 50%;\n",
              "    cursor: pointer;\n",
              "    display: none;\n",
              "    fill: var(--fill-color);\n",
              "    height: 32px;\n",
              "    padding: 0;\n",
              "    width: 32px;\n",
              "  }\n",
              "\n",
              "  .colab-df-quickchart:hover {\n",
              "    background-color: var(--hover-bg-color);\n",
              "    box-shadow: 0 1px 2px rgba(60, 64, 67, 0.3), 0 1px 3px 1px rgba(60, 64, 67, 0.15);\n",
              "    fill: var(--button-hover-fill-color);\n",
              "  }\n",
              "\n",
              "  .colab-df-quickchart-complete:disabled,\n",
              "  .colab-df-quickchart-complete:disabled:hover {\n",
              "    background-color: var(--disabled-bg-color);\n",
              "    fill: var(--disabled-fill-color);\n",
              "    box-shadow: none;\n",
              "  }\n",
              "\n",
              "  .colab-df-spinner {\n",
              "    border: 2px solid var(--fill-color);\n",
              "    border-color: transparent;\n",
              "    border-bottom-color: var(--fill-color);\n",
              "    animation:\n",
              "      spin 1s steps(1) infinite;\n",
              "  }\n",
              "\n",
              "  @keyframes spin {\n",
              "    0% {\n",
              "      border-color: transparent;\n",
              "      border-bottom-color: var(--fill-color);\n",
              "      border-left-color: var(--fill-color);\n",
              "    }\n",
              "    20% {\n",
              "      border-color: transparent;\n",
              "      border-left-color: var(--fill-color);\n",
              "      border-top-color: var(--fill-color);\n",
              "    }\n",
              "    30% {\n",
              "      border-color: transparent;\n",
              "      border-left-color: var(--fill-color);\n",
              "      border-top-color: var(--fill-color);\n",
              "      border-right-color: var(--fill-color);\n",
              "    }\n",
              "    40% {\n",
              "      border-color: transparent;\n",
              "      border-right-color: var(--fill-color);\n",
              "      border-top-color: var(--fill-color);\n",
              "    }\n",
              "    60% {\n",
              "      border-color: transparent;\n",
              "      border-right-color: var(--fill-color);\n",
              "    }\n",
              "    80% {\n",
              "      border-color: transparent;\n",
              "      border-right-color: var(--fill-color);\n",
              "      border-bottom-color: var(--fill-color);\n",
              "    }\n",
              "    90% {\n",
              "      border-color: transparent;\n",
              "      border-bottom-color: var(--fill-color);\n",
              "    }\n",
              "  }\n",
              "</style>\n",
              "\n",
              "  <script>\n",
              "    async function quickchart(key) {\n",
              "      const quickchartButtonEl =\n",
              "        document.querySelector('#' + key + ' button');\n",
              "      quickchartButtonEl.disabled = true;  // To prevent multiple clicks.\n",
              "      quickchartButtonEl.classList.add('colab-df-spinner');\n",
              "      try {\n",
              "        const charts = await google.colab.kernel.invokeFunction(\n",
              "            'suggestCharts', [key], {});\n",
              "      } catch (error) {\n",
              "        console.error('Error during call to suggestCharts:', error);\n",
              "      }\n",
              "      quickchartButtonEl.classList.remove('colab-df-spinner');\n",
              "      quickchartButtonEl.classList.add('colab-df-quickchart-complete');\n",
              "    }\n",
              "    (() => {\n",
              "      let quickchartButtonEl =\n",
              "        document.querySelector('#df-ebf8ecb5-2e70-495b-a1f9-d74db6734c4c button');\n",
              "      quickchartButtonEl.style.display =\n",
              "        google.colab.kernel.accessAllowed ? 'block' : 'none';\n",
              "    })();\n",
              "  </script>\n",
              "</div>\n",
              "    </div>\n",
              "  </div>\n"
            ]
          },
          "metadata": {},
          "execution_count": 15
        }
      ],
      "source": [
        "crop.describe()"
      ],
      "id": "3d5b7413"
    },
    {
      "cell_type": "markdown",
      "metadata": {
        "id": "b10cce9f"
      },
      "source": [
        "# Exploring Data"
      ],
      "id": "b10cce9f"
    },
    {
      "cell_type": "code",
      "execution_count": 16,
      "metadata": {
        "colab": {
          "base_uri": "https://localhost:8080/",
          "height": 269
        },
        "id": "709d06f9",
        "outputId": "3a01af9a-631c-4e78-d12a-f27a315af335"
      },
      "outputs": [
        {
          "output_type": "execute_result",
          "data": {
            "text/plain": [
              "                    N         P         K  temperature  humidity        ph  \\\n",
              "N            1.000000 -0.231460 -0.140512     0.026504  0.190688  0.096683   \n",
              "P           -0.231460  1.000000  0.736232    -0.127541 -0.118734 -0.138019   \n",
              "K           -0.140512  0.736232  1.000000    -0.160387  0.190859 -0.169503   \n",
              "temperature  0.026504 -0.127541 -0.160387     1.000000  0.205320 -0.017795   \n",
              "humidity     0.190688 -0.118734  0.190859     0.205320  1.000000 -0.008483   \n",
              "ph           0.096683 -0.138019 -0.169503    -0.017795 -0.008483  1.000000   \n",
              "rainfall     0.059020 -0.063839 -0.053461    -0.030084  0.094423 -0.109069   \n",
              "\n",
              "             rainfall  \n",
              "N            0.059020  \n",
              "P           -0.063839  \n",
              "K           -0.053461  \n",
              "temperature -0.030084  \n",
              "humidity     0.094423  \n",
              "ph          -0.109069  \n",
              "rainfall     1.000000  "
            ],
            "text/html": [
              "\n",
              "  <div id=\"df-8c9f2f30-0594-478a-8555-65b0909adc72\" class=\"colab-df-container\">\n",
              "    <div>\n",
              "<style scoped>\n",
              "    .dataframe tbody tr th:only-of-type {\n",
              "        vertical-align: middle;\n",
              "    }\n",
              "\n",
              "    .dataframe tbody tr th {\n",
              "        vertical-align: top;\n",
              "    }\n",
              "\n",
              "    .dataframe thead th {\n",
              "        text-align: right;\n",
              "    }\n",
              "</style>\n",
              "<table border=\"1\" class=\"dataframe\">\n",
              "  <thead>\n",
              "    <tr style=\"text-align: right;\">\n",
              "      <th></th>\n",
              "      <th>N</th>\n",
              "      <th>P</th>\n",
              "      <th>K</th>\n",
              "      <th>temperature</th>\n",
              "      <th>humidity</th>\n",
              "      <th>ph</th>\n",
              "      <th>rainfall</th>\n",
              "    </tr>\n",
              "  </thead>\n",
              "  <tbody>\n",
              "    <tr>\n",
              "      <th>N</th>\n",
              "      <td>1.000000</td>\n",
              "      <td>-0.231460</td>\n",
              "      <td>-0.140512</td>\n",
              "      <td>0.026504</td>\n",
              "      <td>0.190688</td>\n",
              "      <td>0.096683</td>\n",
              "      <td>0.059020</td>\n",
              "    </tr>\n",
              "    <tr>\n",
              "      <th>P</th>\n",
              "      <td>-0.231460</td>\n",
              "      <td>1.000000</td>\n",
              "      <td>0.736232</td>\n",
              "      <td>-0.127541</td>\n",
              "      <td>-0.118734</td>\n",
              "      <td>-0.138019</td>\n",
              "      <td>-0.063839</td>\n",
              "    </tr>\n",
              "    <tr>\n",
              "      <th>K</th>\n",
              "      <td>-0.140512</td>\n",
              "      <td>0.736232</td>\n",
              "      <td>1.000000</td>\n",
              "      <td>-0.160387</td>\n",
              "      <td>0.190859</td>\n",
              "      <td>-0.169503</td>\n",
              "      <td>-0.053461</td>\n",
              "    </tr>\n",
              "    <tr>\n",
              "      <th>temperature</th>\n",
              "      <td>0.026504</td>\n",
              "      <td>-0.127541</td>\n",
              "      <td>-0.160387</td>\n",
              "      <td>1.000000</td>\n",
              "      <td>0.205320</td>\n",
              "      <td>-0.017795</td>\n",
              "      <td>-0.030084</td>\n",
              "    </tr>\n",
              "    <tr>\n",
              "      <th>humidity</th>\n",
              "      <td>0.190688</td>\n",
              "      <td>-0.118734</td>\n",
              "      <td>0.190859</td>\n",
              "      <td>0.205320</td>\n",
              "      <td>1.000000</td>\n",
              "      <td>-0.008483</td>\n",
              "      <td>0.094423</td>\n",
              "    </tr>\n",
              "    <tr>\n",
              "      <th>ph</th>\n",
              "      <td>0.096683</td>\n",
              "      <td>-0.138019</td>\n",
              "      <td>-0.169503</td>\n",
              "      <td>-0.017795</td>\n",
              "      <td>-0.008483</td>\n",
              "      <td>1.000000</td>\n",
              "      <td>-0.109069</td>\n",
              "    </tr>\n",
              "    <tr>\n",
              "      <th>rainfall</th>\n",
              "      <td>0.059020</td>\n",
              "      <td>-0.063839</td>\n",
              "      <td>-0.053461</td>\n",
              "      <td>-0.030084</td>\n",
              "      <td>0.094423</td>\n",
              "      <td>-0.109069</td>\n",
              "      <td>1.000000</td>\n",
              "    </tr>\n",
              "  </tbody>\n",
              "</table>\n",
              "</div>\n",
              "    <div class=\"colab-df-buttons\">\n",
              "\n",
              "  <div class=\"colab-df-container\">\n",
              "    <button class=\"colab-df-convert\" onclick=\"convertToInteractive('df-8c9f2f30-0594-478a-8555-65b0909adc72')\"\n",
              "            title=\"Convert this dataframe to an interactive table.\"\n",
              "            style=\"display:none;\">\n",
              "\n",
              "  <svg xmlns=\"http://www.w3.org/2000/svg\" height=\"24px\" viewBox=\"0 -960 960 960\">\n",
              "    <path d=\"M120-120v-720h720v720H120Zm60-500h600v-160H180v160Zm220 220h160v-160H400v160Zm0 220h160v-160H400v160ZM180-400h160v-160H180v160Zm440 0h160v-160H620v160ZM180-180h160v-160H180v160Zm440 0h160v-160H620v160Z\"/>\n",
              "  </svg>\n",
              "    </button>\n",
              "\n",
              "  <style>\n",
              "    .colab-df-container {\n",
              "      display:flex;\n",
              "      gap: 12px;\n",
              "    }\n",
              "\n",
              "    .colab-df-convert {\n",
              "      background-color: #E8F0FE;\n",
              "      border: none;\n",
              "      border-radius: 50%;\n",
              "      cursor: pointer;\n",
              "      display: none;\n",
              "      fill: #1967D2;\n",
              "      height: 32px;\n",
              "      padding: 0 0 0 0;\n",
              "      width: 32px;\n",
              "    }\n",
              "\n",
              "    .colab-df-convert:hover {\n",
              "      background-color: #E2EBFA;\n",
              "      box-shadow: 0px 1px 2px rgba(60, 64, 67, 0.3), 0px 1px 3px 1px rgba(60, 64, 67, 0.15);\n",
              "      fill: #174EA6;\n",
              "    }\n",
              "\n",
              "    .colab-df-buttons div {\n",
              "      margin-bottom: 4px;\n",
              "    }\n",
              "\n",
              "    [theme=dark] .colab-df-convert {\n",
              "      background-color: #3B4455;\n",
              "      fill: #D2E3FC;\n",
              "    }\n",
              "\n",
              "    [theme=dark] .colab-df-convert:hover {\n",
              "      background-color: #434B5C;\n",
              "      box-shadow: 0px 1px 3px 1px rgba(0, 0, 0, 0.15);\n",
              "      filter: drop-shadow(0px 1px 2px rgba(0, 0, 0, 0.3));\n",
              "      fill: #FFFFFF;\n",
              "    }\n",
              "  </style>\n",
              "\n",
              "    <script>\n",
              "      const buttonEl =\n",
              "        document.querySelector('#df-8c9f2f30-0594-478a-8555-65b0909adc72 button.colab-df-convert');\n",
              "      buttonEl.style.display =\n",
              "        google.colab.kernel.accessAllowed ? 'block' : 'none';\n",
              "\n",
              "      async function convertToInteractive(key) {\n",
              "        const element = document.querySelector('#df-8c9f2f30-0594-478a-8555-65b0909adc72');\n",
              "        const dataTable =\n",
              "          await google.colab.kernel.invokeFunction('convertToInteractive',\n",
              "                                                    [key], {});\n",
              "        if (!dataTable) return;\n",
              "\n",
              "        const docLinkHtml = 'Like what you see? Visit the ' +\n",
              "          '<a target=\"_blank\" href=https://colab.research.google.com/notebooks/data_table.ipynb>data table notebook</a>'\n",
              "          + ' to learn more about interactive tables.';\n",
              "        element.innerHTML = '';\n",
              "        dataTable['output_type'] = 'display_data';\n",
              "        await google.colab.output.renderOutput(dataTable, element);\n",
              "        const docLink = document.createElement('div');\n",
              "        docLink.innerHTML = docLinkHtml;\n",
              "        element.appendChild(docLink);\n",
              "      }\n",
              "    </script>\n",
              "  </div>\n",
              "\n",
              "\n",
              "<div id=\"df-9d373bef-a562-4509-adaa-1002e76e6e60\">\n",
              "  <button class=\"colab-df-quickchart\" onclick=\"quickchart('df-9d373bef-a562-4509-adaa-1002e76e6e60')\"\n",
              "            title=\"Suggest charts\"\n",
              "            style=\"display:none;\">\n",
              "\n",
              "<svg xmlns=\"http://www.w3.org/2000/svg\" height=\"24px\"viewBox=\"0 0 24 24\"\n",
              "     width=\"24px\">\n",
              "    <g>\n",
              "        <path d=\"M19 3H5c-1.1 0-2 .9-2 2v14c0 1.1.9 2 2 2h14c1.1 0 2-.9 2-2V5c0-1.1-.9-2-2-2zM9 17H7v-7h2v7zm4 0h-2V7h2v10zm4 0h-2v-4h2v4z\"/>\n",
              "    </g>\n",
              "</svg>\n",
              "  </button>\n",
              "\n",
              "<style>\n",
              "  .colab-df-quickchart {\n",
              "      --bg-color: #E8F0FE;\n",
              "      --fill-color: #1967D2;\n",
              "      --hover-bg-color: #E2EBFA;\n",
              "      --hover-fill-color: #174EA6;\n",
              "      --disabled-fill-color: #AAA;\n",
              "      --disabled-bg-color: #DDD;\n",
              "  }\n",
              "\n",
              "  [theme=dark] .colab-df-quickchart {\n",
              "      --bg-color: #3B4455;\n",
              "      --fill-color: #D2E3FC;\n",
              "      --hover-bg-color: #434B5C;\n",
              "      --hover-fill-color: #FFFFFF;\n",
              "      --disabled-bg-color: #3B4455;\n",
              "      --disabled-fill-color: #666;\n",
              "  }\n",
              "\n",
              "  .colab-df-quickchart {\n",
              "    background-color: var(--bg-color);\n",
              "    border: none;\n",
              "    border-radius: 50%;\n",
              "    cursor: pointer;\n",
              "    display: none;\n",
              "    fill: var(--fill-color);\n",
              "    height: 32px;\n",
              "    padding: 0;\n",
              "    width: 32px;\n",
              "  }\n",
              "\n",
              "  .colab-df-quickchart:hover {\n",
              "    background-color: var(--hover-bg-color);\n",
              "    box-shadow: 0 1px 2px rgba(60, 64, 67, 0.3), 0 1px 3px 1px rgba(60, 64, 67, 0.15);\n",
              "    fill: var(--button-hover-fill-color);\n",
              "  }\n",
              "\n",
              "  .colab-df-quickchart-complete:disabled,\n",
              "  .colab-df-quickchart-complete:disabled:hover {\n",
              "    background-color: var(--disabled-bg-color);\n",
              "    fill: var(--disabled-fill-color);\n",
              "    box-shadow: none;\n",
              "  }\n",
              "\n",
              "  .colab-df-spinner {\n",
              "    border: 2px solid var(--fill-color);\n",
              "    border-color: transparent;\n",
              "    border-bottom-color: var(--fill-color);\n",
              "    animation:\n",
              "      spin 1s steps(1) infinite;\n",
              "  }\n",
              "\n",
              "  @keyframes spin {\n",
              "    0% {\n",
              "      border-color: transparent;\n",
              "      border-bottom-color: var(--fill-color);\n",
              "      border-left-color: var(--fill-color);\n",
              "    }\n",
              "    20% {\n",
              "      border-color: transparent;\n",
              "      border-left-color: var(--fill-color);\n",
              "      border-top-color: var(--fill-color);\n",
              "    }\n",
              "    30% {\n",
              "      border-color: transparent;\n",
              "      border-left-color: var(--fill-color);\n",
              "      border-top-color: var(--fill-color);\n",
              "      border-right-color: var(--fill-color);\n",
              "    }\n",
              "    40% {\n",
              "      border-color: transparent;\n",
              "      border-right-color: var(--fill-color);\n",
              "      border-top-color: var(--fill-color);\n",
              "    }\n",
              "    60% {\n",
              "      border-color: transparent;\n",
              "      border-right-color: var(--fill-color);\n",
              "    }\n",
              "    80% {\n",
              "      border-color: transparent;\n",
              "      border-right-color: var(--fill-color);\n",
              "      border-bottom-color: var(--fill-color);\n",
              "    }\n",
              "    90% {\n",
              "      border-color: transparent;\n",
              "      border-bottom-color: var(--fill-color);\n",
              "    }\n",
              "  }\n",
              "</style>\n",
              "\n",
              "  <script>\n",
              "    async function quickchart(key) {\n",
              "      const quickchartButtonEl =\n",
              "        document.querySelector('#' + key + ' button');\n",
              "      quickchartButtonEl.disabled = true;  // To prevent multiple clicks.\n",
              "      quickchartButtonEl.classList.add('colab-df-spinner');\n",
              "      try {\n",
              "        const charts = await google.colab.kernel.invokeFunction(\n",
              "            'suggestCharts', [key], {});\n",
              "      } catch (error) {\n",
              "        console.error('Error during call to suggestCharts:', error);\n",
              "      }\n",
              "      quickchartButtonEl.classList.remove('colab-df-spinner');\n",
              "      quickchartButtonEl.classList.add('colab-df-quickchart-complete');\n",
              "    }\n",
              "    (() => {\n",
              "      let quickchartButtonEl =\n",
              "        document.querySelector('#df-9d373bef-a562-4509-adaa-1002e76e6e60 button');\n",
              "      quickchartButtonEl.style.display =\n",
              "        google.colab.kernel.accessAllowed ? 'block' : 'none';\n",
              "    })();\n",
              "  </script>\n",
              "</div>\n",
              "    </div>\n",
              "  </div>\n"
            ]
          },
          "metadata": {},
          "execution_count": 16
        }
      ],
      "source": [
        "corr = crop.corr()\n",
        "corr"
      ],
      "id": "709d06f9"
    },
    {
      "cell_type": "code",
      "execution_count": 17,
      "metadata": {
        "colab": {
          "base_uri": "https://localhost:8080/",
          "height": 526
        },
        "id": "95040822",
        "outputId": "c28f0eb1-935d-4278-df27-3d4c79613744"
      },
      "outputs": [
        {
          "output_type": "execute_result",
          "data": {
            "text/plain": [
              "<Axes: >"
            ]
          },
          "metadata": {},
          "execution_count": 17
        },
        {
          "output_type": "display_data",
          "data": {
            "text/plain": [
              "<Figure size 640x480 with 2 Axes>"
            ],
            "image/png": "[encoded data removed]"
          },
          "metadata": {}
        }
      ],
      "source": [
        "sns.heatmap(corr,annot=True,cbar=True, cmap='coolwarm')"
      ],
      "id": "95040822"
    },
    {
      "cell_type": "code",
      "execution_count": 18,
      "metadata": {
        "colab": {
          "base_uri": "https://localhost:8080/"
        },
        "id": "LLT-tylm94pc",
        "outputId": "328339d8-500b-4ce3-d713-9f3fd7e7abfc"
      },
      "outputs": [
        {
          "output_type": "execute_result",
          "data": {
            "text/plain": [
              "array(['rice', 'maize', 'chickpea', 'kidneybeans', 'pigeonpeas',\n",
              "       'mothbeans', 'mungbean', 'blackgram', 'lentil', 'pomegranate',\n",
              "       'banana', 'mango', 'grapes', 'watermelon', 'muskmelon', 'apple',\n",
              "       'orange', 'papaya', 'coconut', 'cotton', 'jute', 'coffee'],\n",
              "      dtype=object)"
            ]
          },
          "metadata": {},
          "execution_count": 18
        }
      ],
      "source": [
        "crop['label'].unique()"
      ],
      "id": "LLT-tylm94pc"
    },
    {
      "cell_type": "code",
      "execution_count": 19,
      "metadata": {
        "colab": {
          "base_uri": "https://localhost:8080/"
        },
        "id": "1056bfba",
        "outputId": "a11ef8f0-79d2-402e-a65e-280c902b1b02"
      },
      "outputs": [
        {
          "output_type": "execute_result",
          "data": {
            "text/plain": [
              "rice           100\n",
              "maize          100\n",
              "jute           100\n",
              "cotton         100\n",
              "coconut        100\n",
              "papaya         100\n",
              "orange         100\n",
              "apple          100\n",
              "muskmelon      100\n",
              "watermelon     100\n",
              "grapes         100\n",
              "mango          100\n",
              "banana         100\n",
              "pomegranate    100\n",
              "lentil         100\n",
              "blackgram      100\n",
              "mungbean       100\n",
              "mothbeans      100\n",
              "pigeonpeas     100\n",
              "kidneybeans    100\n",
              "chickpea       100\n",
              "coffee         100\n",
              "Name: label, dtype: int64"
            ]
          },
          "metadata": {},
          "execution_count": 19
        }
      ],
      "source": [
        "crop['label'].value_counts()"
      ],
      "id": "1056bfba"
    },
    {
      "cell_type": "code",
      "execution_count": 20,
      "metadata": {
        "colab": {
          "base_uri": "https://localhost:8080/"
        },
        "id": "u4fKKu7B4OJp",
        "outputId": "948cdcd5-af29-4be7-8950-334ca4fa2068"
      },
      "outputs": [
        {
          "output_type": "execute_result",
          "data": {
            "text/plain": [
              "22     44\n",
              "40     44\n",
              "27     42\n",
              "39     41\n",
              "31     41\n",
              "       ..\n",
              "136     2\n",
              "139     1\n",
              "135     1\n",
              "130     1\n",
              "46      1\n",
              "Name: N, Length: 137, dtype: int64"
            ]
          },
          "metadata": {},
          "execution_count": 20
        }
      ],
      "source": [
        "crop['N'].value_counts()"
      ],
      "id": "u4fKKu7B4OJp"
    },
    {
      "cell_type": "code",
      "execution_count": 21,
      "metadata": {
        "colab": {
          "base_uri": "https://localhost:8080/",
          "height": 449
        },
        "id": "LOIfq-2P4KLb",
        "outputId": "538759e6-200e-49a7-d32a-9572db1b92b2"
      },
      "outputs": [
        {
          "output_type": "display_data",
          "data": {
            "text/plain": [
              "<Figure size 640x480 with 1 Axes>"
            ],
            "image/png": "[encoded data removed]"
          },
          "metadata": {}
        }
      ],
      "source": [
        "sns.distplot(crop['N'])\n",
        "plt.show()"
      ],
      "id": "LOIfq-2P4KLb"
    },
    {
      "cell_type": "code",
      "execution_count": 22,
      "metadata": {
        "colab": {
          "base_uri": "https://localhost:8080/"
        },
        "id": "-kQ41py215zA",
        "outputId": "017bcf1a-8376-4e2a-9fb1-9da968594ede"
      },
      "outputs": [
        {
          "output_type": "execute_result",
          "data": {
            "text/plain": [
              "82.002744    1\n",
              "90.336987    1\n",
              "93.907412    1\n",
              "91.473558    1\n",
              "94.037115    1\n",
              "            ..\n",
              "66.637972    1\n",
              "61.532786    1\n",
              "61.692951    1\n",
              "69.090478    1\n",
              "60.396475    1\n",
              "Name: humidity, Length: 2200, dtype: int64"
            ]
          },
          "metadata": {},
          "execution_count": 22
        }
      ],
      "source": [
        "crop['humidity'].value_counts()"
      ],
      "id": "-kQ41py215zA"
    },
    {
      "cell_type": "code",
      "execution_count": 23,
      "metadata": {
        "id": "cVQh_EVMjGBF"
      },
      "outputs": [],
      "source": [
        "#the dropping of the V5 columns and store it in y variable\n",
        "#X = ccd.drop('humidity', axis=1)\n",
        "#y = ccd[['humidity']]\n",
        "#the showing of the distribution plot\n",
        "#sns.distplot(y['humidity'])"
      ],
      "id": "cVQh_EVMjGBF"
    },
    {
      "cell_type": "code",
      "execution_count": 24,
      "metadata": {
        "colab": {
          "base_uri": "https://localhost:8080/",
          "height": 466
        },
        "id": "b_vqbdYm1dKR",
        "outputId": "589fd1f5-d36b-4ae4-bd9e-79386e77ed9c"
      },
      "outputs": [
        {
          "output_type": "execute_result",
          "data": {
            "text/plain": [
              "<Axes: xlabel='humidity', ylabel='Density'>"
            ]
          },
          "metadata": {},
          "execution_count": 24
        },
        {
          "output_type": "display_data",
          "data": {
            "text/plain": [
              "<Figure size 640x480 with 1 Axes>"
            ],
            "image/png": "[encoded data removed]"
          },
          "metadata": {}
        }
      ],
      "source": [
        "#the showing of the distribution plot\n",
        "sns.distplot(crop['humidity'])"
      ],
      "id": "b_vqbdYm1dKR"
    },
    {
      "cell_type": "code",
      "execution_count": 25,
      "metadata": {
        "colab": {
          "base_uri": "https://localhost:8080/",
          "height": 455
        },
        "id": "5dlnqxh25VQM",
        "outputId": "8f1e2f87-7529-456c-9cce-323d594b0e45"
      },
      "outputs": [
        {
          "output_type": "execute_result",
          "data": {
            "text/plain": [
              "              N     P     K  temperature        ph    rainfall\n",
              "humidity                                                      \n",
              "14.258040  28.0  76.0  82.0    20.566019  6.654425   83.759371\n",
              "14.273280  35.0  64.0  78.0    17.928459  7.496645   85.373788\n",
              "14.280419  42.0  74.0  83.0    19.258256  7.545258   65.780420\n",
              "14.323138  31.0  70.0  77.0    20.888187  6.492546   90.462283\n",
              "14.338474  48.0  65.0  78.0    17.437327  7.861128   73.092670\n",
              "...         ...   ...   ...          ...       ...         ...\n",
              "99.658092  19.0  15.0  34.0    26.296449  5.685889  215.919505\n",
              "99.724010  21.0  20.0  31.0    25.600337  5.855458  165.824873\n",
              "99.846716   3.0   9.0  35.0    26.916419  6.318553  225.632366\n",
              "99.969060   6.0  13.0  29.0    27.311557  5.832608  201.825863\n",
              "99.981876  40.0  22.0  29.0    27.558218  5.735364  174.625648\n",
              "\n",
              "[2200 rows x 6 columns]"
            ],
            "text/html": [
              "\n",
              "  <div id=\"df-34b387f5-e7f5-4520-9267-ab7279f4425a\" class=\"colab-df-container\">\n",
              "    <div>\n",
              "<style scoped>\n",
              "    .dataframe tbody tr th:only-of-type {\n",
              "        vertical-align: middle;\n",
              "    }\n",
              "\n",
              "    .dataframe tbody tr th {\n",
              "        vertical-align: top;\n",
              "    }\n",
              "\n",
              "    .dataframe thead th {\n",
              "        text-align: right;\n",
              "    }\n",
              "</style>\n",
              "<table border=\"1\" class=\"dataframe\">\n",
              "  <thead>\n",
              "    <tr style=\"text-align: right;\">\n",
              "      <th></th>\n",
              "      <th>N</th>\n",
              "      <th>P</th>\n",
              "      <th>K</th>\n",
              "      <th>temperature</th>\n",
              "      <th>ph</th>\n",
              "      <th>rainfall</th>\n",
              "    </tr>\n",
              "    <tr>\n",
              "      <th>humidity</th>\n",
              "      <th></th>\n",
              "      <th></th>\n",
              "      <th></th>\n",
              "      <th></th>\n",
              "      <th></th>\n",
              "      <th></th>\n",
              "    </tr>\n",
              "  </thead>\n",
              "  <tbody>\n",
              "    <tr>\n",
              "      <th>14.258040</th>\n",
              "      <td>28.0</td>\n",
              "      <td>76.0</td>\n",
              "      <td>82.0</td>\n",
              "      <td>20.566019</td>\n",
              "      <td>6.654425</td>\n",
              "      <td>83.759371</td>\n",
              "    </tr>\n",
              "    <tr>\n",
              "      <th>14.273280</th>\n",
              "      <td>35.0</td>\n",
              "      <td>64.0</td>\n",
              "      <td>78.0</td>\n",
              "      <td>17.928459</td>\n",
              "      <td>7.496645</td>\n",
              "      <td>85.373788</td>\n",
              "    </tr>\n",
              "    <tr>\n",
              "      <th>14.280419</th>\n",
              "      <td>42.0</td>\n",
              "      <td>74.0</td>\n",
              "      <td>83.0</td>\n",
              "      <td>19.258256</td>\n",
              "      <td>7.545258</td>\n",
              "      <td>65.780420</td>\n",
              "    </tr>\n",
              "    <tr>\n",
              "      <th>14.323138</th>\n",
              "      <td>31.0</td>\n",
              "      <td>70.0</td>\n",
              "      <td>77.0</td>\n",
              "      <td>20.888187</td>\n",
              "      <td>6.492546</td>\n",
              "      <td>90.462283</td>\n",
              "    </tr>\n",
              "    <tr>\n",
              "      <th>14.338474</th>\n",
              "      <td>48.0</td>\n",
              "      <td>65.0</td>\n",
              "      <td>78.0</td>\n",
              "      <td>17.437327</td>\n",
              "      <td>7.861128</td>\n",
              "      <td>73.092670</td>\n",
              "    </tr>\n",
              "    <tr>\n",
              "      <th>...</th>\n",
              "      <td>...</td>\n",
              "      <td>...</td>\n",
              "      <td>...</td>\n",
              "      <td>...</td>\n",
              "      <td>...</td>\n",
              "      <td>...</td>\n",
              "    </tr>\n",
              "    <tr>\n",
              "      <th>99.658092</th>\n",
              "      <td>19.0</td>\n",
              "      <td>15.0</td>\n",
              "      <td>34.0</td>\n",
              "      <td>26.296449</td>\n",
              "      <td>5.685889</td>\n",
              "      <td>215.919505</td>\n",
              "    </tr>\n",
              "    <tr>\n",
              "      <th>99.724010</th>\n",
              "      <td>21.0</td>\n",
              "      <td>20.0</td>\n",
              "      <td>31.0</td>\n",
              "      <td>25.600337</td>\n",
              "      <td>5.855458</td>\n",
              "      <td>165.824873</td>\n",
              "    </tr>\n",
              "    <tr>\n",
              "      <th>99.846716</th>\n",
              "      <td>3.0</td>\n",
              "      <td>9.0</td>\n",
              "      <td>35.0</td>\n",
              "      <td>26.916419</td>\n",
              "      <td>6.318553</td>\n",
              "      <td>225.632366</td>\n",
              "    </tr>\n",
              "    <tr>\n",
              "      <th>99.969060</th>\n",
              "      <td>6.0</td>\n",
              "      <td>13.0</td>\n",
              "      <td>29.0</td>\n",
              "      <td>27.311557</td>\n",
              "      <td>5.832608</td>\n",
              "      <td>201.825863</td>\n",
              "    </tr>\n",
              "    <tr>\n",
              "      <th>99.981876</th>\n",
              "      <td>40.0</td>\n",
              "      <td>22.0</td>\n",
              "      <td>29.0</td>\n",
              "      <td>27.558218</td>\n",
              "      <td>5.735364</td>\n",
              "      <td>174.625648</td>\n",
              "    </tr>\n",
              "  </tbody>\n",
              "</table>\n",
              "<p>2200 rows × 6 columns</p>\n",
              "</div>\n",
              "    <div class=\"colab-df-buttons\">\n",
              "\n",
              "  <div class=\"colab-df-container\">\n",
              "    <button class=\"colab-df-convert\" onclick=\"convertToInteractive('df-34b387f5-e7f5-4520-9267-ab7279f4425a')\"\n",
              "            title=\"Convert this dataframe to an interactive table.\"\n",
              "            style=\"display:none;\">\n",
              "\n",
              "  <svg xmlns=\"http://www.w3.org/2000/svg\" height=\"24px\" viewBox=\"0 -960 960 960\">\n",
              "    <path d=\"M120-120v-720h720v720H120Zm60-500h600v-160H180v160Zm220 220h160v-160H400v160Zm0 220h160v-160H400v160ZM180-400h160v-160H180v160Zm440 0h160v-160H620v160ZM180-180h160v-160H180v160Zm440 0h160v-160H620v160Z\"/>\n",
              "  </svg>\n",
              "    </button>\n",
              "\n",
              "  <style>\n",
              "    .colab-df-container {\n",
              "      display:flex;\n",
              "      gap: 12px;\n",
              "    }\n",
              "\n",
              "    .colab-df-convert {\n",
              "      background-color: #E8F0FE;\n",
              "      border: none;\n",
              "      border-radius: 50%;\n",
              "      cursor: pointer;\n",
              "      display: none;\n",
              "      fill: #1967D2;\n",
              "      height: 32px;\n",
              "      padding: 0 0 0 0;\n",
              "      width: 32px;\n",
              "    }\n",
              "\n",
              "    .colab-df-convert:hover {\n",
              "      background-color: #E2EBFA;\n",
              "      box-shadow: 0px 1px 2px rgba(60, 64, 67, 0.3), 0px 1px 3px 1px rgba(60, 64, 67, 0.15);\n",
              "      fill: #174EA6;\n",
              "    }\n",
              "\n",
              "    .colab-df-buttons div {\n",
              "      margin-bottom: 4px;\n",
              "    }\n",
              "\n",
              "    [theme=dark] .colab-df-convert {\n",
              "      background-color: #3B4455;\n",
              "      fill: #D2E3FC;\n",
              "    }\n",
              "\n",
              "    [theme=dark] .colab-df-convert:hover {\n",
              "      background-color: #434B5C;\n",
              "      box-shadow: 0px 1px 3px 1px rgba(0, 0, 0, 0.15);\n",
              "      filter: drop-shadow(0px 1px 2px rgba(0, 0, 0, 0.3));\n",
              "      fill: #FFFFFF;\n",
              "    }\n",
              "  </style>\n",
              "\n",
              "    <script>\n",
              "      const buttonEl =\n",
              "        document.querySelector('#df-34b387f5-e7f5-4520-9267-ab7279f4425a button.colab-df-convert');\n",
              "      buttonEl.style.display =\n",
              "        google.colab.kernel.accessAllowed ? 'block' : 'none';\n",
              "\n",
              "      async function convertToInteractive(key) {\n",
              "        const element = document.querySelector('#df-34b387f5-e7f5-4520-9267-ab7279f4425a');\n",
              "        const dataTable =\n",
              "          await google.colab.kernel.invokeFunction('convertToInteractive',\n",
              "                                                    [key], {});\n",
              "        if (!dataTable) return;\n",
              "\n",
              "        const docLinkHtml = 'Like what you see? Visit the ' +\n",
              "          '<a target=\"_blank\" href=https://colab.research.google.com/notebooks/data_table.ipynb>data table notebook</a>'\n",
              "          + ' to learn more about interactive tables.';\n",
              "        element.innerHTML = '';\n",
              "        dataTable['output_type'] = 'display_data';\n",
              "        await google.colab.output.renderOutput(dataTable, element);\n",
              "        const docLink = document.createElement('div');\n",
              "        docLink.innerHTML = docLinkHtml;\n",
              "        element.appendChild(docLink);\n",
              "      }\n",
              "    </script>\n",
              "  </div>\n",
              "\n",
              "\n",
              "<div id=\"df-9df581ae-9c4a-41a8-8e3a-87f21c89f81f\">\n",
              "  <button class=\"colab-df-quickchart\" onclick=\"quickchart('df-9df581ae-9c4a-41a8-8e3a-87f21c89f81f')\"\n",
              "            title=\"Suggest charts\"\n",
              "            style=\"display:none;\">\n",
              "\n",
              "<svg xmlns=\"http://www.w3.org/2000/svg\" height=\"24px\"viewBox=\"0 0 24 24\"\n",
              "     width=\"24px\">\n",
              "    <g>\n",
              "        <path d=\"M19 3H5c-1.1 0-2 .9-2 2v14c0 1.1.9 2 2 2h14c1.1 0 2-.9 2-2V5c0-1.1-.9-2-2-2zM9 17H7v-7h2v7zm4 0h-2V7h2v10zm4 0h-2v-4h2v4z\"/>\n",
              "    </g>\n",
              "</svg>\n",
              "  </button>\n",
              "\n",
              "<style>\n",
              "  .colab-df-quickchart {\n",
              "      --bg-color: #E8F0FE;\n",
              "      --fill-color: #1967D2;\n",
              "      --hover-bg-color: #E2EBFA;\n",
              "      --hover-fill-color: #174EA6;\n",
              "      --disabled-fill-color: #AAA;\n",
              "      --disabled-bg-color: #DDD;\n",
              "  }\n",
              "\n",
              "  [theme=dark] .colab-df-quickchart {\n",
              "      --bg-color: #3B4455;\n",
              "      --fill-color: #D2E3FC;\n",
              "      --hover-bg-color: #434B5C;\n",
              "      --hover-fill-color: #FFFFFF;\n",
              "      --disabled-bg-color: #3B4455;\n",
              "      --disabled-fill-color: #666;\n",
              "  }\n",
              "\n",
              "  .colab-df-quickchart {\n",
              "    background-color: var(--bg-color);\n",
              "    border: none;\n",
              "    border-radius: 50%;\n",
              "    cursor: pointer;\n",
              "    display: none;\n",
              "    fill: var(--fill-color);\n",
              "    height: 32px;\n",
              "    padding: 0;\n",
              "    width: 32px;\n",
              "  }\n",
              "\n",
              "  .colab-df-quickchart:hover {\n",
              "    background-color: var(--hover-bg-color);\n",
              "    box-shadow: 0 1px 2px rgba(60, 64, 67, 0.3), 0 1px 3px 1px rgba(60, 64, 67, 0.15);\n",
              "    fill: var(--button-hover-fill-color);\n",
              "  }\n",
              "\n",
              "  .colab-df-quickchart-complete:disabled,\n",
              "  .colab-df-quickchart-complete:disabled:hover {\n",
              "    background-color: var(--disabled-bg-color);\n",
              "    fill: var(--disabled-fill-color);\n",
              "    box-shadow: none;\n",
              "  }\n",
              "\n",
              "  .colab-df-spinner {\n",
              "    border: 2px solid var(--fill-color);\n",
              "    border-color: transparent;\n",
              "    border-bottom-color: var(--fill-color);\n",
              "    animation:\n",
              "      spin 1s steps(1) infinite;\n",
              "  }\n",
              "\n",
              "  @keyframes spin {\n",
              "    0% {\n",
              "      border-color: transparent;\n",
              "      border-bottom-color: var(--fill-color);\n",
              "      border-left-color: var(--fill-color);\n",
              "    }\n",
              "    20% {\n",
              "      border-color: transparent;\n",
              "      border-left-color: var(--fill-color);\n",
              "      border-top-color: var(--fill-color);\n",
              "    }\n",
              "    30% {\n",
              "      border-color: transparent;\n",
              "      border-left-color: var(--fill-color);\n",
              "      border-top-color: var(--fill-color);\n",
              "      border-right-color: var(--fill-color);\n",
              "    }\n",
              "    40% {\n",
              "      border-color: transparent;\n",
              "      border-right-color: var(--fill-color);\n",
              "      border-top-color: var(--fill-color);\n",
              "    }\n",
              "    60% {\n",
              "      border-color: transparent;\n",
              "      border-right-color: var(--fill-color);\n",
              "    }\n",
              "    80% {\n",
              "      border-color: transparent;\n",
              "      border-right-color: var(--fill-color);\n",
              "      border-bottom-color: var(--fill-color);\n",
              "    }\n",
              "    90% {\n",
              "      border-color: transparent;\n",
              "      border-bottom-color: var(--fill-color);\n",
              "    }\n",
              "  }\n",
              "</style>\n",
              "\n",
              "  <script>\n",
              "    async function quickchart(key) {\n",
              "      const quickchartButtonEl =\n",
              "        document.querySelector('#' + key + ' button');\n",
              "      quickchartButtonEl.disabled = true;  // To prevent multiple clicks.\n",
              "      quickchartButtonEl.classList.add('colab-df-spinner');\n",
              "      try {\n",
              "        const charts = await google.colab.kernel.invokeFunction(\n",
              "            'suggestCharts', [key], {});\n",
              "      } catch (error) {\n",
              "        console.error('Error during call to suggestCharts:', error);\n",
              "      }\n",
              "      quickchartButtonEl.classList.remove('colab-df-spinner');\n",
              "      quickchartButtonEl.classList.add('colab-df-quickchart-complete');\n",
              "    }\n",
              "    (() => {\n",
              "      let quickchartButtonEl =\n",
              "        document.querySelector('#df-9df581ae-9c4a-41a8-8e3a-87f21c89f81f button');\n",
              "      quickchartButtonEl.style.display =\n",
              "        google.colab.kernel.accessAllowed ? 'block' : 'none';\n",
              "    })();\n",
              "  </script>\n",
              "</div>\n",
              "    </div>\n",
              "  </div>\n"
            ]
          },
          "metadata": {},
          "execution_count": 25
        }
      ],
      "source": [
        "crop.groupby('humidity').mean()"
      ],
      "id": "5dlnqxh25VQM"
    },
    {
      "cell_type": "code",
      "execution_count": 26,
      "metadata": {
        "colab": {
          "base_uri": "https://localhost:8080/",
          "height": 482
        },
        "id": "xWuS5zPk3iS9",
        "outputId": "629deb79-9355-4847-d2e7-7d1a6ac7f514"
      },
      "outputs": [
        {
          "output_type": "execute_result",
          "data": {
            "text/plain": [
              "Text(0, 0.5, 'temperature')"
            ]
          },
          "metadata": {},
          "execution_count": 26
        },
        {
          "output_type": "display_data",
          "data": {
            "text/plain": [
              "<Figure size 500x500 with 1 Axes>"
            ],
            "image/png": "[encoded data removed]"
          },
          "metadata": {}
        }
      ],
      "source": [
        "#The histogram plot\n",
        "plt.figure(figsize=(5,5))\n",
        "plt.subplot(1, 1, 1)\n",
        "fig = crop.humidity.hist(bins=5)\n",
        "fig.set_xlabel('humidity')\n",
        "fig.set_ylabel('temperature')"
      ],
      "id": "xWuS5zPk3iS9"
    },
    {
      "cell_type": "markdown",
      "metadata": {
        "id": "3e3af150"
      },
      "source": [
        "# Encoding"
      ],
      "id": "3e3af150"
    },
    {
      "cell_type": "code",
      "execution_count": 27,
      "metadata": {
        "id": "8c35d395"
      },
      "outputs": [],
      "source": [
        "crop_dict = {\n",
        "    'rice': 1,\n",
        "    'maize': 2,\n",
        "    'jute': 3,\n",
        "    'cotton': 4,\n",
        "    'coconut': 5,\n",
        "    'papaya': 6,\n",
        "    'orange': 7,\n",
        "    'apple': 8,\n",
        "    'muskmelon': 9,\n",
        "    'watermelon': 10,\n",
        "    'grapes': 11,\n",
        "    'mango': 12,\n",
        "    'banana': 13,\n",
        "    'pomegranate': 14,\n",
        "    'lentil': 15,\n",
        "    'blackgram': 16,\n",
        "    'mungbean': 17,\n",
        "    'mothbeans': 18,\n",
        "    'pigeonpeas': 19,\n",
        "    'kidneybeans': 20,\n",
        "    'chickpea': 21,\n",
        "    'coffee': 22\n",
        "}\n",
        "crop['crop_num']=crop['label'].map(crop_dict)"
      ],
      "id": "8c35d395"
    },
    {
      "cell_type": "code",
      "execution_count": 28,
      "metadata": {
        "colab": {
          "base_uri": "https://localhost:8080/"
        },
        "id": "b1a53f7f",
        "outputId": "93deb01f-d850-47fa-b80b-cba311b7b530"
      },
      "outputs": [
        {
          "output_type": "execute_result",
          "data": {
            "text/plain": [
              "1     100\n",
              "2     100\n",
              "3     100\n",
              "4     100\n",
              "5     100\n",
              "6     100\n",
              "7     100\n",
              "8     100\n",
              "9     100\n",
              "10    100\n",
              "11    100\n",
              "12    100\n",
              "13    100\n",
              "14    100\n",
              "15    100\n",
              "16    100\n",
              "17    100\n",
              "18    100\n",
              "19    100\n",
              "20    100\n",
              "21    100\n",
              "22    100\n",
              "Name: crop_num, dtype: int64"
            ]
          },
          "metadata": {},
          "execution_count": 28
        }
      ],
      "source": [
        "crop['crop_num'].value_counts()"
      ],
      "id": "b1a53f7f"
    },
    {
      "cell_type": "code",
      "execution_count": 29,
      "metadata": {
        "colab": {
          "base_uri": "https://localhost:8080/",
          "height": 206
        },
        "id": "dff5caca",
        "outputId": "6209f604-3e4c-494e-9f98-a043ddf827f3"
      },
      "outputs": [
        {
          "output_type": "execute_result",
          "data": {
            "text/plain": [
              "    N   P   K  temperature   humidity        ph    rainfall label  crop_num\n",
              "0  90  42  43    20.879744  82.002744  6.502985  202.935536  rice         1\n",
              "1  85  58  41    21.770462  80.319644  7.038096  226.655537  rice         1\n",
              "2  60  55  44    23.004459  82.320763  7.840207  263.964248  rice         1\n",
              "3  74  35  40    26.491096  80.158363  6.980401  242.864034  rice         1\n",
              "4  78  42  42    20.130175  81.604873  7.628473  262.717340  rice         1"
            ],
            "text/html": [
              "\n",
              "  <div id=\"df-b6f07042-1ef4-4823-ac5d-f3139ea9fc6c\" class=\"colab-df-container\">\n",
              "    <div>\n",
              "<style scoped>\n",
              "    .dataframe tbody tr th:only-of-type {\n",
              "        vertical-align: middle;\n",
              "    }\n",
              "\n",
              "    .dataframe tbody tr th {\n",
              "        vertical-align: top;\n",
              "    }\n",
              "\n",
              "    .dataframe thead th {\n",
              "        text-align: right;\n",
              "    }\n",
              "</style>\n",
              "<table border=\"1\" class=\"dataframe\">\n",
              "  <thead>\n",
              "    <tr style=\"text-align: right;\">\n",
              "      <th></th>\n",
              "      <th>N</th>\n",
              "      <th>P</th>\n",
              "      <th>K</th>\n",
              "      <th>temperature</th>\n",
              "      <th>humidity</th>\n",
              "      <th>ph</th>\n",
              "      <th>rainfall</th>\n",
              "      <th>label</th>\n",
              "      <th>crop_num</th>\n",
              "    </tr>\n",
              "  </thead>\n",
              "  <tbody>\n",
              "    <tr>\n",
              "      <th>0</th>\n",
              "      <td>90</td>\n",
              "      <td>42</td>\n",
              "      <td>43</td>\n",
              "      <td>20.879744</td>\n",
              "      <td>82.002744</td>\n",
              "      <td>6.502985</td>\n",
              "      <td>202.935536</td>\n",
              "      <td>rice</td>\n",
              "      <td>1</td>\n",
              "    </tr>\n",
              "    <tr>\n",
              "      <th>1</th>\n",
              "      <td>85</td>\n",
              "      <td>58</td>\n",
              "      <td>41</td>\n",
              "      <td>21.770462</td>\n",
              "      <td>80.319644</td>\n",
              "      <td>7.038096</td>\n",
              "      <td>226.655537</td>\n",
              "      <td>rice</td>\n",
              "      <td>1</td>\n",
              "    </tr>\n",
              "    <tr>\n",
              "      <th>2</th>\n",
              "      <td>60</td>\n",
              "      <td>55</td>\n",
              "      <td>44</td>\n",
              "      <td>23.004459</td>\n",
              "      <td>82.320763</td>\n",
              "      <td>7.840207</td>\n",
              "      <td>263.964248</td>\n",
              "      <td>rice</td>\n",
              "      <td>1</td>\n",
              "    </tr>\n",
              "    <tr>\n",
              "      <th>3</th>\n",
              "      <td>74</td>\n",
              "      <td>35</td>\n",
              "      <td>40</td>\n",
              "      <td>26.491096</td>\n",
              "      <td>80.158363</td>\n",
              "      <td>6.980401</td>\n",
              "      <td>242.864034</td>\n",
              "      <td>rice</td>\n",
              "      <td>1</td>\n",
              "    </tr>\n",
              "    <tr>\n",
              "      <th>4</th>\n",
              "      <td>78</td>\n",
              "      <td>42</td>\n",
              "      <td>42</td>\n",
              "      <td>20.130175</td>\n",
              "      <td>81.604873</td>\n",
              "      <td>7.628473</td>\n",
              "      <td>262.717340</td>\n",
              "      <td>rice</td>\n",
              "      <td>1</td>\n",
              "    </tr>\n",
              "  </tbody>\n",
              "</table>\n",
              "</div>\n",
              "    <div class=\"colab-df-buttons\">\n",
              "\n",
              "  <div class=\"colab-df-container\">\n",
              "    <button class=\"colab-df-convert\" onclick=\"convertToInteractive('df-b6f07042-1ef4-4823-ac5d-f3139ea9fc6c')\"\n",
              "            title=\"Convert this dataframe to an interactive table.\"\n",
              "            style=\"display:none;\">\n",
              "\n",
              "  <svg xmlns=\"http://www.w3.org/2000/svg\" height=\"24px\" viewBox=\"0 -960 960 960\">\n",
              "    <path d=\"M120-120v-720h720v720H120Zm60-500h600v-160H180v160Zm220 220h160v-160H400v160Zm0 220h160v-160H400v160ZM180-400h160v-160H180v160Zm440 0h160v-160H620v160ZM180-180h160v-160H180v160Zm440 0h160v-160H620v160Z\"/>\n",
              "  </svg>\n",
              "    </button>\n",
              "\n",
              "  <style>\n",
              "    .colab-df-container {\n",
              "      display:flex;\n",
              "      gap: 12px;\n",
              "    }\n",
              "\n",
              "    .colab-df-convert {\n",
              "      background-color: #E8F0FE;\n",
              "      border: none;\n",
              "      border-radius: 50%;\n",
              "      cursor: pointer;\n",
              "      display: none;\n",
              "      fill: #1967D2;\n",
              "      height: 32px;\n",
              "      padding: 0 0 0 0;\n",
              "      width: 32px;\n",
              "    }\n",
              "\n",
              "    .colab-df-convert:hover {\n",
              "      background-color: #E2EBFA;\n",
              "      box-shadow: 0px 1px 2px rgba(60, 64, 67, 0.3), 0px 1px 3px 1px rgba(60, 64, 67, 0.15);\n",
              "      fill: #174EA6;\n",
              "    }\n",
              "\n",
              "    .colab-df-buttons div {\n",
              "      margin-bottom: 4px;\n",
              "    }\n",
              "\n",
              "    [theme=dark] .colab-df-convert {\n",
              "      background-color: #3B4455;\n",
              "      fill: #D2E3FC;\n",
              "    }\n",
              "\n",
              "    [theme=dark] .colab-df-convert:hover {\n",
              "      background-color: #434B5C;\n",
              "      box-shadow: 0px 1px 3px 1px rgba(0, 0, 0, 0.15);\n",
              "      filter: drop-shadow(0px 1px 2px rgba(0, 0, 0, 0.3));\n",
              "      fill: #FFFFFF;\n",
              "    }\n",
              "  </style>\n",
              "\n",
              "    <script>\n",
              "      const buttonEl =\n",
              "        document.querySelector('#df-b6f07042-1ef4-4823-ac5d-f3139ea9fc6c button.colab-df-convert');\n",
              "      buttonEl.style.display =\n",
              "        google.colab.kernel.accessAllowed ? 'block' : 'none';\n",
              "\n",
              "      async function convertToInteractive(key) {\n",
              "        const element = document.querySelector('#df-b6f07042-1ef4-4823-ac5d-f3139ea9fc6c');\n",
              "        const dataTable =\n",
              "          await google.colab.kernel.invokeFunction('convertToInteractive',\n",
              "                                                    [key], {});\n",
              "        if (!dataTable) return;\n",
              "\n",
              "        const docLinkHtml = 'Like what you see? Visit the ' +\n",
              "          '<a target=\"_blank\" href=https://colab.research.google.com/notebooks/data_table.ipynb>data table notebook</a>'\n",
              "          + ' to learn more about interactive tables.';\n",
              "        element.innerHTML = '';\n",
              "        dataTable['output_type'] = 'display_data';\n",
              "        await google.colab.output.renderOutput(dataTable, element);\n",
              "        const docLink = document.createElement('div');\n",
              "        docLink.innerHTML = docLinkHtml;\n",
              "        element.appendChild(docLink);\n",
              "      }\n",
              "    </script>\n",
              "  </div>\n",
              "\n",
              "\n",
              "<div id=\"df-923fd94a-096b-4242-8352-fe2d1e501319\">\n",
              "  <button class=\"colab-df-quickchart\" onclick=\"quickchart('df-923fd94a-096b-4242-8352-fe2d1e501319')\"\n",
              "            title=\"Suggest charts\"\n",
              "            style=\"display:none;\">\n",
              "\n",
              "<svg xmlns=\"http://www.w3.org/2000/svg\" height=\"24px\"viewBox=\"0 0 24 24\"\n",
              "     width=\"24px\">\n",
              "    <g>\n",
              "        <path d=\"M19 3H5c-1.1 0-2 .9-2 2v14c0 1.1.9 2 2 2h14c1.1 0 2-.9 2-2V5c0-1.1-.9-2-2-2zM9 17H7v-7h2v7zm4 0h-2V7h2v10zm4 0h-2v-4h2v4z\"/>\n",
              "    </g>\n",
              "</svg>\n",
              "  </button>\n",
              "\n",
              "<style>\n",
              "  .colab-df-quickchart {\n",
              "      --bg-color: #E8F0FE;\n",
              "      --fill-color: #1967D2;\n",
              "      --hover-bg-color: #E2EBFA;\n",
              "      --hover-fill-color: #174EA6;\n",
              "      --disabled-fill-color: #AAA;\n",
              "      --disabled-bg-color: #DDD;\n",
              "  }\n",
              "\n",
              "  [theme=dark] .colab-df-quickchart {\n",
              "      --bg-color: #3B4455;\n",
              "      --fill-color: #D2E3FC;\n",
              "      --hover-bg-color: #434B5C;\n",
              "      --hover-fill-color: #FFFFFF;\n",
              "      --disabled-bg-color: #3B4455;\n",
              "      --disabled-fill-color: #666;\n",
              "  }\n",
              "\n",
              "  .colab-df-quickchart {\n",
              "    background-color: var(--bg-color);\n",
              "    border: none;\n",
              "    border-radius: 50%;\n",
              "    cursor: pointer;\n",
              "    display: none;\n",
              "    fill: var(--fill-color);\n",
              "    height: 32px;\n",
              "    padding: 0;\n",
              "    width: 32px;\n",
              "  }\n",
              "\n",
              "  .colab-df-quickchart:hover {\n",
              "    background-color: var(--hover-bg-color);\n",
              "    box-shadow: 0 1px 2px rgba(60, 64, 67, 0.3), 0 1px 3px 1px rgba(60, 64, 67, 0.15);\n",
              "    fill: var(--button-hover-fill-color);\n",
              "  }\n",
              "\n",
              "  .colab-df-quickchart-complete:disabled,\n",
              "  .colab-df-quickchart-complete:disabled:hover {\n",
              "    background-color: var(--disabled-bg-color);\n",
              "    fill: var(--disabled-fill-color);\n",
              "    box-shadow: none;\n",
              "  }\n",
              "\n",
              "  .colab-df-spinner {\n",
              "    border: 2px solid var(--fill-color);\n",
              "    border-color: transparent;\n",
              "    border-bottom-color: var(--fill-color);\n",
              "    animation:\n",
              "      spin 1s steps(1) infinite;\n",
              "  }\n",
              "\n",
              "  @keyframes spin {\n",
              "    0% {\n",
              "      border-color: transparent;\n",
              "      border-bottom-color: var(--fill-color);\n",
              "      border-left-color: var(--fill-color);\n",
              "    }\n",
              "    20% {\n",
              "      border-color: transparent;\n",
              "      border-left-color: var(--fill-color);\n",
              "      border-top-color: var(--fill-color);\n",
              "    }\n",
              "    30% {\n",
              "      border-color: transparent;\n",
              "      border-left-color: var(--fill-color);\n",
              "      border-top-color: var(--fill-color);\n",
              "      border-right-color: var(--fill-color);\n",
              "    }\n",
              "    40% {\n",
              "      border-color: transparent;\n",
              "      border-right-color: var(--fill-color);\n",
              "      border-top-color: var(--fill-color);\n",
              "    }\n",
              "    60% {\n",
              "      border-color: transparent;\n",
              "      border-right-color: var(--fill-color);\n",
              "    }\n",
              "    80% {\n",
              "      border-color: transparent;\n",
              "      border-right-color: var(--fill-color);\n",
              "      border-bottom-color: var(--fill-color);\n",
              "    }\n",
              "    90% {\n",
              "      border-color: transparent;\n",
              "      border-bottom-color: var(--fill-color);\n",
              "    }\n",
              "  }\n",
              "</style>\n",
              "\n",
              "  <script>\n",
              "    async function quickchart(key) {\n",
              "      const quickchartButtonEl =\n",
              "        document.querySelector('#' + key + ' button');\n",
              "      quickchartButtonEl.disabled = true;  // To prevent multiple clicks.\n",
              "      quickchartButtonEl.classList.add('colab-df-spinner');\n",
              "      try {\n",
              "        const charts = await google.colab.kernel.invokeFunction(\n",
              "            'suggestCharts', [key], {});\n",
              "      } catch (error) {\n",
              "        console.error('Error during call to suggestCharts:', error);\n",
              "      }\n",
              "      quickchartButtonEl.classList.remove('colab-df-spinner');\n",
              "      quickchartButtonEl.classList.add('colab-df-quickchart-complete');\n",
              "    }\n",
              "    (() => {\n",
              "      let quickchartButtonEl =\n",
              "        document.querySelector('#df-923fd94a-096b-4242-8352-fe2d1e501319 button');\n",
              "      quickchartButtonEl.style.display =\n",
              "        google.colab.kernel.accessAllowed ? 'block' : 'none';\n",
              "    })();\n",
              "  </script>\n",
              "</div>\n",
              "    </div>\n",
              "  </div>\n"
            ]
          },
          "metadata": {},
          "execution_count": 29
        }
      ],
      "source": [
        "# crop.drop(['label'],axis=1,inplace=True)\n",
        "crop.head()"
      ],
      "id": "dff5caca"
    },
    {
      "cell_type": "markdown",
      "metadata": {
        "id": "a5494675"
      },
      "source": [
        "# Train Test Split"
      ],
      "id": "a5494675"
    },
    {
      "cell_type": "code",
      "execution_count": 30,
      "metadata": {
        "id": "5a049f55"
      },
      "outputs": [],
      "source": [
        "#selection of target columns\n",
        "X = crop.drop(['crop_num','label'],axis=1)\n",
        "y = crop['crop_num']"
      ],
      "id": "5a049f55"
    },
    {
      "cell_type": "code",
      "execution_count": 31,
      "metadata": {
        "colab": {
          "base_uri": "https://localhost:8080/",
          "height": 424
        },
        "id": "9d223a69",
        "outputId": "55cbf33e-476c-42e1-e67b-1aad9180bdca"
      },
      "outputs": [
        {
          "output_type": "execute_result",
          "data": {
            "text/plain": [
              "        N   P   K  temperature   humidity        ph    rainfall\n",
              "0      90  42  43    20.879744  82.002744  6.502985  202.935536\n",
              "1      85  58  41    21.770462  80.319644  7.038096  226.655537\n",
              "2      60  55  44    23.004459  82.320763  7.840207  263.964248\n",
              "3      74  35  40    26.491096  80.158363  6.980401  242.864034\n",
              "4      78  42  42    20.130175  81.604873  7.628473  262.717340\n",
              "...   ...  ..  ..          ...        ...       ...         ...\n",
              "2195  107  34  32    26.774637  66.413269  6.780064  177.774507\n",
              "2196   99  15  27    27.417112  56.636362  6.086922  127.924610\n",
              "2197  118  33  30    24.131797  67.225123  6.362608  173.322839\n",
              "2198  117  32  34    26.272418  52.127394  6.758793  127.175293\n",
              "2199  104  18  30    23.603016  60.396475  6.779833  140.937041\n",
              "\n",
              "[2200 rows x 7 columns]"
            ],
            "text/html": [
              "\n",
              "  <div id=\"df-3e3cb9a4-fd93-4e14-924c-372eab7a1f07\" class=\"colab-df-container\">\n",
              "    <div>\n",
              "<style scoped>\n",
              "    .dataframe tbody tr th:only-of-type {\n",
              "        vertical-align: middle;\n",
              "    }\n",
              "\n",
              "    .dataframe tbody tr th {\n",
              "        vertical-align: top;\n",
              "    }\n",
              "\n",
              "    .dataframe thead th {\n",
              "        text-align: right;\n",
              "    }\n",
              "</style>\n",
              "<table border=\"1\" class=\"dataframe\">\n",
              "  <thead>\n",
              "    <tr style=\"text-align: right;\">\n",
              "      <th></th>\n",
              "      <th>N</th>\n",
              "      <th>P</th>\n",
              "      <th>K</th>\n",
              "      <th>temperature</th>\n",
              "      <th>humidity</th>\n",
              "      <th>ph</th>\n",
              "      <th>rainfall</th>\n",
              "    </tr>\n",
              "  </thead>\n",
              "  <tbody>\n",
              "    <tr>\n",
              "      <th>0</th>\n",
              "      <td>90</td>\n",
              "      <td>42</td>\n",
              "      <td>43</td>\n",
              "      <td>20.879744</td>\n",
              "      <td>82.002744</td>\n",
              "      <td>6.502985</td>\n",
              "      <td>202.935536</td>\n",
              "    </tr>\n",
              "    <tr>\n",
              "      <th>1</th>\n",
              "      <td>85</td>\n",
              "      <td>58</td>\n",
              "      <td>41</td>\n",
              "      <td>21.770462</td>\n",
              "      <td>80.319644</td>\n",
              "      <td>7.038096</td>\n",
              "      <td>226.655537</td>\n",
              "    </tr>\n",
              "    <tr>\n",
              "      <th>2</th>\n",
              "      <td>60</td>\n",
              "      <td>55</td>\n",
              "      <td>44</td>\n",
              "      <td>23.004459</td>\n",
              "      <td>82.320763</td>\n",
              "      <td>7.840207</td>\n",
              "      <td>263.964248</td>\n",
              "    </tr>\n",
              "    <tr>\n",
              "      <th>3</th>\n",
              "      <td>74</td>\n",
              "      <td>35</td>\n",
              "      <td>40</td>\n",
              "      <td>26.491096</td>\n",
              "      <td>80.158363</td>\n",
              "      <td>6.980401</td>\n",
              "      <td>242.864034</td>\n",
              "    </tr>\n",
              "    <tr>\n",
              "      <th>4</th>\n",
              "      <td>78</td>\n",
              "      <td>42</td>\n",
              "      <td>42</td>\n",
              "      <td>20.130175</td>\n",
              "      <td>81.604873</td>\n",
              "      <td>7.628473</td>\n",
              "      <td>262.717340</td>\n",
              "    </tr>\n",
              "    <tr>\n",
              "      <th>...</th>\n",
              "      <td>...</td>\n",
              "      <td>...</td>\n",
              "      <td>...</td>\n",
              "      <td>...</td>\n",
              "      <td>...</td>\n",
              "      <td>...</td>\n",
              "      <td>...</td>\n",
              "    </tr>\n",
              "    <tr>\n",
              "      <th>2195</th>\n",
              "      <td>107</td>\n",
              "      <td>34</td>\n",
              "      <td>32</td>\n",
              "      <td>26.774637</td>\n",
              "      <td>66.413269</td>\n",
              "      <td>6.780064</td>\n",
              "      <td>177.774507</td>\n",
              "    </tr>\n",
              "    <tr>\n",
              "      <th>2196</th>\n",
              "      <td>99</td>\n",
              "      <td>15</td>\n",
              "      <td>27</td>\n",
              "      <td>27.417112</td>\n",
              "      <td>56.636362</td>\n",
              "      <td>6.086922</td>\n",
              "      <td>127.924610</td>\n",
              "    </tr>\n",
              "    <tr>\n",
              "      <th>2197</th>\n",
              "      <td>118</td>\n",
              "      <td>33</td>\n",
              "      <td>30</td>\n",
              "      <td>24.131797</td>\n",
              "      <td>67.225123</td>\n",
              "      <td>6.362608</td>\n",
              "      <td>173.322839</td>\n",
              "    </tr>\n",
              "    <tr>\n",
              "      <th>2198</th>\n",
              "      <td>117</td>\n",
              "      <td>32</td>\n",
              "      <td>34</td>\n",
              "      <td>26.272418</td>\n",
              "      <td>52.127394</td>\n",
              "      <td>6.758793</td>\n",
              "      <td>127.175293</td>\n",
              "    </tr>\n",
              "    <tr>\n",
              "      <th>2199</th>\n",
              "      <td>104</td>\n",
              "      <td>18</td>\n",
              "      <td>30</td>\n",
              "      <td>23.603016</td>\n",
              "      <td>60.396475</td>\n",
              "      <td>6.779833</td>\n",
              "      <td>140.937041</td>\n",
              "    </tr>\n",
              "  </tbody>\n",
              "</table>\n",
              "<p>2200 rows × 7 columns</p>\n",
              "</div>\n",
              "    <div class=\"colab-df-buttons\">\n",
              "\n",
              "  <div class=\"colab-df-container\">\n",
              "    <button class=\"colab-df-convert\" onclick=\"convertToInteractive('df-3e3cb9a4-fd93-4e14-924c-372eab7a1f07')\"\n",
              "            title=\"Convert this dataframe to an interactive table.\"\n",
              "            style=\"display:none;\">\n",
              "\n",
              "  <svg xmlns=\"http://www.w3.org/2000/svg\" height=\"24px\" viewBox=\"0 -960 960 960\">\n",
              "    <path d=\"M120-120v-720h720v720H120Zm60-500h600v-160H180v160Zm220 220h160v-160H400v160Zm0 220h160v-160H400v160ZM180-400h160v-160H180v160Zm440 0h160v-160H620v160ZM180-180h160v-160H180v160Zm440 0h160v-160H620v160Z\"/>\n",
              "  </svg>\n",
              "    </button>\n",
              "\n",
              "  <style>\n",
              "    .colab-df-container {\n",
              "      display:flex;\n",
              "      gap: 12px;\n",
              "    }\n",
              "\n",
              "    .colab-df-convert {\n",
              "      background-color: #E8F0FE;\n",
              "      border: none;\n",
              "      border-radius: 50%;\n",
              "      cursor: pointer;\n",
              "      display: none;\n",
              "      fill: #1967D2;\n",
              "      height: 32px;\n",
              "      padding: 0 0 0 0;\n",
              "      width: 32px;\n",
              "    }\n",
              "\n",
              "    .colab-df-convert:hover {\n",
              "      background-color: #E2EBFA;\n",
              "      box-shadow: 0px 1px 2px rgba(60, 64, 67, 0.3), 0px 1px 3px 1px rgba(60, 64, 67, 0.15);\n",
              "      fill: #174EA6;\n",
              "    }\n",
              "\n",
              "    .colab-df-buttons div {\n",
              "      margin-bottom: 4px;\n",
              "    }\n",
              "\n",
              "    [theme=dark] .colab-df-convert {\n",
              "      background-color: #3B4455;\n",
              "      fill: #D2E3FC;\n",
              "    }\n",
              "\n",
              "    [theme=dark] .colab-df-convert:hover {\n",
              "      background-color: #434B5C;\n",
              "      box-shadow: 0px 1px 3px 1px rgba(0, 0, 0, 0.15);\n",
              "      filter: drop-shadow(0px 1px 2px rgba(0, 0, 0, 0.3));\n",
              "      fill: #FFFFFF;\n",
              "    }\n",
              "  </style>\n",
              "\n",
              "    <script>\n",
              "      const buttonEl =\n",
              "        document.querySelector('#df-3e3cb9a4-fd93-4e14-924c-372eab7a1f07 button.colab-df-convert');\n",
              "      buttonEl.style.display =\n",
              "        google.colab.kernel.accessAllowed ? 'block' : 'none';\n",
              "\n",
              "      async function convertToInteractive(key) {\n",
              "        const element = document.querySelector('#df-3e3cb9a4-fd93-4e14-924c-372eab7a1f07');\n",
              "        const dataTable =\n",
              "          await google.colab.kernel.invokeFunction('convertToInteractive',\n",
              "                                                    [key], {});\n",
              "        if (!dataTable) return;\n",
              "\n",
              "        const docLinkHtml = 'Like what you see? Visit the ' +\n",
              "          '<a target=\"_blank\" href=https://colab.research.google.com/notebooks/data_table.ipynb>data table notebook</a>'\n",
              "          + ' to learn more about interactive tables.';\n",
              "        element.innerHTML = '';\n",
              "        dataTable['output_type'] = 'display_data';\n",
              "        await google.colab.output.renderOutput(dataTable, element);\n",
              "        const docLink = document.createElement('div');\n",
              "        docLink.innerHTML = docLinkHtml;\n",
              "        element.appendChild(docLink);\n",
              "      }\n",
              "    </script>\n",
              "  </div>\n",
              "\n",
              "\n",
              "<div id=\"df-8495c7d9-748d-44ad-9d13-52422c43fadd\">\n",
              "  <button class=\"colab-df-quickchart\" onclick=\"quickchart('df-8495c7d9-748d-44ad-9d13-52422c43fadd')\"\n",
              "            title=\"Suggest charts\"\n",
              "            style=\"display:none;\">\n",
              "\n",
              "<svg xmlns=\"http://www.w3.org/2000/svg\" height=\"24px\"viewBox=\"0 0 24 24\"\n",
              "     width=\"24px\">\n",
              "    <g>\n",
              "        <path d=\"M19 3H5c-1.1 0-2 .9-2 2v14c0 1.1.9 2 2 2h14c1.1 0 2-.9 2-2V5c0-1.1-.9-2-2-2zM9 17H7v-7h2v7zm4 0h-2V7h2v10zm4 0h-2v-4h2v4z\"/>\n",
              "    </g>\n",
              "</svg>\n",
              "  </button>\n",
              "\n",
              "<style>\n",
              "  .colab-df-quickchart {\n",
              "      --bg-color: #E8F0FE;\n",
              "      --fill-color: #1967D2;\n",
              "      --hover-bg-color: #E2EBFA;\n",
              "      --hover-fill-color: #174EA6;\n",
              "      --disabled-fill-color: #AAA;\n",
              "      --disabled-bg-color: #DDD;\n",
              "  }\n",
              "\n",
              "  [theme=dark] .colab-df-quickchart {\n",
              "      --bg-color: #3B4455;\n",
              "      --fill-color: #D2E3FC;\n",
              "      --hover-bg-color: #434B5C;\n",
              "      --hover-fill-color: #FFFFFF;\n",
              "      --disabled-bg-color: #3B4455;\n",
              "      --disabled-fill-color: #666;\n",
              "  }\n",
              "\n",
              "  .colab-df-quickchart {\n",
              "    background-color: var(--bg-color);\n",
              "    border: none;\n",
              "    border-radius: 50%;\n",
              "    cursor: pointer;\n",
              "    display: none;\n",
              "    fill: var(--fill-color);\n",
              "    height: 32px;\n",
              "    padding: 0;\n",
              "    width: 32px;\n",
              "  }\n",
              "\n",
              "  .colab-df-quickchart:hover {\n",
              "    background-color: var(--hover-bg-color);\n",
              "    box-shadow: 0 1px 2px rgba(60, 64, 67, 0.3), 0 1px 3px 1px rgba(60, 64, 67, 0.15);\n",
              "    fill: var(--button-hover-fill-color);\n",
              "  }\n",
              "\n",
              "  .colab-df-quickchart-complete:disabled,\n",
              "  .colab-df-quickchart-complete:disabled:hover {\n",
              "    background-color: var(--disabled-bg-color);\n",
              "    fill: var(--disabled-fill-color);\n",
              "    box-shadow: none;\n",
              "  }\n",
              "\n",
              "  .colab-df-spinner {\n",
              "    border: 2px solid var(--fill-color);\n",
              "    border-color: transparent;\n",
              "    border-bottom-color: var(--fill-color);\n",
              "    animation:\n",
              "      spin 1s steps(1) infinite;\n",
              "  }\n",
              "\n",
              "  @keyframes spin {\n",
              "    0% {\n",
              "      border-color: transparent;\n",
              "      border-bottom-color: var(--fill-color);\n",
              "      border-left-color: var(--fill-color);\n",
              "    }\n",
              "    20% {\n",
              "      border-color: transparent;\n",
              "      border-left-color: var(--fill-color);\n",
              "      border-top-color: var(--fill-color);\n",
              "    }\n",
              "    30% {\n",
              "      border-color: transparent;\n",
              "      border-left-color: var(--fill-color);\n",
              "      border-top-color: var(--fill-color);\n",
              "      border-right-color: var(--fill-color);\n",
              "    }\n",
              "    40% {\n",
              "      border-color: transparent;\n",
              "      border-right-color: var(--fill-color);\n",
              "      border-top-color: var(--fill-color);\n",
              "    }\n",
              "    60% {\n",
              "      border-color: transparent;\n",
              "      border-right-color: var(--fill-color);\n",
              "    }\n",
              "    80% {\n",
              "      border-color: transparent;\n",
              "      border-right-color: var(--fill-color);\n",
              "      border-bottom-color: var(--fill-color);\n",
              "    }\n",
              "    90% {\n",
              "      border-color: transparent;\n",
              "      border-bottom-color: var(--fill-color);\n",
              "    }\n",
              "  }\n",
              "</style>\n",
              "\n",
              "  <script>\n",
              "    async function quickchart(key) {\n",
              "      const quickchartButtonEl =\n",
              "        document.querySelector('#' + key + ' button');\n",
              "      quickchartButtonEl.disabled = true;  // To prevent multiple clicks.\n",
              "      quickchartButtonEl.classList.add('colab-df-spinner');\n",
              "      try {\n",
              "        const charts = await google.colab.kernel.invokeFunction(\n",
              "            'suggestCharts', [key], {});\n",
              "      } catch (error) {\n",
              "        console.error('Error during call to suggestCharts:', error);\n",
              "      }\n",
              "      quickchartButtonEl.classList.remove('colab-df-spinner');\n",
              "      quickchartButtonEl.classList.add('colab-df-quickchart-complete');\n",
              "    }\n",
              "    (() => {\n",
              "      let quickchartButtonEl =\n",
              "        document.querySelector('#df-8495c7d9-748d-44ad-9d13-52422c43fadd button');\n",
              "      quickchartButtonEl.style.display =\n",
              "        google.colab.kernel.accessAllowed ? 'block' : 'none';\n",
              "    })();\n",
              "  </script>\n",
              "</div>\n",
              "    </div>\n",
              "  </div>\n"
            ]
          },
          "metadata": {},
          "execution_count": 31
        }
      ],
      "source": [
        "X"
      ],
      "id": "9d223a69"
    },
    {
      "cell_type": "code",
      "execution_count": 32,
      "metadata": {
        "colab": {
          "base_uri": "https://localhost:8080/"
        },
        "id": "G56fsoyKWNHo",
        "outputId": "588ce058-bd85-40b5-b1bd-4e9577b15aef"
      },
      "outputs": [
        {
          "output_type": "execute_result",
          "data": {
            "text/plain": [
              "(2200, 7)"
            ]
          },
          "metadata": {},
          "execution_count": 32
        }
      ],
      "source": [
        "X.shape"
      ],
      "id": "G56fsoyKWNHo"
    },
    {
      "cell_type": "code",
      "execution_count": 33,
      "metadata": {
        "colab": {
          "base_uri": "https://localhost:8080/"
        },
        "id": "d2601fcf",
        "outputId": "ae185d46-a2dd-423e-eb64-9d03e1229cdb"
      },
      "outputs": [
        {
          "output_type": "execute_result",
          "data": {
            "text/plain": [
              "0        1\n",
              "1        1\n",
              "2        1\n",
              "3        1\n",
              "4        1\n",
              "        ..\n",
              "2195    22\n",
              "2196    22\n",
              "2197    22\n",
              "2198    22\n",
              "2199    22\n",
              "Name: crop_num, Length: 2200, dtype: int64"
            ]
          },
          "metadata": {},
          "execution_count": 33
        }
      ],
      "source": [
        "y"
      ],
      "id": "d2601fcf"
    },
    {
      "cell_type": "code",
      "execution_count": 34,
      "metadata": {
        "colab": {
          "base_uri": "https://localhost:8080/"
        },
        "id": "c561ea31",
        "outputId": "b67fb09c-1738-4769-de7b-7d6c07143df4"
      },
      "outputs": [
        {
          "output_type": "execute_result",
          "data": {
            "text/plain": [
              "(2200,)"
            ]
          },
          "metadata": {},
          "execution_count": 34
        }
      ],
      "source": [
        "y.shape"
      ],
      "id": "c561ea31"
    },
    {
      "cell_type": "code",
      "execution_count": 35,
      "metadata": {
        "colab": {
          "base_uri": "https://localhost:8080/"
        },
        "id": "udzZ4FWHkcqP",
        "outputId": "80dbe565-ff97-42bb-ccd6-12cf8e6bd1d6"
      },
      "outputs": [
        {
          "output_type": "stream",
          "name": "stdout",
          "text": [
            "X shape: (2200, 7)\n",
            "X_train shape: (1540, 7)\n",
            "X_validation shape: (220, 7)\n",
            "X_test shape: (440, 7)\n",
            "y shape: (2200,)\n",
            "y_train shape: (1540,)\n",
            "y_validation shape: (220,)\n",
            "y_test shape: (440,)\n"
          ]
        }
      ],
      "source": [
        "from sklearn.model_selection import train_test_split\n",
        "from sklearn.model_selection import cross_val_score, KFold\n",
        "\n",
        "# Split the data into training, validation, and testing sets\n",
        "# Split the data into training (70%) and temporary (30%)\n",
        "X_train, X_temp, y_train, y_temp = train_test_split(X, y, test_size=0.3, random_state=42)\n",
        "\n",
        "# Split the temporary data into testing (20%) and validation (10%)\n",
        "X_test, X_validation, y_test, y_validation = train_test_split(X_temp, y_temp, test_size=0.333, random_state=42)\n",
        "\n",
        "# Print the shapes of the resulting sets\n",
        "print(\"X shape:\",X.shape)\n",
        "print(\"X_train shape:\", X_train.shape)\n",
        "print(\"X_validation shape:\", X_validation.shape)\n",
        "print(\"X_test shape:\", X_test.shape)\n",
        "\n",
        "print(\"y shape:\",y.shape)\n",
        "print(\"y_train shape:\", y_train.shape)\n",
        "print(\"y_validation shape:\", y_validation.shape)\n",
        "print(\"y_test shape:\", y_test.shape)"
      ],
      "id": "udzZ4FWHkcqP"
    },
    {
      "cell_type": "code",
      "execution_count": 36,
      "metadata": {
        "id": "6774a9dd"
      },
      "outputs": [],
      "source": [
        "#from sklearn.model_selection import train_test_split\n",
        "#X_train, X_test, y_train, y_test = train_test_split(X, y, test_size=0.2, random_state=42)"
      ],
      "id": "6774a9dd"
    },
    {
      "cell_type": "code",
      "execution_count": 37,
      "metadata": {
        "colab": {
          "base_uri": "https://localhost:8080/",
          "height": 424
        },
        "id": "20ec83a7",
        "outputId": "daef761a-c8d2-4f92-be06-1b19dfd2e90b"
      },
      "outputs": [
        {
          "output_type": "execute_result",
          "data": {
            "text/plain": [
              "        N    P    K  temperature   humidity        ph    rainfall\n",
              "1102   21   26   27    27.003155  47.675254  5.699587   95.851183\n",
              "1159   29   35   28    28.347161  53.539031  6.967418   90.402604\n",
              "141    60   44   23    24.794708  70.045567  5.722580   76.728601\n",
              "1004   80   77   49    26.054330  79.396545  5.519088  113.229737\n",
              "2      60   55   44    23.004459  82.320763  7.840207  263.964248\n",
              "...   ...  ...  ...          ...        ...       ...         ...\n",
              "1638   10    5    5    21.213070  91.353492  7.817846  112.983436\n",
              "1095  108   94   47    27.359116  84.546250  6.387431   90.812505\n",
              "1130   11   36   31    27.920633  51.779659  6.475449  100.258567\n",
              "1294   11  124  204    13.429886  80.066340  6.361141   71.400430\n",
              "860    32   78   22    23.970814  62.355576  7.007038   53.409060\n",
              "\n",
              "[1540 rows x 7 columns]"
            ],
            "text/html": [
              "\n",
              "  <div id=\"df-09099dcb-9029-4a03-a922-3e739fb6b98c\" class=\"colab-df-container\">\n",
              "    <div>\n",
              "<style scoped>\n",
              "    .dataframe tbody tr th:only-of-type {\n",
              "        vertical-align: middle;\n",
              "    }\n",
              "\n",
              "    .dataframe tbody tr th {\n",
              "        vertical-align: top;\n",
              "    }\n",
              "\n",
              "    .dataframe thead th {\n",
              "        text-align: right;\n",
              "    }\n",
              "</style>\n",
              "<table border=\"1\" class=\"dataframe\">\n",
              "  <thead>\n",
              "    <tr style=\"text-align: right;\">\n",
              "      <th></th>\n",
              "      <th>N</th>\n",
              "      <th>P</th>\n",
              "      <th>K</th>\n",
              "      <th>temperature</th>\n",
              "      <th>humidity</th>\n",
              "      <th>ph</th>\n",
              "      <th>rainfall</th>\n",
              "    </tr>\n",
              "  </thead>\n",
              "  <tbody>\n",
              "    <tr>\n",
              "      <th>1102</th>\n",
              "      <td>21</td>\n",
              "      <td>26</td>\n",
              "      <td>27</td>\n",
              "      <td>27.003155</td>\n",
              "      <td>47.675254</td>\n",
              "      <td>5.699587</td>\n",
              "      <td>95.851183</td>\n",
              "    </tr>\n",
              "    <tr>\n",
              "      <th>1159</th>\n",
              "      <td>29</td>\n",
              "      <td>35</td>\n",
              "      <td>28</td>\n",
              "      <td>28.347161</td>\n",
              "      <td>53.539031</td>\n",
              "      <td>6.967418</td>\n",
              "      <td>90.402604</td>\n",
              "    </tr>\n",
              "    <tr>\n",
              "      <th>141</th>\n",
              "      <td>60</td>\n",
              "      <td>44</td>\n",
              "      <td>23</td>\n",
              "      <td>24.794708</td>\n",
              "      <td>70.045567</td>\n",
              "      <td>5.722580</td>\n",
              "      <td>76.728601</td>\n",
              "    </tr>\n",
              "    <tr>\n",
              "      <th>1004</th>\n",
              "      <td>80</td>\n",
              "      <td>77</td>\n",
              "      <td>49</td>\n",
              "      <td>26.054330</td>\n",
              "      <td>79.396545</td>\n",
              "      <td>5.519088</td>\n",
              "      <td>113.229737</td>\n",
              "    </tr>\n",
              "    <tr>\n",
              "      <th>2</th>\n",
              "      <td>60</td>\n",
              "      <td>55</td>\n",
              "      <td>44</td>\n",
              "      <td>23.004459</td>\n",
              "      <td>82.320763</td>\n",
              "      <td>7.840207</td>\n",
              "      <td>263.964248</td>\n",
              "    </tr>\n",
              "    <tr>\n",
              "      <th>...</th>\n",
              "      <td>...</td>\n",
              "      <td>...</td>\n",
              "      <td>...</td>\n",
              "      <td>...</td>\n",
              "      <td>...</td>\n",
              "      <td>...</td>\n",
              "      <td>...</td>\n",
              "    </tr>\n",
              "    <tr>\n",
              "      <th>1638</th>\n",
              "      <td>10</td>\n",
              "      <td>5</td>\n",
              "      <td>5</td>\n",
              "      <td>21.213070</td>\n",
              "      <td>91.353492</td>\n",
              "      <td>7.817846</td>\n",
              "      <td>112.983436</td>\n",
              "    </tr>\n",
              "    <tr>\n",
              "      <th>1095</th>\n",
              "      <td>108</td>\n",
              "      <td>94</td>\n",
              "      <td>47</td>\n",
              "      <td>27.359116</td>\n",
              "      <td>84.546250</td>\n",
              "      <td>6.387431</td>\n",
              "      <td>90.812505</td>\n",
              "    </tr>\n",
              "    <tr>\n",
              "      <th>1130</th>\n",
              "      <td>11</td>\n",
              "      <td>36</td>\n",
              "      <td>31</td>\n",
              "      <td>27.920633</td>\n",
              "      <td>51.779659</td>\n",
              "      <td>6.475449</td>\n",
              "      <td>100.258567</td>\n",
              "    </tr>\n",
              "    <tr>\n",
              "      <th>1294</th>\n",
              "      <td>11</td>\n",
              "      <td>124</td>\n",
              "      <td>204</td>\n",
              "      <td>13.429886</td>\n",
              "      <td>80.066340</td>\n",
              "      <td>6.361141</td>\n",
              "      <td>71.400430</td>\n",
              "    </tr>\n",
              "    <tr>\n",
              "      <th>860</th>\n",
              "      <td>32</td>\n",
              "      <td>78</td>\n",
              "      <td>22</td>\n",
              "      <td>23.970814</td>\n",
              "      <td>62.355576</td>\n",
              "      <td>7.007038</td>\n",
              "      <td>53.409060</td>\n",
              "    </tr>\n",
              "  </tbody>\n",
              "</table>\n",
              "<p>1540 rows × 7 columns</p>\n",
              "</div>\n",
              "    <div class=\"colab-df-buttons\">\n",
              "\n",
              "  <div class=\"colab-df-container\">\n",
              "    <button class=\"colab-df-convert\" onclick=\"convertToInteractive('df-09099dcb-9029-4a03-a922-3e739fb6b98c')\"\n",
              "            title=\"Convert this dataframe to an interactive table.\"\n",
              "            style=\"display:none;\">\n",
              "\n",
              "  <svg xmlns=\"http://www.w3.org/2000/svg\" height=\"24px\" viewBox=\"0 -960 960 960\">\n",
              "    <path d=\"M120-120v-720h720v720H120Zm60-500h600v-160H180v160Zm220 220h160v-160H400v160Zm0 220h160v-160H400v160ZM180-400h160v-160H180v160Zm440 0h160v-160H620v160ZM180-180h160v-160H180v160Zm440 0h160v-160H620v160Z\"/>\n",
              "  </svg>\n",
              "    </button>\n",
              "\n",
              "  <style>\n",
              "    .colab-df-container {\n",
              "      display:flex;\n",
              "      gap: 12px;\n",
              "    }\n",
              "\n",
              "    .colab-df-convert {\n",
              "      background-color: #E8F0FE;\n",
              "      border: none;\n",
              "      border-radius: 50%;\n",
              "      cursor: pointer;\n",
              "      display: none;\n",
              "      fill: #1967D2;\n",
              "      height: 32px;\n",
              "      padding: 0 0 0 0;\n",
              "      width: 32px;\n",
              "    }\n",
              "\n",
              "    .colab-df-convert:hover {\n",
              "      background-color: #E2EBFA;\n",
              "      box-shadow: 0px 1px 2px rgba(60, 64, 67, 0.3), 0px 1px 3px 1px rgba(60, 64, 67, 0.15);\n",
              "      fill: #174EA6;\n",
              "    }\n",
              "\n",
              "    .colab-df-buttons div {\n",
              "      margin-bottom: 4px;\n",
              "    }\n",
              "\n",
              "    [theme=dark] .colab-df-convert {\n",
              "      background-color: #3B4455;\n",
              "      fill: #D2E3FC;\n",
              "    }\n",
              "\n",
              "    [theme=dark] .colab-df-convert:hover {\n",
              "      background-color: #434B5C;\n",
              "      box-shadow: 0px 1px 3px 1px rgba(0, 0, 0, 0.15);\n",
              "      filter: drop-shadow(0px 1px 2px rgba(0, 0, 0, 0.3));\n",
              "      fill: #FFFFFF;\n",
              "    }\n",
              "  </style>\n",
              "\n",
              "    <script>\n",
              "      const buttonEl =\n",
              "        document.querySelector('#df-09099dcb-9029-4a03-a922-3e739fb6b98c button.colab-df-convert');\n",
              "      buttonEl.style.display =\n",
              "        google.colab.kernel.accessAllowed ? 'block' : 'none';\n",
              "\n",
              "      async function convertToInteractive(key) {\n",
              "        const element = document.querySelector('#df-09099dcb-9029-4a03-a922-3e739fb6b98c');\n",
              "        const dataTable =\n",
              "          await google.colab.kernel.invokeFunction('convertToInteractive',\n",
              "                                                    [key], {});\n",
              "        if (!dataTable) return;\n",
              "\n",
              "        const docLinkHtml = 'Like what you see? Visit the ' +\n",
              "          '<a target=\"_blank\" href=https://colab.research.google.com/notebooks/data_table.ipynb>data table notebook</a>'\n",
              "          + ' to learn more about interactive tables.';\n",
              "        element.innerHTML = '';\n",
              "        dataTable['output_type'] = 'display_data';\n",
              "        await google.colab.output.renderOutput(dataTable, element);\n",
              "        const docLink = document.createElement('div');\n",
              "        docLink.innerHTML = docLinkHtml;\n",
              "        element.appendChild(docLink);\n",
              "      }\n",
              "    </script>\n",
              "  </div>\n",
              "\n",
              "\n",
              "<div id=\"df-f8465226-5b34-4754-8017-ba0037bacbed\">\n",
              "  <button class=\"colab-df-quickchart\" onclick=\"quickchart('df-f8465226-5b34-4754-8017-ba0037bacbed')\"\n",
              "            title=\"Suggest charts\"\n",
              "            style=\"display:none;\">\n",
              "\n",
              "<svg xmlns=\"http://www.w3.org/2000/svg\" height=\"24px\"viewBox=\"0 0 24 24\"\n",
              "     width=\"24px\">\n",
              "    <g>\n",
              "        <path d=\"M19 3H5c-1.1 0-2 .9-2 2v14c0 1.1.9 2 2 2h14c1.1 0 2-.9 2-2V5c0-1.1-.9-2-2-2zM9 17H7v-7h2v7zm4 0h-2V7h2v10zm4 0h-2v-4h2v4z\"/>\n",
              "    </g>\n",
              "</svg>\n",
              "  </button>\n",
              "\n",
              "<style>\n",
              "  .colab-df-quickchart {\n",
              "      --bg-color: #E8F0FE;\n",
              "      --fill-color: #1967D2;\n",
              "      --hover-bg-color: #E2EBFA;\n",
              "      --hover-fill-color: #174EA6;\n",
              "      --disabled-fill-color: #AAA;\n",
              "      --disabled-bg-color: #DDD;\n",
              "  }\n",
              "\n",
              "  [theme=dark] .colab-df-quickchart {\n",
              "      --bg-color: #3B4455;\n",
              "      --fill-color: #D2E3FC;\n",
              "      --hover-bg-color: #434B5C;\n",
              "      --hover-fill-color: #FFFFFF;\n",
              "      --disabled-bg-color: #3B4455;\n",
              "      --disabled-fill-color: #666;\n",
              "  }\n",
              "\n",
              "  .colab-df-quickchart {\n",
              "    background-color: var(--bg-color);\n",
              "    border: none;\n",
              "    border-radius: 50%;\n",
              "    cursor: pointer;\n",
              "    display: none;\n",
              "    fill: var(--fill-color);\n",
              "    height: 32px;\n",
              "    padding: 0;\n",
              "    width: 32px;\n",
              "  }\n",
              "\n",
              "  .colab-df-quickchart:hover {\n",
              "    background-color: var(--hover-bg-color);\n",
              "    box-shadow: 0 1px 2px rgba(60, 64, 67, 0.3), 0 1px 3px 1px rgba(60, 64, 67, 0.15);\n",
              "    fill: var(--button-hover-fill-color);\n",
              "  }\n",
              "\n",
              "  .colab-df-quickchart-complete:disabled,\n",
              "  .colab-df-quickchart-complete:disabled:hover {\n",
              "    background-color: var(--disabled-bg-color);\n",
              "    fill: var(--disabled-fill-color);\n",
              "    box-shadow: none;\n",
              "  }\n",
              "\n",
              "  .colab-df-spinner {\n",
              "    border: 2px solid var(--fill-color);\n",
              "    border-color: transparent;\n",
              "    border-bottom-color: var(--fill-color);\n",
              "    animation:\n",
              "      spin 1s steps(1) infinite;\n",
              "  }\n",
              "\n",
              "  @keyframes spin {\n",
              "    0% {\n",
              "      border-color: transparent;\n",
              "      border-bottom-color: var(--fill-color);\n",
              "      border-left-color: var(--fill-color);\n",
              "    }\n",
              "    20% {\n",
              "      border-color: transparent;\n",
              "      border-left-color: var(--fill-color);\n",
              "      border-top-color: var(--fill-color);\n",
              "    }\n",
              "    30% {\n",
              "      border-color: transparent;\n",
              "      border-left-color: var(--fill-color);\n",
              "      border-top-color: var(--fill-color);\n",
              "      border-right-color: var(--fill-color);\n",
              "    }\n",
              "    40% {\n",
              "      border-color: transparent;\n",
              "      border-right-color: var(--fill-color);\n",
              "      border-top-color: var(--fill-color);\n",
              "    }\n",
              "    60% {\n",
              "      border-color: transparent;\n",
              "      border-right-color: var(--fill-color);\n",
              "    }\n",
              "    80% {\n",
              "      border-color: transparent;\n",
              "      border-right-color: var(--fill-color);\n",
              "      border-bottom-color: var(--fill-color);\n",
              "    }\n",
              "    90% {\n",
              "      border-color: transparent;\n",
              "      border-bottom-color: var(--fill-color);\n",
              "    }\n",
              "  }\n",
              "</style>\n",
              "\n",
              "  <script>\n",
              "    async function quickchart(key) {\n",
              "      const quickchartButtonEl =\n",
              "        document.querySelector('#' + key + ' button');\n",
              "      quickchartButtonEl.disabled = true;  // To prevent multiple clicks.\n",
              "      quickchartButtonEl.classList.add('colab-df-spinner');\n",
              "      try {\n",
              "        const charts = await google.colab.kernel.invokeFunction(\n",
              "            'suggestCharts', [key], {});\n",
              "      } catch (error) {\n",
              "        console.error('Error during call to suggestCharts:', error);\n",
              "      }\n",
              "      quickchartButtonEl.classList.remove('colab-df-spinner');\n",
              "      quickchartButtonEl.classList.add('colab-df-quickchart-complete');\n",
              "    }\n",
              "    (() => {\n",
              "      let quickchartButtonEl =\n",
              "        document.querySelector('#df-f8465226-5b34-4754-8017-ba0037bacbed button');\n",
              "      quickchartButtonEl.style.display =\n",
              "        google.colab.kernel.accessAllowed ? 'block' : 'none';\n",
              "    })();\n",
              "  </script>\n",
              "</div>\n",
              "    </div>\n",
              "  </div>\n"
            ]
          },
          "metadata": {},
          "execution_count": 37
        }
      ],
      "source": [
        "X_train"
      ],
      "id": "20ec83a7"
    },
    {
      "cell_type": "markdown",
      "metadata": {
        "id": "ab13cdf8"
      },
      "source": [
        "\n",
        "# Scale the features using MinMaxScaler"
      ],
      "id": "ab13cdf8"
    },
    {
      "cell_type": "code",
      "execution_count": 38,
      "metadata": {
        "id": "f19981a7"
      },
      "outputs": [],
      "source": [
        "from sklearn.preprocessing import MinMaxScaler\n",
        "ms = MinMaxScaler()\n",
        "\n",
        "X_train = ms.fit_transform(X_train)\n",
        "X_test = ms.fit_transform(X_test)\n",
        "X_validation = ms.fit_transform(X_validation)"
      ],
      "id": "f19981a7"
    },
    {
      "cell_type": "code",
      "execution_count": 39,
      "metadata": {
        "colab": {
          "base_uri": "https://localhost:8080/"
        },
        "id": "f3f50c64",
        "outputId": "bd762f26-164d-4490-a6c9-718e824fa073"
      },
      "outputs": [
        {
          "output_type": "execute_result",
          "data": {
            "text/plain": [
              "array([[0.15      , 0.15      , 0.11      , ..., 0.38971557, 0.34132491,\n",
              "        0.27135565],\n",
              "       [0.20714286, 0.21428571, 0.115     , ..., 0.45813084, 0.53848884,\n",
              "        0.25177055],\n",
              "       [0.42857143, 0.27857143, 0.09      , ..., 0.65071988, 0.34490059,\n",
              "        0.20261886],\n",
              "       ...,\n",
              "       [0.07857143, 0.22142857, 0.13      , ..., 0.43760347, 0.46198144,\n",
              "        0.28719815],\n",
              "       [0.07857143, 0.85      , 0.995     , ..., 0.76763665, 0.44420505,\n",
              "        0.18346657],\n",
              "       [0.22857143, 0.52142857, 0.085     , ..., 0.56099735, 0.54465022,\n",
              "        0.11879596]])"
            ]
          },
          "metadata": {},
          "execution_count": 39
        }
      ],
      "source": [
        "X_train"
      ],
      "id": "f3f50c64"
    },
    {
      "cell_type": "markdown",
      "metadata": {
        "id": "f773f2ff"
      },
      "source": [
        "# Standarization"
      ],
      "id": "f773f2ff"
    },
    {
      "cell_type": "code",
      "execution_count": 40,
      "metadata": {
        "id": "9099b5ac"
      },
      "outputs": [],
      "source": [
        "# from sklearn.preprocessing import StandardScaler\n",
        "# sc = StandardScaler()\n",
        "\n",
        "\n",
        "# sc.fit(X_train)\n",
        "# X_train = sc.transform(X_train)\n",
        "# X_test = sc.transform(X_test)"
      ],
      "id": "9099b5ac"
    },
    {
      "cell_type": "code",
      "execution_count": 41,
      "metadata": {
        "id": "1f4fd4c5"
      },
      "outputs": [],
      "source": [
        "#X_train"
      ],
      "id": "1f4fd4c5"
    },
    {
      "cell_type": "markdown",
      "metadata": {
        "id": "752a08ae"
      },
      "source": [
        "# Training Models"
      ],
      "id": "752a08ae"
    },
    {
      "cell_type": "code",
      "execution_count": 42,
      "metadata": {
        "colab": {
          "base_uri": "https://localhost:8080/"
        },
        "id": "ac6ef55e",
        "outputId": "5af92807-6702-476f-b245-071674ecbaa6"
      },
      "outputs": [
        {
          "output_type": "stream",
          "name": "stdout",
          "text": [
            "Logistic Regression  with accuracy : 0.9227272727272727\n",
            "Naive Bayes  with accuracy : 0.9931818181818182\n",
            "Support Vector Machine  with accuracy : 0.975\n",
            "K-Nearest Neighbors  with accuracy : 0.9704545454545455\n",
            "Decision Tree  with accuracy : 0.9613636363636363\n",
            "Random Forest  with accuracy : 0.9886363636363636\n",
            "Bagging  with accuracy : 0.9863636363636363\n",
            "AdaBoost  with accuracy : 0.20454545454545456\n",
            "Gradient Boosting  with accuracy : 0.975\n",
            "Extra Trees  with accuracy : 0.8409090909090909\n"
          ]
        }
      ],
      "source": [
        "from sklearn.linear_model import LogisticRegression\n",
        "from sklearn.naive_bayes import GaussianNB\n",
        "from sklearn.svm import SVC\n",
        "from sklearn.neighbors import KNeighborsClassifier\n",
        "from sklearn.tree import DecisionTreeClassifier\n",
        "from sklearn.tree import ExtraTreeClassifier\n",
        "from sklearn.ensemble import RandomForestClassifier\n",
        "from sklearn.ensemble import BaggingClassifier\n",
        "from sklearn.ensemble import GradientBoostingClassifier\n",
        "from sklearn.ensemble import AdaBoostClassifier\n",
        "from sklearn.metrics import accuracy_score\n",
        "from sklearn.metrics import classification_report\n",
        "from sklearn.model_selection import cross_val_score\n",
        "\n",
        "\n",
        "# create instances of all models\n",
        "models = {\n",
        "    'Logistic Regression': LogisticRegression(),\n",
        "    'Naive Bayes': GaussianNB(),\n",
        "    'Support Vector Machine': SVC(),\n",
        "    'K-Nearest Neighbors': KNeighborsClassifier(),\n",
        "    'Decision Tree': DecisionTreeClassifier(),\n",
        "    'Random Forest': RandomForestClassifier(),\n",
        "    'Bagging': BaggingClassifier(),\n",
        "    'AdaBoost': AdaBoostClassifier(),\n",
        "    'Gradient Boosting': GradientBoostingClassifier(),\n",
        "    'Extra Trees': ExtraTreeClassifier(),\n",
        "\n",
        "}\n",
        "\n",
        "\n",
        "for name, md in models.items():\n",
        "    md.fit(X_train,y_train)\n",
        "    ypred = md.predict(X_test)\n",
        "    print(f\"{name}  with accuracy : {accuracy_score(y_test,ypred)}\")"
      ],
      "id": "ac6ef55e"
    },
    {
      "cell_type": "markdown",
      "metadata": {
        "id": "MLC5g8ALPz6J"
      },
      "source": [
        "**Logistic Regression**"
      ],
      "id": "MLC5g8ALPz6J"
    },
    {
      "cell_type": "code",
      "execution_count": 43,
      "metadata": {
        "colab": {
          "base_uri": "https://localhost:8080/"
        },
        "id": "IjNoqJhjRtza",
        "outputId": "2dfa00ee-070f-405a-8830-6d2e984f2ae6"
      },
      "outputs": [
        {
          "output_type": "stream",
          "name": "stdout",
          "text": [
            "Logistic Regression accuracy on test data : 0.9227272727272727\n",
            "              precision    recall  f1-score   support\n",
            "\n",
            "           1       0.73      1.00      0.84        19\n",
            "           2       1.00      0.94      0.97        17\n",
            "           3       0.94      0.70      0.80        23\n",
            "           4       0.95      1.00      0.97        18\n",
            "           5       1.00      1.00      1.00        20\n",
            "           6       1.00      0.74      0.85        27\n",
            "           7       0.88      1.00      0.94        15\n",
            "           8       1.00      1.00      1.00        23\n",
            "           9       1.00      1.00      1.00        22\n",
            "          10       1.00      1.00      1.00        15\n",
            "          11       1.00      1.00      1.00        15\n",
            "          12       0.69      1.00      0.82        20\n",
            "          13       1.00      1.00      1.00        18\n",
            "          14       1.00      0.93      0.96        27\n",
            "          15       0.81      1.00      0.90        13\n",
            "          16       0.81      0.89      0.85        19\n",
            "          17       0.81      1.00      0.90        22\n",
            "          18       1.00      0.52      0.68        25\n",
            "          19       1.00      0.88      0.93        24\n",
            "          20       0.95      1.00      0.98        20\n",
            "          21       1.00      1.00      1.00        20\n",
            "          22       0.95      1.00      0.97        18\n",
            "\n",
            "    accuracy                           0.92       440\n",
            "   macro avg       0.93      0.94      0.93       440\n",
            "weighted avg       0.94      0.92      0.92       440\n",
            "\n"
          ]
        }
      ],
      "source": [
        "LogisticRegression = LogisticRegression()\n",
        "LogisticRegression.fit(X_train,y_train)\n",
        "ypred = LogisticRegression.predict(X_test)\n",
        "print(f\"Logistic Regression accuracy on test data : {accuracy_score(y_test,ypred)}\")\n",
        "print(classification_report(y_test,ypred))"
      ],
      "id": "IjNoqJhjRtza"
    },
    {
      "cell_type": "code",
      "execution_count": 44,
      "metadata": {
        "colab": {
          "base_uri": "https://localhost:8080/"
        },
        "id": "FFiloRtTWk-W",
        "outputId": "35cedb39-db86-43ce-ee17-b9d679cecc9b"
      },
      "outputs": [
        {
          "output_type": "stream",
          "name": "stdout",
          "text": [
            "Logistic Regression accuracy on training data : 0.9428571428571428\n",
            "              precision    recall  f1-score   support\n",
            "\n",
            "           1       0.71      0.99      0.83        72\n",
            "           2       1.00      0.95      0.97        74\n",
            "           3       0.98      0.64      0.77        66\n",
            "           4       0.95      1.00      0.97        72\n",
            "           5       0.97      1.00      0.99        67\n",
            "           6       1.00      0.81      0.89        63\n",
            "           7       0.97      0.97      0.97        75\n",
            "           8       1.00      1.00      1.00        66\n",
            "           9       0.94      1.00      0.97        76\n",
            "          10       1.00      0.96      0.98        77\n",
            "          11       1.00      1.00      1.00        77\n",
            "          12       0.85      1.00      0.92        68\n",
            "          13       1.00      1.00      1.00        74\n",
            "          14       1.00      0.97      0.98        62\n",
            "          15       0.89      0.94      0.91        78\n",
            "          16       0.86      0.92      0.89        74\n",
            "          17       0.92      1.00      0.96        70\n",
            "          18       1.00      0.71      0.83        66\n",
            "          19       1.00      0.84      0.91        63\n",
            "          20       0.90      1.00      0.95        64\n",
            "          21       1.00      1.00      1.00        66\n",
            "          22       1.00      1.00      1.00        70\n",
            "\n",
            "    accuracy                           0.94      1540\n",
            "   macro avg       0.95      0.94      0.94      1540\n",
            "weighted avg       0.95      0.94      0.94      1540\n",
            "\n"
          ]
        }
      ],
      "source": [
        "Xtrain_pred = LogisticRegression.predict(X_train)\n",
        "print(f\"Logistic Regression accuracy on training data : {accuracy_score(y_train,Xtrain_pred)}\")\n",
        "print(classification_report(y_train,Xtrain_pred))"
      ],
      "id": "FFiloRtTWk-W"
    },
    {
      "cell_type": "code",
      "execution_count": 45,
      "metadata": {
        "colab": {
          "base_uri": "https://localhost:8080/"
        },
        "id": "DaiTOqDl6ypH",
        "outputId": "d41dc149-5e34-46e4-89ea-4aff9200cb69"
      },
      "outputs": [
        {
          "output_type": "stream",
          "name": "stdout",
          "text": [
            "Logistic Regression accuracy on validation data : 0.9181818181818182\n",
            "              precision    recall  f1-score   support\n",
            "\n",
            "           1       0.43      1.00      0.60         9\n",
            "           2       1.00      0.89      0.94         9\n",
            "           3       1.00      0.18      0.31        11\n",
            "           4       0.91      1.00      0.95        10\n",
            "           5       1.00      1.00      1.00        13\n",
            "           6       1.00      0.70      0.82        10\n",
            "           7       1.00      1.00      1.00        10\n",
            "           8       1.00      1.00      1.00        11\n",
            "           9       1.00      1.00      1.00         2\n",
            "          10       1.00      1.00      1.00         8\n",
            "          11       1.00      1.00      1.00         8\n",
            "          12       0.86      1.00      0.92        12\n",
            "          13       1.00      1.00      1.00         8\n",
            "          14       1.00      1.00      1.00        11\n",
            "          15       0.82      1.00      0.90         9\n",
            "          16       1.00      0.71      0.83         7\n",
            "          17       1.00      1.00      1.00         8\n",
            "          18       1.00      0.78      0.88         9\n",
            "          19       1.00      0.92      0.96        13\n",
            "          20       0.94      1.00      0.97        16\n",
            "          21       1.00      1.00      1.00        14\n",
            "          22       1.00      1.00      1.00        12\n",
            "\n",
            "    accuracy                           0.92       220\n",
            "   macro avg       0.95      0.92      0.91       220\n",
            "weighted avg       0.95      0.92      0.91       220\n",
            "\n"
          ]
        }
      ],
      "source": [
        "Xval_pred = LogisticRegression.predict(X_validation)\n",
        "print(f\"Logistic Regression accuracy on validation data : {accuracy_score(y_validation,Xval_pred)}\")\n",
        "print(classification_report(y_validation,Xval_pred))"
      ],
      "id": "DaiTOqDl6ypH"
    },
    {
      "cell_type": "code",
      "execution_count": 46,
      "metadata": {
        "colab": {
          "base_uri": "https://localhost:8080/"
        },
        "id": "xyrm-KJ1iguO",
        "outputId": "523e3dd9-42f3-4813-a12e-b905cc0c2b88"
      },
      "outputs": [
        {
          "output_type": "execute_result",
          "data": {
            "text/plain": [
              "array([0.95      , 0.96590909, 0.94772727, 0.96818182, 0.94318182])"
            ]
          },
          "metadata": {},
          "execution_count": 46
        }
      ],
      "source": [
        "# Cross validation score (Logistic Regression)\n",
        "score = cross_val_score(LogisticRegression, X, y,cv=5)\n",
        "score"
      ],
      "id": "xyrm-KJ1iguO"
    },
    {
      "cell_type": "markdown",
      "metadata": {
        "id": "0n7N_vEuQpO0"
      },
      "source": [
        "**Gaussian Naive Bayes**"
      ],
      "id": "0n7N_vEuQpO0"
    },
    {
      "cell_type": "code",
      "execution_count": 47,
      "metadata": {
        "colab": {
          "base_uri": "https://localhost:8080/"
        },
        "id": "Axkk0_bhX2Er",
        "outputId": "4cea1a4c-02aa-4a3f-ad5a-666fe570c5b7"
      },
      "outputs": [
        {
          "output_type": "stream",
          "name": "stdout",
          "text": [
            "Naive Bayes accuracy on test data : 0.9931818181818182\n",
            "              precision    recall  f1-score   support\n",
            "\n",
            "           1       1.00      0.84      0.91        19\n",
            "           2       1.00      1.00      1.00        17\n",
            "           3       0.88      1.00      0.94        23\n",
            "           4       1.00      1.00      1.00        18\n",
            "           5       1.00      1.00      1.00        20\n",
            "           6       1.00      1.00      1.00        27\n",
            "           7       1.00      1.00      1.00        15\n",
            "           8       1.00      1.00      1.00        23\n",
            "           9       1.00      1.00      1.00        22\n",
            "          10       1.00      1.00      1.00        15\n",
            "          11       1.00      1.00      1.00        15\n",
            "          12       1.00      1.00      1.00        20\n",
            "          13       1.00      1.00      1.00        18\n",
            "          14       1.00      1.00      1.00        27\n",
            "          15       1.00      1.00      1.00        13\n",
            "          16       1.00      1.00      1.00        19\n",
            "          17       1.00      1.00      1.00        22\n",
            "          18       1.00      1.00      1.00        25\n",
            "          19       1.00      1.00      1.00        24\n",
            "          20       1.00      1.00      1.00        20\n",
            "          21       1.00      1.00      1.00        20\n",
            "          22       1.00      1.00      1.00        18\n",
            "\n",
            "    accuracy                           0.99       440\n",
            "   macro avg       0.99      0.99      0.99       440\n",
            "weighted avg       0.99      0.99      0.99       440\n",
            "\n"
          ]
        }
      ],
      "source": [
        "NaiveBayes = GaussianNB()\n",
        "NaiveBayes.fit(X_train,y_train)\n",
        "ypred = NaiveBayes.predict(X_test)\n",
        "print(f\"Naive Bayes accuracy on test data : {accuracy_score(y_test,ypred)}\")\n",
        "print(classification_report(y_test,ypred))"
      ],
      "id": "Axkk0_bhX2Er"
    },
    {
      "cell_type": "code",
      "execution_count": 48,
      "metadata": {
        "colab": {
          "base_uri": "https://localhost:8080/"
        },
        "id": "rumXYoz3X6QZ",
        "outputId": "96ca7ff9-eb00-401f-ebd2-0a15d4c4b0e3"
      },
      "outputs": [
        {
          "output_type": "stream",
          "name": "stdout",
          "text": [
            "Naive Bayes accuracy on training data : 0.9954545454545455\n",
            "              precision    recall  f1-score   support\n",
            "\n",
            "           1       0.97      0.94      0.96        72\n",
            "           2       1.00      0.99      0.99        74\n",
            "           3       0.94      0.97      0.96        66\n",
            "           4       0.99      1.00      0.99        72\n",
            "           5       1.00      1.00      1.00        67\n",
            "           6       1.00      1.00      1.00        63\n",
            "           7       1.00      1.00      1.00        75\n",
            "           8       1.00      1.00      1.00        66\n",
            "           9       1.00      1.00      1.00        76\n",
            "          10       1.00      1.00      1.00        77\n",
            "          11       1.00      1.00      1.00        77\n",
            "          12       1.00      1.00      1.00        68\n",
            "          13       1.00      1.00      1.00        74\n",
            "          14       1.00      1.00      1.00        62\n",
            "          15       1.00      1.00      1.00        78\n",
            "          16       1.00      1.00      1.00        74\n",
            "          17       1.00      1.00      1.00        70\n",
            "          18       1.00      1.00      1.00        66\n",
            "          19       1.00      1.00      1.00        63\n",
            "          20       1.00      1.00      1.00        64\n",
            "          21       1.00      1.00      1.00        66\n",
            "          22       1.00      1.00      1.00        70\n",
            "\n",
            "    accuracy                           1.00      1540\n",
            "   macro avg       1.00      1.00      1.00      1540\n",
            "weighted avg       1.00      1.00      1.00      1540\n",
            "\n"
          ]
        }
      ],
      "source": [
        "Xtrain_pred = NaiveBayes.predict(X_train)\n",
        "print(f\"Naive Bayes accuracy on training data : {accuracy_score(y_train,Xtrain_pred)}\")\n",
        "print(classification_report(y_train,Xtrain_pred))"
      ],
      "id": "rumXYoz3X6QZ"
    },
    {
      "cell_type": "code",
      "execution_count": 49,
      "metadata": {
        "colab": {
          "base_uri": "https://localhost:8080/"
        },
        "id": "TMyIR0IY-1kf",
        "outputId": "6f18bf67-17d5-4aa1-f033-e6f9a3799abd"
      },
      "outputs": [
        {
          "output_type": "stream",
          "name": "stdout",
          "text": [
            "Naive Bayes accuracy on validation data : 0.9863636363636363\n",
            "              precision    recall  f1-score   support\n",
            "\n",
            "           1       1.00      1.00      1.00         9\n",
            "           2       1.00      1.00      1.00         9\n",
            "           3       1.00      0.91      0.95        11\n",
            "           4       1.00      1.00      1.00        10\n",
            "           5       0.87      1.00      0.93        13\n",
            "           6       1.00      1.00      1.00        10\n",
            "           7       1.00      1.00      1.00        10\n",
            "           8       1.00      1.00      1.00        11\n",
            "           9       1.00      1.00      1.00         2\n",
            "          10       1.00      1.00      1.00         8\n",
            "          11       1.00      1.00      1.00         8\n",
            "          12       1.00      1.00      1.00        12\n",
            "          13       1.00      1.00      1.00         8\n",
            "          14       1.00      0.82      0.90        11\n",
            "          15       1.00      1.00      1.00         9\n",
            "          16       1.00      1.00      1.00         7\n",
            "          17       1.00      1.00      1.00         8\n",
            "          18       1.00      1.00      1.00         9\n",
            "          19       1.00      1.00      1.00        13\n",
            "          20       1.00      1.00      1.00        16\n",
            "          21       1.00      1.00      1.00        14\n",
            "          22       0.92      1.00      0.96        12\n",
            "\n",
            "    accuracy                           0.99       220\n",
            "   macro avg       0.99      0.99      0.99       220\n",
            "weighted avg       0.99      0.99      0.99       220\n",
            "\n"
          ]
        }
      ],
      "source": [
        "Xval_pred = NaiveBayes.predict(X_validation)\n",
        "print(f\"Naive Bayes accuracy on validation data : {accuracy_score(y_validation,Xval_pred)}\")\n",
        "print(classification_report(y_validation,Xval_pred))"
      ],
      "id": "TMyIR0IY-1kf"
    },
    {
      "cell_type": "code",
      "execution_count": 50,
      "metadata": {
        "colab": {
          "base_uri": "https://localhost:8080/"
        },
        "id": "b5yM2CyOmudl",
        "outputId": "06734158-a576-4c22-adc4-f2ddf95815de"
      },
      "outputs": [
        {
          "output_type": "execute_result",
          "data": {
            "text/plain": [
              "array([0.99772727, 0.99545455, 0.99545455, 0.99545455, 0.99090909])"
            ]
          },
          "metadata": {},
          "execution_count": 50
        }
      ],
      "source": [
        "# Cross validation score (Naive Bayes)\n",
        "score = cross_val_score(NaiveBayes, X, y,cv=5)\n",
        "score"
      ],
      "id": "b5yM2CyOmudl"
    },
    {
      "cell_type": "markdown",
      "metadata": {
        "id": "6tEbptRCQtsA"
      },
      "source": [
        "**Support Vector Machine**"
      ],
      "id": "6tEbptRCQtsA"
    },
    {
      "cell_type": "code",
      "execution_count": 51,
      "metadata": {
        "colab": {
          "base_uri": "https://localhost:8080/"
        },
        "id": "UCN44OqAYfQI",
        "outputId": "bac140a3-a91c-4ffa-a2b6-b73cd265eadf"
      },
      "outputs": [
        {
          "output_type": "stream",
          "name": "stdout",
          "text": [
            "Support Vector Machine accuracy on test data : 0.975\n",
            "              precision    recall  f1-score   support\n",
            "\n",
            "           1       1.00      0.68      0.81        19\n",
            "           2       1.00      0.94      0.97        17\n",
            "           3       0.79      1.00      0.88        23\n",
            "           4       0.95      1.00      0.97        18\n",
            "           5       1.00      1.00      1.00        20\n",
            "           6       1.00      1.00      1.00        27\n",
            "           7       1.00      1.00      1.00        15\n",
            "           8       1.00      1.00      1.00        23\n",
            "           9       1.00      1.00      1.00        22\n",
            "          10       1.00      1.00      1.00        15\n",
            "          11       1.00      1.00      1.00        15\n",
            "          12       1.00      1.00      1.00        20\n",
            "          13       1.00      1.00      1.00        18\n",
            "          14       1.00      1.00      1.00        27\n",
            "          15       0.81      1.00      0.90        13\n",
            "          16       1.00      0.89      0.94        19\n",
            "          17       1.00      1.00      1.00        22\n",
            "          18       1.00      0.96      0.98        25\n",
            "          19       1.00      0.96      0.98        24\n",
            "          20       0.95      1.00      0.98        20\n",
            "          21       1.00      1.00      1.00        20\n",
            "          22       1.00      1.00      1.00        18\n",
            "\n",
            "    accuracy                           0.97       440\n",
            "   macro avg       0.98      0.97      0.97       440\n",
            "weighted avg       0.98      0.97      0.97       440\n",
            "\n"
          ]
        }
      ],
      "source": [
        "SVM = SVC()\n",
        "SVM.fit(X_train,y_train)\n",
        "ypred = SVM.predict(X_test)\n",
        "print(f\"Support Vector Machine accuracy on test data : {accuracy_score(y_test,ypred)}\")\n",
        "print(classification_report(y_test,ypred))"
      ],
      "id": "UCN44OqAYfQI"
    },
    {
      "cell_type": "code",
      "execution_count": 52,
      "metadata": {
        "colab": {
          "base_uri": "https://localhost:8080/"
        },
        "id": "JM7jhnYJYhmB",
        "outputId": "2e7d2b9e-b5f2-46ba-cdea-117d9250825f"
      },
      "outputs": [
        {
          "output_type": "stream",
          "name": "stdout",
          "text": [
            "Support Vector Machine accuracy on training data : 0.9857142857142858\n",
            "              precision    recall  f1-score   support\n",
            "\n",
            "           1       0.98      0.83      0.90        72\n",
            "           2       1.00      0.97      0.99        74\n",
            "           3       0.83      0.98      0.90        66\n",
            "           4       0.97      1.00      0.99        72\n",
            "           5       1.00      1.00      1.00        67\n",
            "           6       1.00      0.98      0.99        63\n",
            "           7       1.00      1.00      1.00        75\n",
            "           8       1.00      1.00      1.00        66\n",
            "           9       1.00      1.00      1.00        76\n",
            "          10       1.00      1.00      1.00        77\n",
            "          11       1.00      1.00      1.00        77\n",
            "          12       0.99      1.00      0.99        68\n",
            "          13       1.00      1.00      1.00        74\n",
            "          14       1.00      1.00      1.00        62\n",
            "          15       0.95      0.99      0.97        78\n",
            "          16       0.99      0.97      0.98        74\n",
            "          17       1.00      1.00      1.00        70\n",
            "          18       1.00      0.95      0.98        66\n",
            "          19       1.00      1.00      1.00        63\n",
            "          20       1.00      1.00      1.00        64\n",
            "          21       1.00      1.00      1.00        66\n",
            "          22       1.00      1.00      1.00        70\n",
            "\n",
            "    accuracy                           0.99      1540\n",
            "   macro avg       0.99      0.99      0.99      1540\n",
            "weighted avg       0.99      0.99      0.99      1540\n",
            "\n"
          ]
        }
      ],
      "source": [
        "Xpred = SVM.predict(X_train)\n",
        "print(f\"Support Vector Machine accuracy on training data : {accuracy_score(y_train,Xpred)}\")\n",
        "print(classification_report(y_train,Xpred))"
      ],
      "id": "JM7jhnYJYhmB"
    },
    {
      "cell_type": "code",
      "execution_count": 53,
      "metadata": {
        "colab": {
          "base_uri": "https://localhost:8080/"
        },
        "id": "QwAYJv9P_dzv",
        "outputId": "d746786a-2231-4630-fd4d-9ce131b43efd"
      },
      "outputs": [
        {
          "output_type": "stream",
          "name": "stdout",
          "text": [
            "Support Vector Machine accuracy on validation data : 0.95\n",
            "              precision    recall  f1-score   support\n",
            "\n",
            "           1       0.56      1.00      0.72         9\n",
            "           2       1.00      0.89      0.94         9\n",
            "           3       1.00      0.55      0.71        11\n",
            "           4       0.91      1.00      0.95        10\n",
            "           5       1.00      1.00      1.00        13\n",
            "           6       1.00      0.80      0.89        10\n",
            "           7       1.00      1.00      1.00        10\n",
            "           8       1.00      1.00      1.00        11\n",
            "           9       1.00      1.00      1.00         2\n",
            "          10       1.00      1.00      1.00         8\n",
            "          11       1.00      1.00      1.00         8\n",
            "          12       1.00      1.00      1.00        12\n",
            "          13       1.00      1.00      1.00         8\n",
            "          14       1.00      1.00      1.00        11\n",
            "          15       0.90      1.00      0.95         9\n",
            "          16       0.88      1.00      0.93         7\n",
            "          17       1.00      1.00      1.00         8\n",
            "          18       1.00      0.89      0.94         9\n",
            "          19       1.00      0.85      0.92        13\n",
            "          20       0.94      1.00      0.97        16\n",
            "          21       1.00      1.00      1.00        14\n",
            "          22       1.00      1.00      1.00        12\n",
            "\n",
            "    accuracy                           0.95       220\n",
            "   macro avg       0.96      0.95      0.95       220\n",
            "weighted avg       0.97      0.95      0.95       220\n",
            "\n"
          ]
        }
      ],
      "source": [
        "Xval_pred = SVM.predict(X_validation)\n",
        "print(f\"Support Vector Machine accuracy on validation data : {accuracy_score(y_validation,Xval_pred)}\")\n",
        "print(classification_report(y_validation,Xval_pred))"
      ],
      "id": "QwAYJv9P_dzv"
    },
    {
      "cell_type": "code",
      "execution_count": 54,
      "metadata": {
        "colab": {
          "base_uri": "https://localhost:8080/"
        },
        "id": "byy4vYsKnFql",
        "outputId": "674c8ffd-c848-4240-bc2e-e6d8daff8883"
      },
      "outputs": [
        {
          "output_type": "execute_result",
          "data": {
            "text/plain": [
              "array([0.98409091, 0.97954545, 0.97954545, 0.97272727, 0.975     ])"
            ]
          },
          "metadata": {},
          "execution_count": 54
        }
      ],
      "source": [
        "# Cross validation score (SVM)\n",
        "score = cross_val_score(SVM, X, y,cv=5)\n",
        "score"
      ],
      "id": "byy4vYsKnFql"
    },
    {
      "cell_type": "markdown",
      "metadata": {
        "id": "6mVfxJ1dQ5P9"
      },
      "source": [
        "**K-nearest Neighbor**"
      ],
      "id": "6mVfxJ1dQ5P9"
    },
    {
      "cell_type": "code",
      "execution_count": 55,
      "metadata": {
        "colab": {
          "base_uri": "https://localhost:8080/"
        },
        "id": "bP6xMTgmbMmr",
        "outputId": "7c3175fa-6375-4a66-d3ad-1d350a43aad6"
      },
      "outputs": [
        {
          "output_type": "stream",
          "name": "stdout",
          "text": [
            "K-Nearest Neighbor accuracy on test data : 0.9704545454545455\n",
            "              precision    recall  f1-score   support\n",
            "\n",
            "           1       1.00      0.79      0.88        19\n",
            "           2       1.00      0.82      0.90        17\n",
            "           3       0.82      1.00      0.90        23\n",
            "           4       0.86      1.00      0.92        18\n",
            "           5       1.00      1.00      1.00        20\n",
            "           6       1.00      0.96      0.98        27\n",
            "           7       1.00      1.00      1.00        15\n",
            "           8       1.00      1.00      1.00        23\n",
            "           9       1.00      1.00      1.00        22\n",
            "          10       1.00      1.00      1.00        15\n",
            "          11       1.00      1.00      1.00        15\n",
            "          12       1.00      1.00      1.00        20\n",
            "          13       1.00      1.00      1.00        18\n",
            "          14       1.00      1.00      1.00        27\n",
            "          15       0.87      1.00      0.93        13\n",
            "          16       0.90      0.95      0.92        19\n",
            "          17       1.00      1.00      1.00        22\n",
            "          18       1.00      0.96      0.98        25\n",
            "          19       1.00      0.88      0.93        24\n",
            "          20       0.95      1.00      0.98        20\n",
            "          21       1.00      1.00      1.00        20\n",
            "          22       1.00      1.00      1.00        18\n",
            "\n",
            "    accuracy                           0.97       440\n",
            "   macro avg       0.97      0.97      0.97       440\n",
            "weighted avg       0.97      0.97      0.97       440\n",
            "\n"
          ]
        }
      ],
      "source": [
        "KNN = KNeighborsClassifier()\n",
        "KNN.fit(X_train,y_train)\n",
        "ypred = KNN.predict(X_test)\n",
        "print(f\"K-Nearest Neighbor accuracy on test data : {accuracy_score(y_test,ypred)}\")\n",
        "print(classification_report(y_test,ypred))"
      ],
      "id": "bP6xMTgmbMmr"
    },
    {
      "cell_type": "code",
      "execution_count": 56,
      "metadata": {
        "colab": {
          "base_uri": "https://localhost:8080/"
        },
        "id": "Y3lxvrGgb1VI",
        "outputId": "a4ee31e4-f43f-4502-eecb-7ac7d4283903"
      },
      "outputs": [
        {
          "output_type": "stream",
          "name": "stdout",
          "text": [
            " K-Nearest Neighbor accuracy on training data : 0.9889610389610389\n",
            "              precision    recall  f1-score   support\n",
            "\n",
            "           1       1.00      0.85      0.92        72\n",
            "           2       1.00      0.97      0.99        74\n",
            "           3       0.86      1.00      0.92        66\n",
            "           4       0.97      1.00      0.99        72\n",
            "           5       1.00      1.00      1.00        67\n",
            "           6       1.00      1.00      1.00        63\n",
            "           7       1.00      1.00      1.00        75\n",
            "           8       1.00      1.00      1.00        66\n",
            "           9       1.00      1.00      1.00        76\n",
            "          10       1.00      1.00      1.00        77\n",
            "          11       1.00      1.00      1.00        77\n",
            "          12       0.99      1.00      0.99        68\n",
            "          13       1.00      1.00      1.00        74\n",
            "          14       1.00      1.00      1.00        62\n",
            "          15       0.99      0.97      0.98        78\n",
            "          16       0.97      1.00      0.99        74\n",
            "          17       1.00      1.00      1.00        70\n",
            "          18       1.00      0.97      0.98        66\n",
            "          19       1.00      1.00      1.00        63\n",
            "          20       1.00      1.00      1.00        64\n",
            "          21       1.00      1.00      1.00        66\n",
            "          22       1.00      1.00      1.00        70\n",
            "\n",
            "    accuracy                           0.99      1540\n",
            "   macro avg       0.99      0.99      0.99      1540\n",
            "weighted avg       0.99      0.99      0.99      1540\n",
            "\n"
          ]
        }
      ],
      "source": [
        "Xpred = KNN.predict(X_train)\n",
        "print(f\" K-Nearest Neighbor accuracy on training data : {accuracy_score(y_train,Xpred)}\")\n",
        "print(classification_report(y_train,Xpred))"
      ],
      "id": "Y3lxvrGgb1VI"
    },
    {
      "cell_type": "code",
      "execution_count": 57,
      "metadata": {
        "colab": {
          "base_uri": "https://localhost:8080/"
        },
        "id": "EiOlc1C-ADt3",
        "outputId": "f0cc1423-ba79-465a-d957-16cd95aadcaa"
      },
      "outputs": [
        {
          "output_type": "stream",
          "name": "stdout",
          "text": [
            "K-Nearest Neighbor accuracy on validation data : 0.9363636363636364\n",
            "              precision    recall  f1-score   support\n",
            "\n",
            "           1       0.53      0.89      0.67         9\n",
            "           2       1.00      1.00      1.00         9\n",
            "           3       0.71      0.45      0.56        11\n",
            "           4       1.00      1.00      1.00        10\n",
            "           5       1.00      1.00      1.00        13\n",
            "           6       1.00      0.90      0.95        10\n",
            "           7       1.00      1.00      1.00        10\n",
            "           8       1.00      1.00      1.00        11\n",
            "           9       1.00      1.00      1.00         2\n",
            "          10       1.00      1.00      1.00         8\n",
            "          11       1.00      1.00      1.00         8\n",
            "          12       1.00      1.00      1.00        12\n",
            "          13       1.00      1.00      1.00         8\n",
            "          14       1.00      1.00      1.00        11\n",
            "          15       0.75      1.00      0.86         9\n",
            "          16       0.86      0.86      0.86         7\n",
            "          17       1.00      1.00      1.00         8\n",
            "          18       1.00      0.78      0.88         9\n",
            "          19       1.00      0.85      0.92        13\n",
            "          20       0.94      1.00      0.97        16\n",
            "          21       1.00      1.00      1.00        14\n",
            "          22       1.00      0.92      0.96        12\n",
            "\n",
            "    accuracy                           0.94       220\n",
            "   macro avg       0.95      0.94      0.94       220\n",
            "weighted avg       0.95      0.94      0.94       220\n",
            "\n"
          ]
        }
      ],
      "source": [
        "Xval_pred = KNN.predict(X_validation)\n",
        "print(f\"K-Nearest Neighbor accuracy on validation data : {accuracy_score(y_validation,Xval_pred)}\")\n",
        "print(classification_report(y_validation,Xval_pred))"
      ],
      "id": "EiOlc1C-ADt3"
    },
    {
      "cell_type": "code",
      "execution_count": 58,
      "metadata": {
        "colab": {
          "base_uri": "https://localhost:8080/"
        },
        "id": "YAHoCWyxnMcx",
        "outputId": "84c87e35-4a19-4735-e770-48d001d5f4b4"
      },
      "outputs": [
        {
          "output_type": "execute_result",
          "data": {
            "text/plain": [
              "array([0.97272727, 0.98181818, 0.97954545, 0.97954545, 0.97954545])"
            ]
          },
          "metadata": {},
          "execution_count": 58
        }
      ],
      "source": [
        "# Cross validation score (KNN)\n",
        "score = cross_val_score(KNN, X, y,cv=5)\n",
        "score"
      ],
      "id": "YAHoCWyxnMcx"
    },
    {
      "cell_type": "markdown",
      "metadata": {
        "id": "mTE42y99QE2Q"
      },
      "source": [
        "**Decision Tree Classifier**"
      ],
      "id": "mTE42y99QE2Q"
    },
    {
      "cell_type": "code",
      "execution_count": 59,
      "metadata": {
        "colab": {
          "base_uri": "https://localhost:8080/"
        },
        "id": "q4W3VPsTccNO",
        "outputId": "c4211e96-e5ce-4606-9be9-bdee7f2cf28e"
      },
      "outputs": [
        {
          "output_type": "stream",
          "name": "stdout",
          "text": [
            "Decision Tree accuracy on test data : 0.9636363636363636\n",
            "              precision    recall  f1-score   support\n",
            "\n",
            "           1       0.78      0.74      0.76        19\n",
            "           2       0.80      0.94      0.86        17\n",
            "           3       0.86      0.78      0.82        23\n",
            "           4       0.86      1.00      0.92        18\n",
            "           5       1.00      1.00      1.00        20\n",
            "           6       0.96      1.00      0.98        27\n",
            "           7       1.00      1.00      1.00        15\n",
            "           8       1.00      1.00      1.00        23\n",
            "           9       1.00      1.00      1.00        22\n",
            "          10       1.00      1.00      1.00        15\n",
            "          11       1.00      1.00      1.00        15\n",
            "          12       1.00      1.00      1.00        20\n",
            "          13       1.00      1.00      1.00        18\n",
            "          14       1.00      1.00      1.00        27\n",
            "          15       1.00      1.00      1.00        13\n",
            "          16       0.95      1.00      0.97        19\n",
            "          17       1.00      0.91      0.95        22\n",
            "          18       1.00      0.96      0.98        25\n",
            "          19       1.00      1.00      1.00        24\n",
            "          20       1.00      1.00      1.00        20\n",
            "          21       1.00      0.90      0.95        20\n",
            "          22       1.00      1.00      1.00        18\n",
            "\n",
            "    accuracy                           0.96       440\n",
            "   macro avg       0.96      0.96      0.96       440\n",
            "weighted avg       0.97      0.96      0.96       440\n",
            "\n"
          ]
        }
      ],
      "source": [
        "DecisionTree = DecisionTreeClassifier()\n",
        "DecisionTree.fit(X_train,y_train)\n",
        "ypred = DecisionTree.predict(X_test)\n",
        "print(f\"Decision Tree accuracy on test data : {accuracy_score(y_test,ypred)}\")\n",
        "print(classification_report(y_test,ypred))\n"
      ],
      "id": "q4W3VPsTccNO"
    },
    {
      "cell_type": "code",
      "execution_count": 60,
      "metadata": {
        "colab": {
          "base_uri": "https://localhost:8080/"
        },
        "id": "zdVJtP5acd-I",
        "outputId": "3c9418b8-fbe8-4664-d153-a93a6d3b1d02"
      },
      "outputs": [
        {
          "output_type": "stream",
          "name": "stdout",
          "text": [
            "Decision Tree accuracy on training data : 1.0\n",
            "              precision    recall  f1-score   support\n",
            "\n",
            "           1       1.00      1.00      1.00        72\n",
            "           2       1.00      1.00      1.00        74\n",
            "           3       1.00      1.00      1.00        66\n",
            "           4       1.00      1.00      1.00        72\n",
            "           5       1.00      1.00      1.00        67\n",
            "           6       1.00      1.00      1.00        63\n",
            "           7       1.00      1.00      1.00        75\n",
            "           8       1.00      1.00      1.00        66\n",
            "           9       1.00      1.00      1.00        76\n",
            "          10       1.00      1.00      1.00        77\n",
            "          11       1.00      1.00      1.00        77\n",
            "          12       1.00      1.00      1.00        68\n",
            "          13       1.00      1.00      1.00        74\n",
            "          14       1.00      1.00      1.00        62\n",
            "          15       1.00      1.00      1.00        78\n",
            "          16       1.00      1.00      1.00        74\n",
            "          17       1.00      1.00      1.00        70\n",
            "          18       1.00      1.00      1.00        66\n",
            "          19       1.00      1.00      1.00        63\n",
            "          20       1.00      1.00      1.00        64\n",
            "          21       1.00      1.00      1.00        66\n",
            "          22       1.00      1.00      1.00        70\n",
            "\n",
            "    accuracy                           1.00      1540\n",
            "   macro avg       1.00      1.00      1.00      1540\n",
            "weighted avg       1.00      1.00      1.00      1540\n",
            "\n"
          ]
        }
      ],
      "source": [
        "Xpred = DecisionTree.predict(X_train)\n",
        "print(f\"Decision Tree accuracy on training data : {accuracy_score(y_train,Xpred)}\")\n",
        "print(classification_report(y_train,Xpred))"
      ],
      "id": "zdVJtP5acd-I"
    },
    {
      "cell_type": "code",
      "execution_count": 61,
      "metadata": {
        "colab": {
          "base_uri": "https://localhost:8080/"
        },
        "id": "zWkaEsWxDDzV",
        "outputId": "421088f6-d060-4c1b-a8eb-edf7325d12eb"
      },
      "outputs": [
        {
          "output_type": "stream",
          "name": "stdout",
          "text": [
            "Decision Tree accuracy on validation data : 0.9045454545454545\n",
            "              precision    recall  f1-score   support\n",
            "\n",
            "           1       0.64      1.00      0.78         9\n",
            "           2       0.78      0.78      0.78         9\n",
            "           3       0.67      0.55      0.60        11\n",
            "           4       1.00      1.00      1.00        10\n",
            "           5       0.72      1.00      0.84        13\n",
            "           6       1.00      1.00      1.00        10\n",
            "           7       1.00      1.00      1.00        10\n",
            "           8       1.00      1.00      1.00        11\n",
            "           9       1.00      1.00      1.00         2\n",
            "          10       1.00      0.38      0.55         8\n",
            "          11       1.00      1.00      1.00         8\n",
            "          12       1.00      1.00      1.00        12\n",
            "          13       1.00      1.00      1.00         8\n",
            "          14       0.67      0.55      0.60        11\n",
            "          15       0.90      1.00      0.95         9\n",
            "          16       1.00      0.86      0.92         7\n",
            "          17       1.00      0.75      0.86         8\n",
            "          18       1.00      0.89      0.94         9\n",
            "          19       0.93      1.00      0.96        13\n",
            "          20       1.00      1.00      1.00        16\n",
            "          21       1.00      1.00      1.00        14\n",
            "          22       0.92      1.00      0.96        12\n",
            "\n",
            "    accuracy                           0.90       220\n",
            "   macro avg       0.92      0.90      0.90       220\n",
            "weighted avg       0.91      0.90      0.90       220\n",
            "\n"
          ]
        }
      ],
      "source": [
        "Xval_pred = DecisionTree.predict(X_validation)\n",
        "print(f\"Decision Tree accuracy on validation data : {accuracy_score(y_validation,Xval_pred)}\")\n",
        "print(classification_report(y_validation,Xval_pred))"
      ],
      "id": "zWkaEsWxDDzV"
    },
    {
      "cell_type": "code",
      "execution_count": 62,
      "metadata": {
        "colab": {
          "base_uri": "https://localhost:8080/"
        },
        "id": "L5-BkoImhYA0",
        "outputId": "bd24deb2-b7aa-4450-be4a-37290492c29e"
      },
      "outputs": [
        {
          "output_type": "execute_result",
          "data": {
            "text/plain": [
              "array([0.99318182, 0.98409091, 0.99090909, 0.99090909, 0.98636364])"
            ]
          },
          "metadata": {},
          "execution_count": 62
        }
      ],
      "source": [
        "# Cross validation score (Decision Tree)\n",
        "score = cross_val_score(DecisionTree, X, y,cv=5)\n",
        "score"
      ],
      "id": "L5-BkoImhYA0"
    },
    {
      "cell_type": "markdown",
      "metadata": {
        "id": "elTA3gDvRRvt"
      },
      "source": [
        "**Random Forest**"
      ],
      "id": "elTA3gDvRRvt"
    },
    {
      "cell_type": "code",
      "execution_count": 63,
      "metadata": {
        "colab": {
          "base_uri": "https://localhost:8080/"
        },
        "id": "uWIBg6r0dBCm",
        "outputId": "69311f70-f0ac-4a83-a122-e112c6e6327c"
      },
      "outputs": [
        {
          "output_type": "stream",
          "name": "stdout",
          "text": [
            "Random Forest accuracy on test data : 0.990909090909091\n",
            "              precision    recall  f1-score   support\n",
            "\n",
            "           1       1.00      0.79      0.88        19\n",
            "           2       1.00      1.00      1.00        17\n",
            "           3       0.85      1.00      0.92        23\n",
            "           4       1.00      1.00      1.00        18\n",
            "           5       1.00      1.00      1.00        20\n",
            "           6       1.00      1.00      1.00        27\n",
            "           7       1.00      1.00      1.00        15\n",
            "           8       1.00      1.00      1.00        23\n",
            "           9       1.00      1.00      1.00        22\n",
            "          10       1.00      1.00      1.00        15\n",
            "          11       1.00      1.00      1.00        15\n",
            "          12       1.00      1.00      1.00        20\n",
            "          13       1.00      1.00      1.00        18\n",
            "          14       1.00      1.00      1.00        27\n",
            "          15       1.00      1.00      1.00        13\n",
            "          16       1.00      1.00      1.00        19\n",
            "          17       1.00      1.00      1.00        22\n",
            "          18       1.00      1.00      1.00        25\n",
            "          19       1.00      1.00      1.00        24\n",
            "          20       1.00      1.00      1.00        20\n",
            "          21       1.00      1.00      1.00        20\n",
            "          22       1.00      1.00      1.00        18\n",
            "\n",
            "    accuracy                           0.99       440\n",
            "   macro avg       0.99      0.99      0.99       440\n",
            "weighted avg       0.99      0.99      0.99       440\n",
            "\n"
          ]
        }
      ],
      "source": [
        "RandomForest = RandomForestClassifier()\n",
        "RandomForest.fit(X_train,y_train)\n",
        "ypred = RandomForest.predict(X_test)\n",
        "print(f\"Random Forest accuracy on test data : {accuracy_score(y_test,ypred)}\")\n",
        "print(classification_report(y_test,ypred))\n",
        "\n"
      ],
      "id": "uWIBg6r0dBCm"
    },
    {
      "cell_type": "code",
      "execution_count": 64,
      "metadata": {
        "colab": {
          "base_uri": "https://localhost:8080/"
        },
        "id": "p3ZVRCAYdC09",
        "outputId": "5df77742-c2ad-48ef-e709-b3e0cb50c08c"
      },
      "outputs": [
        {
          "output_type": "stream",
          "name": "stdout",
          "text": [
            "Random Forest accuracy on training data : 1.0\n",
            "              precision    recall  f1-score   support\n",
            "\n",
            "           1       1.00      1.00      1.00        72\n",
            "           2       1.00      1.00      1.00        74\n",
            "           3       1.00      1.00      1.00        66\n",
            "           4       1.00      1.00      1.00        72\n",
            "           5       1.00      1.00      1.00        67\n",
            "           6       1.00      1.00      1.00        63\n",
            "           7       1.00      1.00      1.00        75\n",
            "           8       1.00      1.00      1.00        66\n",
            "           9       1.00      1.00      1.00        76\n",
            "          10       1.00      1.00      1.00        77\n",
            "          11       1.00      1.00      1.00        77\n",
            "          12       1.00      1.00      1.00        68\n",
            "          13       1.00      1.00      1.00        74\n",
            "          14       1.00      1.00      1.00        62\n",
            "          15       1.00      1.00      1.00        78\n",
            "          16       1.00      1.00      1.00        74\n",
            "          17       1.00      1.00      1.00        70\n",
            "          18       1.00      1.00      1.00        66\n",
            "          19       1.00      1.00      1.00        63\n",
            "          20       1.00      1.00      1.00        64\n",
            "          21       1.00      1.00      1.00        66\n",
            "          22       1.00      1.00      1.00        70\n",
            "\n",
            "    accuracy                           1.00      1540\n",
            "   macro avg       1.00      1.00      1.00      1540\n",
            "weighted avg       1.00      1.00      1.00      1540\n",
            "\n"
          ]
        }
      ],
      "source": [
        "Xpred = RandomForest.predict(X_train)\n",
        "print(f\"Random Forest accuracy on training data : {accuracy_score(y_train,Xpred)}\")\n",
        "print(classification_report(y_train,Xpred))"
      ],
      "id": "p3ZVRCAYdC09"
    },
    {
      "cell_type": "code",
      "execution_count": 65,
      "metadata": {
        "colab": {
          "base_uri": "https://localhost:8080/"
        },
        "id": "tTYdGw9eDpuJ",
        "outputId": "7d4941eb-f6b6-43e4-f3c9-f5681bd9dc75"
      },
      "outputs": [
        {
          "output_type": "stream",
          "name": "stdout",
          "text": [
            "Randon Forest accuracy on validation data : 0.9772727272727273\n",
            "              precision    recall  f1-score   support\n",
            "\n",
            "           1       0.64      1.00      0.78         9\n",
            "           2       1.00      1.00      1.00         9\n",
            "           3       1.00      0.55      0.71        11\n",
            "           4       1.00      1.00      1.00        10\n",
            "           5       1.00      1.00      1.00        13\n",
            "           6       1.00      1.00      1.00        10\n",
            "           7       1.00      1.00      1.00        10\n",
            "           8       1.00      1.00      1.00        11\n",
            "           9       1.00      1.00      1.00         2\n",
            "          10       1.00      1.00      1.00         8\n",
            "          11       1.00      1.00      1.00         8\n",
            "          12       1.00      1.00      1.00        12\n",
            "          13       1.00      1.00      1.00         8\n",
            "          14       1.00      1.00      1.00        11\n",
            "          15       1.00      1.00      1.00         9\n",
            "          16       1.00      1.00      1.00         7\n",
            "          17       1.00      1.00      1.00         8\n",
            "          18       1.00      1.00      1.00         9\n",
            "          19       1.00      1.00      1.00        13\n",
            "          20       1.00      1.00      1.00        16\n",
            "          21       1.00      1.00      1.00        14\n",
            "          22       1.00      1.00      1.00        12\n",
            "\n",
            "    accuracy                           0.98       220\n",
            "   macro avg       0.98      0.98      0.98       220\n",
            "weighted avg       0.99      0.98      0.98       220\n",
            "\n"
          ]
        }
      ],
      "source": [
        "Xval_pred = RandomForest.predict(X_validation)\n",
        "print(f\"Randon Forest accuracy on validation data : {accuracy_score(y_validation,Xval_pred)}\")\n",
        "print(classification_report(y_validation,Xval_pred))"
      ],
      "id": "tTYdGw9eDpuJ"
    },
    {
      "cell_type": "code",
      "execution_count": 66,
      "metadata": {
        "colab": {
          "base_uri": "https://localhost:8080/"
        },
        "id": "i3_XkFNGnYlG",
        "outputId": "047f211d-8715-4d8d-bdc7-220a015dd18b"
      },
      "outputs": [
        {
          "output_type": "execute_result",
          "data": {
            "text/plain": [
              "array([0.99545455, 0.99318182, 0.99545455, 0.99545455, 0.98863636])"
            ]
          },
          "metadata": {},
          "execution_count": 66
        }
      ],
      "source": [
        "# Cross validation score (Random Forest)\n",
        "score = cross_val_score(RandomForest, X, y,cv=5)\n",
        "score"
      ],
      "id": "i3_XkFNGnYlG"
    },
    {
      "cell_type": "markdown",
      "metadata": {
        "id": "mMzeFpUERao6"
      },
      "source": [
        "**Gradient Boosting Classifier**"
      ],
      "id": "mMzeFpUERao6"
    },
    {
      "cell_type": "code",
      "execution_count": 67,
      "metadata": {
        "colab": {
          "base_uri": "https://localhost:8080/"
        },
        "id": "fpVUOpxCdjSR",
        "outputId": "897f5dfb-c72b-47ed-f851-402e3d7776e8"
      },
      "outputs": [
        {
          "output_type": "stream",
          "name": "stdout",
          "text": [
            "Gradient boosting Classifier accuracy on test data : 0.975\n",
            "              precision    recall  f1-score   support\n",
            "\n",
            "           1       0.94      0.79      0.86        19\n",
            "           2       1.00      0.88      0.94        17\n",
            "           3       0.85      0.96      0.90        23\n",
            "           4       0.90      1.00      0.95        18\n",
            "           5       1.00      0.95      0.97        20\n",
            "           6       0.96      1.00      0.98        27\n",
            "           7       1.00      1.00      1.00        15\n",
            "           8       1.00      1.00      1.00        23\n",
            "           9       1.00      1.00      1.00        22\n",
            "          10       1.00      1.00      1.00        15\n",
            "          11       1.00      1.00      1.00        15\n",
            "          12       0.95      1.00      0.98        20\n",
            "          13       1.00      1.00      1.00        18\n",
            "          14       1.00      1.00      1.00        27\n",
            "          15       1.00      1.00      1.00        13\n",
            "          16       1.00      1.00      1.00        19\n",
            "          17       1.00      0.91      0.95        22\n",
            "          18       0.93      1.00      0.96        25\n",
            "          19       1.00      0.96      0.98        24\n",
            "          20       1.00      1.00      1.00        20\n",
            "          21       1.00      1.00      1.00        20\n",
            "          22       1.00      1.00      1.00        18\n",
            "\n",
            "    accuracy                           0.97       440\n",
            "   macro avg       0.98      0.97      0.98       440\n",
            "weighted avg       0.98      0.97      0.97       440\n",
            "\n"
          ]
        }
      ],
      "source": [
        "GradientBoosting = GradientBoostingClassifier()\n",
        "GradientBoosting.fit(X_train,y_train)\n",
        "ypred = GradientBoosting.predict(X_test)\n",
        "print(f\"Gradient boosting Classifier accuracy on test data : {accuracy_score(y_test,ypred)}\")\n",
        "print(classification_report(y_test,ypred))\n"
      ],
      "id": "fpVUOpxCdjSR"
    },
    {
      "cell_type": "code",
      "execution_count": 68,
      "metadata": {
        "colab": {
          "base_uri": "https://localhost:8080/"
        },
        "id": "jDkCFtHUdknd",
        "outputId": "6db62a74-8105-407b-c5ab-3407fadc4684"
      },
      "outputs": [
        {
          "output_type": "stream",
          "name": "stdout",
          "text": [
            "Gradient Boosting accuracy on training data : 1.0\n",
            "              precision    recall  f1-score   support\n",
            "\n",
            "           1       1.00      1.00      1.00        72\n",
            "           2       1.00      1.00      1.00        74\n",
            "           3       1.00      1.00      1.00        66\n",
            "           4       1.00      1.00      1.00        72\n",
            "           5       1.00      1.00      1.00        67\n",
            "           6       1.00      1.00      1.00        63\n",
            "           7       1.00      1.00      1.00        75\n",
            "           8       1.00      1.00      1.00        66\n",
            "           9       1.00      1.00      1.00        76\n",
            "          10       1.00      1.00      1.00        77\n",
            "          11       1.00      1.00      1.00        77\n",
            "          12       1.00      1.00      1.00        68\n",
            "          13       1.00      1.00      1.00        74\n",
            "          14       1.00      1.00      1.00        62\n",
            "          15       1.00      1.00      1.00        78\n",
            "          16       1.00      1.00      1.00        74\n",
            "          17       1.00      1.00      1.00        70\n",
            "          18       1.00      1.00      1.00        66\n",
            "          19       1.00      1.00      1.00        63\n",
            "          20       1.00      1.00      1.00        64\n",
            "          21       1.00      1.00      1.00        66\n",
            "          22       1.00      1.00      1.00        70\n",
            "\n",
            "    accuracy                           1.00      1540\n",
            "   macro avg       1.00      1.00      1.00      1540\n",
            "weighted avg       1.00      1.00      1.00      1540\n",
            "\n"
          ]
        }
      ],
      "source": [
        "\n",
        "Xpred = GradientBoosting.predict(X_train)\n",
        "print(f\"Gradient Boosting accuracy on training data : {accuracy_score(y_train,Xpred)}\")\n",
        "print(classification_report(y_train,Xpred))"
      ],
      "id": "jDkCFtHUdknd"
    },
    {
      "cell_type": "code",
      "execution_count": 69,
      "metadata": {
        "colab": {
          "base_uri": "https://localhost:8080/"
        },
        "id": "EqgR3c--Dzc9",
        "outputId": "0a71c036-67be-464c-bd17-7dfc2ab0c32e"
      },
      "outputs": [
        {
          "output_type": "stream",
          "name": "stdout",
          "text": [
            "GradientBoosting accuracy on validation data : 0.9181818181818182\n",
            "              precision    recall  f1-score   support\n",
            "\n",
            "           1       0.60      1.00      0.75         9\n",
            "           2       1.00      0.89      0.94         9\n",
            "           3       1.00      0.45      0.62        11\n",
            "           4       0.91      1.00      0.95        10\n",
            "           5       1.00      1.00      1.00        13\n",
            "           6       1.00      1.00      1.00        10\n",
            "           7       0.77      1.00      0.87        10\n",
            "           8       1.00      1.00      1.00        11\n",
            "           9       1.00      1.00      1.00         2\n",
            "          10       1.00      0.88      0.93         8\n",
            "          11       1.00      1.00      1.00         8\n",
            "          12       1.00      0.92      0.96        12\n",
            "          13       1.00      1.00      1.00         8\n",
            "          14       0.92      1.00      0.96        11\n",
            "          15       0.88      0.78      0.82         9\n",
            "          16       0.70      1.00      0.82         7\n",
            "          17       1.00      0.62      0.77         8\n",
            "          18       0.78      0.78      0.78         9\n",
            "          19       0.92      0.92      0.92        13\n",
            "          20       1.00      0.94      0.97        16\n",
            "          21       1.00      1.00      1.00        14\n",
            "          22       1.00      1.00      1.00        12\n",
            "\n",
            "    accuracy                           0.92       220\n",
            "   macro avg       0.93      0.92      0.91       220\n",
            "weighted avg       0.94      0.92      0.92       220\n",
            "\n"
          ]
        }
      ],
      "source": [
        "Xval_pred = GradientBoosting.predict(X_validation)\n",
        "print(f\"GradientBoosting accuracy on validation data : {accuracy_score(y_validation,Xval_pred)}\")\n",
        "print(classification_report(y_validation,Xval_pred))"
      ],
      "id": "EqgR3c--Dzc9"
    },
    {
      "cell_type": "code",
      "execution_count": 70,
      "metadata": {
        "colab": {
          "base_uri": "https://localhost:8080/"
        },
        "id": "fyKvsqdLniI2",
        "outputId": "def56bb7-6d59-4365-857a-02028f4f7faa"
      },
      "outputs": [
        {
          "output_type": "execute_result",
          "data": {
            "text/plain": [
              "array([0.99090909, 0.98863636, 0.99318182, 0.99545455, 0.98636364])"
            ]
          },
          "metadata": {},
          "execution_count": 70
        }
      ],
      "source": [
        "# Cross validation score (Gradient Boosting Classifier)\n",
        "score = cross_val_score(GradientBoosting, X, y,cv=5)\n",
        "score"
      ],
      "id": "fyKvsqdLniI2"
    },
    {
      "cell_type": "code",
      "execution_count": 71,
      "metadata": {
        "colab": {
          "base_uri": "https://localhost:8080/"
        },
        "id": "4659be4d",
        "outputId": "7d7cb3f4-45d4-436c-8325-57cbbec64a61"
      },
      "outputs": [
        {
          "output_type": "execute_result",
          "data": {
            "text/plain": [
              "0.990909090909091"
            ]
          },
          "metadata": {},
          "execution_count": 71
        }
      ],
      "source": [
        "rfc = RandomForestClassifier()\n",
        "rfc.fit(X_train,y_train)\n",
        "ypred = rfc.predict(X_test)\n",
        "accuracy_score(y_test,ypred)"
      ],
      "id": "4659be4d"
    },
    {
      "cell_type": "markdown",
      "metadata": {
        "id": "859d9922"
      },
      "source": [
        "# Predictive System"
      ],
      "id": "859d9922"
    },
    {
      "cell_type": "code",
      "execution_count": 72,
      "metadata": {
        "id": "17f3a3fe"
      },
      "outputs": [],
      "source": [
        "def recommendation(N,P,k,temperature,humidity,ph,rainfall):\n",
        "    features = np.array([[N,P,k,temperature,humidity,ph,rainfall]])\n",
        "    transformed_features = ms.fit_transform(features)\n",
        "    #transformed_features = sc.fit_transform(transformed_features)\n",
        "    prediction = rfc.predict(transformed_features).reshape(1,-1)\n",
        "\n",
        "    return prediction[0]"
      ],
      "id": "17f3a3fe"
    },
    {
      "cell_type": "code",
      "execution_count": 73,
      "metadata": {
        "colab": {
          "base_uri": "https://localhost:8080/"
        },
        "id": "64ffd9d3",
        "outputId": "c9f4dfc5-90b6-42f3-aa61-df7d83eb0972"
      },
      "outputs": [
        {
          "output_type": "stream",
          "name": "stdout",
          "text": [
            "Muskmelon is a best crop to be cultivated \n"
          ]
        }
      ],
      "source": [
        "N = 20\n",
        "P = 70\n",
        "k = 40\n",
        "temperature = 40.0\n",
        "humidity = 100\n",
        "ph = 6\n",
        "rainfall = 10\n",
        "\n",
        "predict = recommendation(N,P,k,temperature,humidity,ph,rainfall)\n",
        "\n",
        "\n",
        "crop_dict = {1: \"Rice\", 2: \"Maize\", 3: \"Jute\", 4: \"Cotton\", 5: \"Coconut\", 6: \"Papaya\", 7: \"Orange\",\n",
        "                 8: \"Apple\", 9: \"Muskmelon\", 10: \"Watermelon\", 11: \"Grapes\", 12: \"Mango\", 13: \"Banana\",\n",
        "                 14: \"Pomegranate\", 15: \"Lentil\", 16: \"Blackgram\", 17: \"Mungbean\", 18: \"Mothbeans\",\n",
        "                 19: \"Pigeonpeas\", 20: \"Kidneybeans\", 21: \"Chickpea\", 22: \"Coffee\"}\n",
        "\n",
        "if predict[0] in crop_dict:\n",
        "    crop = crop_dict[predict[0]]\n",
        "    print(\"{} is a best crop to be cultivated \".format(crop))\n",
        "else:\n",
        "    print(\"Sorry are not able to recommend a proper crop for this environment\")"
      ],
      "id": "64ffd9d3"
    },
    {
      "cell_type": "code",
      "execution_count": 74,
      "metadata": {
        "id": "P-c3QzAkUlr4"
      },
      "outputs": [],
      "source": [
        "import pickle\n",
        "\n",
        "# Save models and scalers using pickle\n",
        "pickle.dump(rfc, open('model.pkl', 'wb'))\n",
        "pickle.dump(ms, open('minmaxscaler.pkl', 'wb'))\n",
        "#pickle.dump(sc, open('standscaler.pkl', 'wb'))"
      ],
      "id": "P-c3QzAkUlr4"
    }
  ],
  "metadata": {
    "colab": {
      "provenance": []
    },
    "kernelspec": {
      "display_name": "Python 3 (ipykernel)",
      "language": "python",
      "name": "python3"
    },
    "language_info": {
      "codemirror_mode": {
        "name": "ipython",
        "version": 3
      },
      "file_extension": ".py",
      "mimetype": "text/x-python",
      "name": "python",
      "nbconvert_exporter": "python",
      "pygments_lexer": "ipython3",
      "version": "3.9.12"
    }
  },
  "nbformat": 4,
  "nbformat_minor": 5
}